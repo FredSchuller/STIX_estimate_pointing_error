{
 "cells": [
  {
   "cell_type": "markdown",
   "metadata": {},
   "source": [
    "# Automatic comparison of STIX and AIA images"
   ]
  },
  {
   "cell_type": "markdown",
   "metadata": {},
   "source": [
    "The aim of this script is to take as input the FITS files with STIX images and then downloading, processing and doing cutout of AIA 1600 or AIA 1700 images\n",
    "\n",
    "This code is thought to be working with the REPROJ virtual environment"
   ]
  },
  {
   "cell_type": "code",
   "execution_count": null,
   "metadata": {},
   "outputs": [],
   "source": []
  },
  {
   "cell_type": "markdown",
   "metadata": {},
   "source": [
    "### Imports and functions"
   ]
  },
  {
   "cell_type": "code",
   "execution_count": 1,
   "metadata": {},
   "outputs": [],
   "source": [
    "import astropy.units as u\n",
    "import glob\n",
    "import os\n",
    "import numpy as np\n",
    "import matplotlib.pyplot as plt\n",
    "import pandas as pd\n",
    "\n",
    "from aiapy.calibrate import fix_observer_location, normalize_exposure, register, update_pointing\n",
    "from astropy.coordinates import SkyCoord\n",
    "from astropy.time import Time\n",
    "\n",
    "from sunpy.coordinates import Helioprojective\n",
    "from sunpy.coordinates.ephemeris import get_earth\n",
    "from sunpy.coordinates.frames import HeliocentricEarthEcliptic, HeliographicStonyhurst\n",
    "from sunpy.map import Map, all_coordinates_from_map, make_fitswcs_header\n",
    "from sunpy.net import attrs as a\n",
    "from sunpy.net import Fido"
   ]
  },
  {
   "cell_type": "code",
   "execution_count": 2,
   "metadata": {},
   "outputs": [],
   "source": [
    "plt.rcParams.update({'font.size': 14})"
   ]
  },
  {
   "cell_type": "code",
   "execution_count": 3,
   "metadata": {},
   "outputs": [],
   "source": [
    "def download_aia(peak_time, wavelength, email, prep = True,\n",
    "                           folder_store=''):\n",
    "    \"\"\"\n",
    "    Download the AIA map\n",
    "    \"\"\"\n",
    "\n",
    "    # JSOC email\n",
    "    #jsoc_email = os.environ[email]\n",
    "\n",
    "    # Define starting and ending time of the interval\n",
    "    # for searching the AIA map (default 12 seconds)\n",
    "    dt = 12\n",
    "    time_start = Time(peak_time)-dt*u.s\n",
    "    time_end = Time(peak_time)+dt*u.s\n",
    "\n",
    "    # Search for the data\n",
    "    query = Fido.search(#a.Instrument.aia,\n",
    "                    #a.Physobs.intensity,\n",
    "                    #a.jsoc.Series.aia_lev1_uv_24s,\n",
    "                    #a.jsoc.Notify(jsoc_email),\n",
    "                    #a.jsoc.Segment.image,\n",
    "                    #a.Wavelength(wavelength*u.angstrom),\n",
    "                    #a.Time(time_start, time_end)\n",
    "                    a.Time(time_start, time_end),\n",
    "                    a.Wavelength(wavelength*u.angstrom),\n",
    "                    a.Sample(48*u.s),\n",
    "                    a.jsoc.Series.aia_lev1_uv_24s,\n",
    "                    a.jsoc.Notify(email),\n",
    "                    a.jsoc.Segment.image,\n",
    "                    )\n",
    "    \n",
    "    # Download the data\n",
    "    file_downloaded = Fido.fetch(query[0][0], path=folder_store)\n",
    "    #if file_downloaded == []:\n",
    "    #    print('No data found. We try to download the data from ROB now...')\n",
    "    #    file_downloaded = Fido.fetch(query[0][0], site='ROB', path=folder_store)\n",
    "    map = Map(file_downloaded)\n",
    "\n",
    "    # If perp == True, then process the map\n",
    "    if prep == True:\n",
    "        map = process_aia(map)\n",
    "\n",
    "    return map"
   ]
  },
  {
   "cell_type": "code",
   "execution_count": 4,
   "metadata": {},
   "outputs": [],
   "source": [
    "def process_aia(map):\n",
    "    \"\"\"\n",
    "    Process the AIA map to level 1.5 and\n",
    "    update the pointing information in the header.\n",
    "    \"\"\"\n",
    "\n",
    "    # Calibrate the map\n",
    "    map = register(update_pointing(map))\n",
    "    map = normalize_exposure(map)\n",
    "    map = fix_observer_location(map)\n",
    "\n",
    "    return map"
   ]
  },
  {
   "cell_type": "code",
   "execution_count": 5,
   "metadata": {},
   "outputs": [],
   "source": [
    "def reproject_aia2so(aia_map, stix_map, out_shape = (1024, 1024)):\n",
    "    \"\"\"\n",
    "    Reproject the AIA map to the Solar Orbiter view\n",
    "    \"\"\"\n",
    "\n",
    "    # Get the coordinates of the center of the STIX map in arcsec\n",
    "    all_coords = all_coordinates_from_map(stix_map)\n",
    "    # get the coordinates of the center of the map\n",
    "    center = SkyCoord(all_coords.Tx.mean(), all_coords.Ty.mean(), frame=stix_map.coordinate_frame)\n",
    "    mapcenter = [center.Tx.value, center.Ty.value]\n",
    "\n",
    "    # Define the reference coordinate\n",
    "    ref_coord = SkyCoord(\n",
    "                     mapcenter[0]*u.arcsec, mapcenter[1]*u.arcsec,\n",
    "                     #0*u.arcsec, 0*u.arcsec,\n",
    "                     frame='helioprojective', \n",
    "                     obstime=stix_map.date, \n",
    "                     observer=stix_map.observer_coordinate)\n",
    "\n",
    "\n",
    "    # Reference pixel in the AIA map\n",
    "    #ref_pix = stix_map.world_to_pixel(center)\n",
    "\n",
    "    # Distance AIA and SO to the Sun\n",
    "    dist_aia = aia_map.observer_coordinate.radius.value\n",
    "    dist_so  = stix_map.observer_coordinate.radius.value\n",
    "    factor = dist_aia / dist_so\n",
    "    pixel_size = [float(aia_map.scale[0]/u.arcsec*u.pixel) * factor, \n",
    "                  float(aia_map.scale[1]/u.arcsec*u.pixel) * factor]\n",
    "\n",
    "    # Create a FITS WCS header for the reference coordinate and frame\n",
    "    header = make_fitswcs_header(\n",
    "        out_shape,\n",
    "        ref_coord,\n",
    "        scale = pixel_size*u.arcsec/u.pixel\n",
    "        #reference_pixel = ref_pix*u.pix\n",
    "        )\n",
    "\n",
    "    # Reproject the AIA map\n",
    "    map = aia_map.reproject_to(header)\n",
    "    \n",
    "    return map, mapcenter"
   ]
  },
  {
   "cell_type": "code",
   "execution_count": 6,
   "metadata": {},
   "outputs": [],
   "source": [
    "def hgs2hpc(hsg_coord, date, observer):\n",
    "    '''\n",
    "    This function takes as an input the Heliographic Stonyhurts coordinates\n",
    "    and returns the Helioprojective coordinates as observed by Earth.\n",
    "     - hsg_coord must be a 2D array [lon (deg), lat (deg)]\n",
    "     - date of the observation\n",
    "     - observer must be the result of map.observer_coordinate (of an AIA map)\n",
    "    '''\n",
    "\n",
    "    # SkyCoord of the input coordinates\n",
    "    hsg_skycoord = SkyCoord(hsg_coord[0]*u.deg, \n",
    "                            hsg_coord[1]*u.deg, \n",
    "                            #obstime=date,\n",
    "                            frame=HeliographicStonyhurst(obstime=date))\n",
    "\n",
    "    # Transform to Helioprojective cartesian\n",
    "    hpc_coord = hsg_skycoord.transform_to(Helioprojective(obstime=date,\n",
    "                                          observer=observer))\n",
    "\n",
    "    return hpc_coord"
   ]
  },
  {
   "cell_type": "markdown",
   "metadata": {},
   "source": [
    "### Parameters"
   ]
  },
  {
   "cell_type": "code",
   "execution_count": 62,
   "metadata": {},
   "outputs": [],
   "source": [
    "# Folder containing the STIX maps\n",
    "# folder_stix = '/home/afbattaglia/Documents/ETHZ/PhD/Codes/automatic_STIX-AIA_location_comparison/STIX-maps/'\n",
    "folder_stix = '/net/galilei/work2/fschuller/data/STIX-maps/'\n",
    "# working on sylvaner:\n",
    "folder_stix = '/work2/fschuller/STIX/STIX-maps/'\n",
    "\n",
    "# Folder where to store the reprojected AIA maps\n",
    "# folder_store_rmaps = '/home/afbattaglia/Documents/ETHZ/PhD/Codes/automatic_STIX-AIA_location_comparison/AIA-rmaps/'\n",
    "folder_store_rmaps = folder_stix+\"AIA/\"\n",
    "\n",
    "# Folder where to store the AIA full-disk maps\n",
    "# folder_store = '/home/afbattaglia/Documents/ETHZ/PhD/Codes/automatic_STIX-AIA_location_comparison/Data/SDO_AIA/full-disk/'\n",
    "folder_store = folder_stix+\"AIA/\"\n",
    "\n",
    "# Folder where to store the overview plots\n",
    "# folder_plots = '/home/afbattaglia/Software/STIX_estimate_pointing_error/overview-images/'\n",
    "folder_plots = folder_stix\n",
    "\n",
    "# Email associated with the JSOC account\n",
    "# Not registered yet? Go to: http://jsoc.stanford.edu/ajax/register_email.html\n",
    "# email = 'andrea-battaglia@ethz.ch'\n",
    "email = 'fschuller@aip.de'\n",
    "\n",
    "# Wavelengths of the AIA maps to download\n",
    "# wavelength = 1600\n",
    "wavelength = 1700\n",
    "\n",
    "# FOV of the AIA maps\n",
    "fov = [400, 400]\n",
    "\n",
    "# Final FOV of the reprojected AIA maps with STIX\n",
    "fov_plot = [200, 200]\n",
    "\n",
    "# Path to the Frederic's table\n",
    "# frederic_csv = '/home/afbattaglia/Software/STIX_estimate_pointing_error/Flare-location_test-table.csv'"
   ]
  },
  {
   "cell_type": "markdown",
   "metadata": {},
   "source": [
    "## Run one example"
   ]
  },
  {
   "cell_type": "code",
   "execution_count": 7,
   "metadata": {},
   "outputs": [],
   "source": [
    "# Define variables of interest\n",
    "peak_time_so = '2022-03-28T17:07'\n",
    "uid          = '2203282347'\n",
    "start_time_so = '2022-03-28T17:05:10'\n",
    "end_time_so  = '2022-03-28T17:07:50'\n",
    "energy_low   = 18.\n",
    "energy_high  = 50.\n",
    "\n",
    "# flare location as seen from Earth\n",
    "flare_loc_earth_string = 'N13W07'\n"
   ]
  },
  {
   "cell_type": "code",
   "execution_count": 70,
   "metadata": {},
   "outputs": [],
   "source": [
    "### Another example\n",
    "peak_time_so = '2022-03-02T17:35'\n",
    "uid          = '2203026385'\n",
    "start_time_so = '2022-03-02T17:34:15'\n",
    "end_time_so  = '2022-03-02T17:34:40'\n",
    "energy_low   = 15.\n",
    "energy_high  = 28.\n",
    "flare_loc_earth_string = 'N15E29'\n"
   ]
  },
  {
   "cell_type": "code",
   "execution_count": 46,
   "metadata": {},
   "outputs": [],
   "source": [
    "def flare_coord_to_float(coord_string):\n",
    "    # Convert the flare coordinates from string to 2 float values\n",
    "    sign_ns = 1\n",
    "    sign_ew = 1\n",
    "    if coord_string[0] == 'S': sign_ns = -1\n",
    "    if coord_string[3] == 'E': sign_ew = -1\n",
    "    coord_ns = float(coord_string[1:3])\n",
    "    coord_ew = float(coord_string[4:6])\n",
    "    lon = (sign_ew * coord_ew) #* u.deg\n",
    "    lat = (sign_ns * coord_ns) #* u.deg\n",
    "    return (lon,lat)\n",
    "    # print(\"Flare location: %3i , %3i\"%(lon,lat))\n"
   ]
  },
  {
   "cell_type": "code",
   "execution_count": 51,
   "metadata": {},
   "outputs": [],
   "source": [
    "def transform_HGS_to_HPC(coord, peak_time):\n",
    "    # Transform the locations from HGS string to HPC coordinates\n",
    "    # Get the Earth coordinates in hgs\n",
    "    earth_hgs = get_earth(Time(peak_time).isot)\n",
    "\n",
    "    # Transform the coordinates of the flare location from hgs to hpc\n",
    "    hpc_coord = hgs2hpc([coord[0], coord[1]], peak_time, earth_hgs)\n",
    "\n",
    "    # Store the coordinates\n",
    "    flare_loc_earth_hpc = [hpc_coord.Tx.value,hpc_coord.Ty.value]\n",
    "    # print(\"Helioprojective location: %7.1f , %7.1f\"%(flare_loc_earth_hpc[0],flare_loc_earth_hpc[1]))\n",
    "    \n",
    "    return flare_loc_earth_hpc\n",
    "\n"
   ]
  },
  {
   "cell_type": "code",
   "execution_count": 98,
   "metadata": {},
   "outputs": [],
   "source": [
    "def plot_aia_stix_overlay(uid, peak_time_so, start_time_so, end_time_so, \n",
    "                          energy_low, energy_high, flare_loc, wavelength=1700):\n",
    "    # Open STIX map, download AIA map closest to peak time, re-project to STIX viewpoint,\n",
    "    # and generate a plot showing the overlay of STIX on top\n",
    "    stix_map_file = glob.glob(folder_stix + '*'+uid+'*.fits')\n",
    "    print(\"Found STIX map:\")\n",
    "    print(stix_map_file)\n",
    "    stix_map = Map(stix_map_file[0])\n",
    "    \n",
    "    # Get the light travel time correction from the FITS header\n",
    "    ltt = stix_map.meta['EAR_TDEL']\n",
    "    print('Light travel time correction: '+str(ltt)+' s')\n",
    "\n",
    "    # Time at Earth\n",
    "    time_earth = Time(peak_time_so) + ltt*u.s\n",
    "    # Download the AIA map\n",
    "    print(\"Downloading AIA image...\")\n",
    "    aia_map = download_aia(time_earth, wavelength, email, folder_store=folder_store)\n",
    "    \n",
    "    # modify the value for rsun in AIA map to match the one in STIX map\n",
    "    aia_map.meta['rsun_ref'] = stix_map.meta['rsun_ref']\n",
    "\n",
    "    # convert flare location to HPC coordinates\n",
    "    coord = flare_coord_to_float(flare_loc)\n",
    "    flare_loc_earth_hpc = transform_HGS_to_HPC(coord, peak_time_so)\n",
    "\n",
    "    # Extract the submap according to the flare location as seen from Earth\n",
    "    bottom_left = SkyCoord((flare_loc_earth_hpc[0]-fov[0]/2)*u.arcsec,\n",
    "                       (flare_loc_earth_hpc[1]-fov[1]/2)*u.arcsec,\n",
    "                       frame=aia_map.coordinate_frame)\n",
    "    top_right = SkyCoord((flare_loc_earth_hpc[0]+fov[0]/2)*u.arcsec,\n",
    "                     (flare_loc_earth_hpc[1]+fov[1]/2)*u.arcsec,\n",
    "                     frame=aia_map.coordinate_frame)\n",
    "    submap = aia_map.submap(bottom_left, top_right=top_right)\n",
    "    \n",
    "    # Reproject the AIA map to the STIX view\n",
    "    rmap_aia, stix_center = reproject_aia2so(submap, stix_map)\n",
    "\n",
    "    # Save the reprojected map\n",
    "    rmap_aia.save(folder_store_rmaps+'reprojected-AIA'+str(wavelength)+'_'+str(peak_time_so)+'_'+str(uid)+'.fits')\n",
    "\n",
    "    # Select sub-maps covering the same region with both instruments\n",
    "    bottom_left_plot = SkyCoord((stix_center[0]-fov_plot[0]/2)*u.arcsec,\n",
    "                            (stix_center[1]-fov_plot[1]/2)*u.arcsec,\n",
    "                            frame=rmap_aia.coordinate_frame)\n",
    "    top_right_plot = SkyCoord((stix_center[0]+fov_plot[0]/2)*u.arcsec,\n",
    "                          (stix_center[1]+fov_plot[1]/2)*u.arcsec,\n",
    "                          frame=rmap_aia.coordinate_frame)\n",
    "    sub_rmap_aia = rmap_aia.submap(bottom_left_plot, top_right=top_right_plot)\n",
    "    sub_stix_map = stix_map.submap(bottom_left_plot, top_right=top_right_plot)\n",
    "\n",
    "    # Here comes the plot\n",
    "    fig = plt.figure(figsize=(10,10), dpi=100, facecolor='white')\n",
    "    ax = plt.subplot(projection=sub_rmap_aia)\n",
    "    sub_rmap_aia.plot(axes=ax)\n",
    "    sub_stix_map.draw_contours([30,50,70,90]*u.pct, axes=ax, colors='black')\n",
    "    lon = ax.coords[0]\n",
    "    lon.display_minor_ticks(True)\n",
    "    lat = ax.coords[1]\n",
    "    lat.display_minor_ticks(True)\n",
    "    lon.grid(color='black', alpha=1, linestyle='solid')\n",
    "    lat.grid(color='black', alpha=1, linestyle='solid')\n",
    "    ax.set_title(aia_map.meta['date-obs']+'   Earth UT')\n",
    "\n",
    "\n",
    "    # Add some text caption\n",
    "    x_txt = 0.04\n",
    "    y_txt = 0.96\n",
    "    dy = 0.03\n",
    "\n",
    "    ax.text(x_txt, y_txt, 'Data request UID: '+str(uid),\n",
    "            verticalalignment='top', horizontalalignment='left',\n",
    "            transform=ax.transAxes,\n",
    "            color='blue', fontsize=15)\n",
    "    ax.text(x_txt, y_txt-dy, 'Time range (SO UT): '+start_time_so+' - '+end_time_so,\n",
    "            verticalalignment='top', horizontalalignment='left',\n",
    "            transform=ax.transAxes,\n",
    "            color='blue', fontsize=15)\n",
    "    ax.text(x_txt, y_txt-2*dy, 'Energy range (keV): %2s - %2s'%(energy_low,energy_high),\n",
    "            verticalalignment='top', horizontalalignment='left',\n",
    "            transform=ax.transAxes,\n",
    "            color='blue', fontsize=15)\n",
    "\n",
    "    # Export to PNG\n",
    "    plt.savefig(folder_plots+'AIA'+str(wavelength)+'-STIX_'+str(peak_time_so)+'_'+str(uid)+'.png')\n",
    "    "
   ]
  },
  {
   "cell_type": "code",
   "execution_count": 54,
   "metadata": {},
   "outputs": [
    {
     "data": {
      "text/plain": [
       "[455.0698524574523, -146.1204400508332]"
      ]
     },
     "execution_count": 54,
     "metadata": {},
     "output_type": "execute_result"
    }
   ],
   "source": [
    "coord = flare_coord_to_float(\"S15W29\")\n",
    "p_time = '2022-03-02T17:35'\n",
    "transform_HGS_to_HPC(coord, p_time)\n"
   ]
  },
  {
   "cell_type": "code",
   "execution_count": 73,
   "metadata": {},
   "outputs": [
    {
     "name": "stdout",
     "output_type": "stream",
     "text": [
      "Found STIX map:\n",
      "['/work2/fschuller/STIX/STIX-maps/2022-03-02T17:35_2203026385_mem.fits']\n",
      "Light travel time correction: 217.555871633 s\n",
      "Downloading AIA image...\n",
      "Export request pending. [id=JSOC_20230726_3569, status=2]\n",
      "Waiting for 0 seconds...\n",
      "1 URLs found for download. Full request totalling 12MB\n"
     ]
    },
    {
     "data": {
      "application/vnd.jupyter.widget-view+json": {
       "model_id": "f513059130e54cb380f785423d17b96d",
       "version_major": 2,
       "version_minor": 0
      },
      "text/plain": [
       "Files Downloaded:   0%|          | 0/1 [00:00<?, ?file/s]"
      ]
     },
     "metadata": {},
     "output_type": "display_data"
    },
    {
     "data": {
      "application/vnd.jupyter.widget-view+json": {
       "model_id": "",
       "version_major": 2,
       "version_minor": 0
      },
      "text/plain": [
       "aia.lev1_uv_24s.2022-03-02T173829Z.1700.image_lev1.fits:   0%|          | 0.00/12.4M [00:00<?, ?B/s]"
      ]
     },
     "metadata": {},
     "output_type": "display_data"
    },
    {
     "data": {
      "image/png": "[encoded data removed]",
      "text/plain": [
       "<Figure size 1000x1000 with 1 Axes>"
      ]
     },
     "metadata": {},
     "output_type": "display_data"
    }
   ],
   "source": [
    "plot_aia_stix_overlay(uid, peak_time_so, start_time_so, end_time_so, energy_low, energy_high, flare_loc_earth_string)\n"
   ]
  },
  {
   "cell_type": "markdown",
   "metadata": {},
   "source": [
    "## Loop over many (all) events"
   ]
  },
  {
   "cell_type": "code",
   "execution_count": 116,
   "metadata": {},
   "outputs": [
    {
     "data": {
      "text/html": [
       "<div>\n",
       "<style scoped>\n",
       "    .dataframe tbody tr th:only-of-type {\n",
       "        vertical-align: middle;\n",
       "    }\n",
       "\n",
       "    .dataframe tbody tr th {\n",
       "        vertical-align: top;\n",
       "    }\n",
       "\n",
       "    .dataframe thead th {\n",
       "        text-align: right;\n",
       "    }\n",
       "</style>\n",
       "<table border=\"1\" class=\"dataframe\">\n",
       "  <thead>\n",
       "    <tr style=\"text-align: right;\">\n",
       "      <th></th>\n",
       "      <th>Peak time (UTC)</th>\n",
       "      <th>GOES</th>\n",
       "      <th>SSW loc.</th>\n",
       "      <th>UID</th>\n",
       "      <th>t min</th>\n",
       "      <th>t max</th>\n",
       "      <th>E min</th>\n",
       "      <th>E max</th>\n",
       "    </tr>\n",
       "  </thead>\n",
       "  <tbody>\n",
       "    <tr>\n",
       "      <th>0</th>\n",
       "      <td>2021-03-02T23:56</td>\n",
       "      <td>C1.2</td>\n",
       "      <td>S19E43</td>\n",
       "      <td>2103020009</td>\n",
       "      <td>2021-03-02T23:56:40</td>\n",
       "      <td>2021-03-02T23:58:10</td>\n",
       "      <td>4</td>\n",
       "      <td>15</td>\n",
       "    </tr>\n",
       "    <tr>\n",
       "      <th>1</th>\n",
       "      <td>2021-05-07T18:50</td>\n",
       "      <td>M3.9</td>\n",
       "      <td>N17E78</td>\n",
       "      <td>2105070034</td>\n",
       "      <td>2021-05-07T18:50:00</td>\n",
       "      <td>2021-05-07T19:09:00</td>\n",
       "      <td>15</td>\n",
       "      <td>28</td>\n",
       "    </tr>\n",
       "    <tr>\n",
       "      <th>2</th>\n",
       "      <td>2021-07-24T00:25</td>\n",
       "      <td>C4.3</td>\n",
       "      <td>S16E52</td>\n",
       "      <td>2107240003</td>\n",
       "      <td>2021-07-24T00:24:25</td>\n",
       "      <td>2021-07-24T00:27:30</td>\n",
       "      <td>10</td>\n",
       "      <td>25</td>\n",
       "    </tr>\n",
       "    <tr>\n",
       "      <th>3</th>\n",
       "      <td>2021-08-13T20:59</td>\n",
       "      <td>C1.4</td>\n",
       "      <td>N24E00</td>\n",
       "      <td>2108130003</td>\n",
       "      <td>2021-08-13T21:03:55</td>\n",
       "      <td>2021-08-13T21:05:55</td>\n",
       "      <td>4</td>\n",
       "      <td>20</td>\n",
       "    </tr>\n",
       "    <tr>\n",
       "      <th>4</th>\n",
       "      <td>2021-08-26T23:16</td>\n",
       "      <td>C3.9</td>\n",
       "      <td>S30E21</td>\n",
       "      <td>2108260029</td>\n",
       "      <td>2021-08-26T23:17:55</td>\n",
       "      <td>2021-08-26T23:19:35</td>\n",
       "      <td>20</td>\n",
       "      <td>28</td>\n",
       "    </tr>\n",
       "    <tr>\n",
       "      <th>...</th>\n",
       "      <td>...</td>\n",
       "      <td>...</td>\n",
       "      <td>...</td>\n",
       "      <td>...</td>\n",
       "      <td>...</td>\n",
       "      <td>...</td>\n",
       "      <td>...</td>\n",
       "      <td>...</td>\n",
       "    </tr>\n",
       "    <tr>\n",
       "      <th>82</th>\n",
       "      <td>2023-03-17T15:03</td>\n",
       "      <td>M1.1</td>\n",
       "      <td>S22W66</td>\n",
       "      <td></td>\n",
       "      <td></td>\n",
       "      <td></td>\n",
       "      <td></td>\n",
       "      <td></td>\n",
       "    </tr>\n",
       "    <tr>\n",
       "      <th>83</th>\n",
       "      <td>2023-03-22T23:16</td>\n",
       "      <td>(B8)</td>\n",
       "      <td></td>\n",
       "      <td>2303223740</td>\n",
       "      <td>2023-03-22T23:15:43</td>\n",
       "      <td>2023-03-22T23:17:04</td>\n",
       "      <td>8</td>\n",
       "      <td>15</td>\n",
       "    </tr>\n",
       "    <tr>\n",
       "      <th>84</th>\n",
       "      <td>2023-03-29T13:59</td>\n",
       "      <td>M1.3</td>\n",
       "      <td>S21W67</td>\n",
       "      <td></td>\n",
       "      <td></td>\n",
       "      <td></td>\n",
       "      <td></td>\n",
       "      <td></td>\n",
       "    </tr>\n",
       "    <tr>\n",
       "      <th>85</th>\n",
       "      <td>2023-03-29T23:40</td>\n",
       "      <td>M1.2</td>\n",
       "      <td>S20W72</td>\n",
       "      <td></td>\n",
       "      <td></td>\n",
       "      <td></td>\n",
       "      <td></td>\n",
       "      <td></td>\n",
       "    </tr>\n",
       "    <tr>\n",
       "      <th>86</th>\n",
       "      <td>2023-03-30T07:30</td>\n",
       "      <td>M5.4</td>\n",
       "      <td>S22W77</td>\n",
       "      <td></td>\n",
       "      <td></td>\n",
       "      <td></td>\n",
       "      <td></td>\n",
       "      <td></td>\n",
       "    </tr>\n",
       "  </tbody>\n",
       "</table>\n",
       "<p>87 rows × 8 columns</p>\n",
       "</div>"
      ],
      "text/plain": [
       "     Peak time (UTC)   GOES  SSW loc.          UID                 t min  \\\n",
       "0   2021-03-02T23:56   C1.2    S19E43   2103020009   2021-03-02T23:56:40   \n",
       "1   2021-05-07T18:50   M3.9    N17E78   2105070034   2021-05-07T18:50:00   \n",
       "2   2021-07-24T00:25   C4.3    S16E52   2107240003   2021-07-24T00:24:25   \n",
       "3   2021-08-13T20:59   C1.4    N24E00   2108130003   2021-08-13T21:03:55   \n",
       "4   2021-08-26T23:16   C3.9    S30E21   2108260029   2021-08-26T23:17:55   \n",
       "..               ...    ...       ...          ...                   ...   \n",
       "82  2023-03-17T15:03   M1.1    S22W66                                      \n",
       "83  2023-03-22T23:16   (B8)             2303223740   2023-03-22T23:15:43   \n",
       "84  2023-03-29T13:59   M1.3    S21W67                                      \n",
       "85  2023-03-29T23:40   M1.2    S20W72                                      \n",
       "86  2023-03-30T07:30   M5.4    S22W77                                      \n",
       "\n",
       "                   t max  E min  E max  \n",
       "0    2021-03-02T23:58:10      4     15  \n",
       "1    2021-05-07T19:09:00     15     28  \n",
       "2    2021-07-24T00:27:30     10     25  \n",
       "3    2021-08-13T21:05:55      4     20  \n",
       "4    2021-08-26T23:19:35     20     28  \n",
       "..                   ...    ...    ...  \n",
       "82                                      \n",
       "83   2023-03-22T23:17:04      8     15  \n",
       "84                                      \n",
       "85                                      \n",
       "86                                      \n",
       "\n",
       "[87 rows x 8 columns]"
      ]
     },
     "execution_count": 116,
     "metadata": {},
     "output_type": "execute_result"
    }
   ],
   "source": [
    "# Read file with all parameters\n",
    "input_csv = '/home/fschuller/Documents/SolarOrb/Flare_location_SDO+STIX-imaging.csv'\n",
    "df = pd.read_csv(input_csv, header=1)\n",
    "\n",
    "df\n"
   ]
  },
  {
   "cell_type": "code",
   "execution_count": 117,
   "metadata": {},
   "outputs": [],
   "source": [
    "# Store variables of interests\n",
    "peak_times_so = list(df.iloc[:,0])\n",
    "flare_loc_earth_string = list(df.iloc[:,2])\n",
    "uid = list(df.iloc[:,3])\n",
    "start_time_so = list(df.iloc[:,4])\n",
    "end_time_so = list(df.iloc[:,5])\n",
    "energy_low  = list(df.iloc[:,6])\n",
    "energy_high = list(df.iloc[:,7])\n"
   ]
  },
  {
   "cell_type": "code",
   "execution_count": 131,
   "metadata": {},
   "outputs": [
    {
     "name": "stdout",
     "output_type": "stream",
     "text": [
      "go go\n",
      "2023-02-07T23:06  N30E03\n"
     ]
    }
   ],
   "source": [
    "i = 64\n",
    "this_uid = uid[i][1:]\n",
    "e_low  = energy_low[i][1:]\n",
    "e_high = energy_high[i][1:]\n",
    "this_flare_loc = flare_loc_earth_string[i][1:]\n",
    "\n",
    "if this_uid != '' and e_low != '' and this_flare_loc != 'xxx':\n",
    "    print (\"go go\")\n",
    "    print (peak_times_so[i], flare_loc_earth_string[i])\n",
    "\n",
    "    "
   ]
  },
  {
   "cell_type": "code",
   "execution_count": null,
   "metadata": {},
   "outputs": [],
   "source": [
    "plot_aia_stix_overlay(this_uid, peak_times_so[i], start_time_so[i], end_time_so[i],\n",
    "                      e_low, e_high, this_flare_loc)\n",
    "\n"
   ]
  },
  {
   "cell_type": "code",
   "execution_count": null,
   "metadata": {},
   "outputs": [],
   "source": [
    "#for i in range(len(uid)):\n",
    "# start again at i=10 (there was a bug in my test)\n",
    "#for i in range(10,len(uid)):\n",
    "# and again at i=65 (stopped to avoid overwriting some file)\n",
    "# for i in range(65,len(uid)):\n",
    "\n",
    "# did not find any AIA data for i=67 (?!), thus:\n",
    "\n",
    "for i in range(68,len(uid)):\n",
    "    # Get the parameters for the current flare\n",
    "    this_uid = uid[i][1:]\n",
    "    this_peak_time = peak_times_so[i]\n",
    "    start_time = start_time_so[i][1:]\n",
    "    end_time   = end_time_so[i][1:]\n",
    "    e_low  = energy_low[i][1:]\n",
    "    e_high = energy_high[i][1:]\n",
    "    this_flare_loc = flare_loc_earth_string[i][1:]\n",
    "\n",
    "    if this_uid != '' and e_low != '' and this_flare_loc != 'xxx':\n",
    "        plot_aia_stix_overlay(this_uid, this_peak_time, start_time, end_time, e_low, e_high, this_flare_loc)\n"
   ]
  },
  {
   "cell_type": "code",
   "execution_count": 129,
   "metadata": {},
   "outputs": [
    {
     "name": "stdout",
     "output_type": "stream",
     "text": [
      "83 87\n"
     ]
    }
   ],
   "source": [
    "print(i,len(uid))\n"
   ]
  },
  {
   "cell_type": "markdown",
   "metadata": {},
   "source": [
    "# The end..."
   ]
  },
  {
   "cell_type": "code",
   "execution_count": null,
   "metadata": {},
   "outputs": [],
   "source": [
    "fig = plt.figure(figsize=(10,10), dpi=100, facecolor='white')\n",
    "ax = plt.subplot(projection=sub_rmap_aia)\n",
    "sub_rmap_aia.plot(axes=ax)\n",
    "sub_stix_map.draw_contours([30,50,70,90]*u.pct, axes=ax, colors='black')\n",
    "lon = ax.coords[0]\n",
    "lon.display_minor_ticks(True)\n",
    "lat = ax.coords[1]\n",
    "lat.display_minor_ticks(True)\n",
    "lon.grid(color='black', alpha=1, linestyle='solid')\n",
    "lat.grid(color='black', alpha=1, linestyle='solid')\n",
    "ax.set_title(aia_map.meta['date-obs']+'   Earth UT')\n",
    "\n",
    "\n",
    "# Add some text caption\n",
    "x_txt = 0.04\n",
    "y_txt = 0.96\n",
    "dy = 0.03\n",
    "\n",
    "ax.text(x_txt, y_txt, 'Data request UID: '+str(uid),\n",
    "            verticalalignment='top', horizontalalignment='left',\n",
    "            transform=ax.transAxes,\n",
    "            color='blue', fontsize=15)\n",
    "ax.text(x_txt, y_txt-dy, 'Time range (SO UT): '+start_time_so+' - '+end_time_so,\n",
    "            verticalalignment='top', horizontalalignment='left',\n",
    "            transform=ax.transAxes,\n",
    "            color='blue', fontsize=15)\n",
    "ax.text(x_txt, y_txt-2*dy, 'Energy range (keV): %2i - %2i'%(energy_low,energy_high),\n",
    "            verticalalignment='top', horizontalalignment='left',\n",
    "            transform=ax.transAxes,\n",
    "            color='blue', fontsize=15)\n",
    "#ax.text(x_txt, y_txt-3*dy, 'Contour levels: [50,70,90]%',\n",
    "#            verticalalignment='top', horizontalalignment='left',\n",
    "#            transform=ax.transAxes,\n",
    "#            color='black', fontsize=15)\n",
    "#ax.text(x_txt, y_txt-4*dy, 'Algorithm: MEM_GE',\n",
    "#            verticalalignment='top', horizontalalignment='left',\n",
    "#            transform=ax.transAxes,\n",
    "#            color='black', fontsize=15)"
   ]
  },
  {
   "cell_type": "markdown",
   "metadata": {},
   "source": [
    "### Main code from Andrea (loop over all events)"
   ]
  },
  {
   "cell_type": "code",
   "execution_count": null,
   "metadata": {},
   "outputs": [],
   "source": [
    "# Get the list of STIX maps\n",
    "list_stix = glob.glob(folder_stix+'*')\n",
    "list_stix.sort()\n",
    "list_stix"
   ]
  },
  {
   "cell_type": "code",
   "execution_count": 9,
   "metadata": {},
   "outputs": [],
   "source": [
    "# Number of STIX maps\n",
    "n_stix_maps = len(list_stix)"
   ]
  },
  {
   "cell_type": "code",
   "execution_count": null,
   "metadata": {},
   "outputs": [],
   "source": [
    "# Open Frederic's table to get the flare locations as seen from Earth\n",
    "df = pd.read_csv(frederic_csv)\n",
    "\n",
    "# Store variables of interests\n",
    "peak_times_so = list(df.iloc[1:,0])\n",
    "flare_loc_earth_string = list(df.iloc[1:,2])\n",
    "uid = list(df.iloc[1:,3])\n",
    "start_time_so = list(df.iloc[1:,4])\n",
    "end_time_so = list(df.iloc[1:,5])\n",
    "energy_low  = list(df.iloc[1:,6])\n",
    "energy_high = list(df.iloc[1:,7])\n",
    "\n",
    "flare_loc_earth_string, uid"
   ]
  },
  {
   "cell_type": "code",
   "execution_count": null,
   "metadata": {},
   "outputs": [],
   "source": [
    "# Number of flares\n",
    "nflares = len(flare_loc_earth_string)\n",
    "nflares"
   ]
  },
  {
   "cell_type": "code",
   "execution_count": 12,
   "metadata": {},
   "outputs": [],
   "source": [
    "# Transform the locations from HGS string to HPC coordinates\n",
    "### This should be done by looping on the STIX maps,\n",
    "### once we have all UIDs associated with each map\n",
    "flare_loc_earth_hpc = np.zeros([nflares, 2])\n",
    "for i in range(nflares):\n",
    "\n",
    "    # Convert the coordinate from string to a 2D array\n",
    "    sign_ns = 1\n",
    "    sign_ew = 1\n",
    "    if flare_loc_earth_string[i][0] == 'S': sign_ns = -1\n",
    "    if flare_loc_earth_string[i][3] == 'E': sign_ew = -1\n",
    "    coord_ns = float(flare_loc_earth_string[i][1:3])\n",
    "    coord_ew = float(flare_loc_earth_string[i][4:6])\n",
    "    lon = (sign_ew * coord_ew) #* u.deg\n",
    "    lat = (sign_ns * coord_ns) #* u.deg\n",
    "\n",
    "    #print(lon, lat)\n",
    "    #print(coord_ew, coord_ns)\n",
    "\n",
    "    # Get the Earth coordinates in hgs\n",
    "    earth_hgs = get_earth(Time(peak_times_so[i]).isot)\n",
    "\n",
    "    # Transform the coordinates of the flare location from hgs to hpc\n",
    "    hpc_coord = hgs2hpc([lon, lat], peak_times_so[i], earth_hgs)\n",
    "\n",
    "    # Store the coordinates\n",
    "    flare_loc_earth_hpc[i,0] = hpc_coord.Tx.value\n",
    "    flare_loc_earth_hpc[i,1] = hpc_coord.Ty.value"
   ]
  },
  {
   "cell_type": "code",
   "execution_count": null,
   "metadata": {},
   "outputs": [],
   "source": [
    "flare_loc_earth_hpc"
   ]
  },
  {
   "cell_type": "code",
   "execution_count": null,
   "metadata": {},
   "outputs": [],
   "source": []
  },
  {
   "cell_type": "code",
   "execution_count": 14,
   "metadata": {},
   "outputs": [],
   "source": [
    "# Export figure to png file\n",
    "plt.savefig(folder_plots+'AIA'+str(wavelength)+'-STIX_'+str(this_peak_time)+'_'+str(this_uid)+'.png')\n",
    "plt.close()\n"
   ]
  },
  {
   "cell_type": "code",
   "execution_count": 15,
   "metadata": {},
   "outputs": [
    {
     "name": "stdout",
     "output_type": "stream",
     "text": [
      "\n",
      "Flare ID: 2105070034\n",
      "\n",
      "Export request pending. [id=JSOC_20230721_346, status=2]\n",
      "Waiting for 0 seconds...\n",
      "1 URLs found for download. Full request totalling 8MB\n"
     ]
    },
    {
     "data": {
      "application/vnd.jupyter.widget-view+json": {
       "model_id": "5d73e8ae092940d1a493634a60c1e498",
       "version_major": 2,
       "version_minor": 0
      },
      "text/plain": [
       "Files Downloaded:   0%|          | 0/1 [00:00<?, ?file/s]"
      ]
     },
     "metadata": {},
     "output_type": "display_data"
    },
    {
     "name": "stdout",
     "output_type": "stream",
     "text": [
      "\n",
      "Flare ID: 2109230075\n",
      "\n",
      "Export request pending. [id=JSOC_20230721_360, status=2]\n",
      "Waiting for 0 seconds...\n",
      "1 URLs found for download. Full request totalling 8MB\n"
     ]
    },
    {
     "data": {
      "application/vnd.jupyter.widget-view+json": {
       "model_id": "57c224fa25ab49f49752b880d6f1faf6",
       "version_major": 2,
       "version_minor": 0
      },
      "text/plain": [
       "Files Downloaded:   0%|          | 0/1 [00:00<?, ?file/s]"
      ]
     },
     "metadata": {},
     "output_type": "display_data"
    },
    {
     "name": "stdout",
     "output_type": "stream",
     "text": [
      "\n",
      "Flare ID: 2110090002\n",
      "\n",
      "Export request pending. [id=JSOC_20230721_431, status=2]\n",
      "Waiting for 0 seconds...\n",
      "1 URLs found for download. Full request totalling 8MB\n"
     ]
    },
    {
     "data": {
      "application/vnd.jupyter.widget-view+json": {
       "model_id": "39cc8227c9264a949e128f684460fee8",
       "version_major": 2,
       "version_minor": 0
      },
      "text/plain": [
       "Files Downloaded:   0%|          | 0/1 [00:00<?, ?file/s]"
      ]
     },
     "metadata": {},
     "output_type": "display_data"
    },
    {
     "name": "stdout",
     "output_type": "stream",
     "text": [
      "\n",
      "Flare ID: 2201208962\n",
      "\n",
      "Export request pending. [id=JSOC_20230721_434, status=2]\n",
      "Waiting for 0 seconds...\n",
      "1 URLs found for download. Full request totalling 8MB\n"
     ]
    },
    {
     "data": {
      "application/vnd.jupyter.widget-view+json": {
       "model_id": "1248944730174917b391bb7865bb9a46",
       "version_major": 2,
       "version_minor": 0
      },
      "text/plain": [
       "Files Downloaded:   0%|          | 0/1 [00:00<?, ?file/s]"
      ]
     },
     "metadata": {},
     "output_type": "display_data"
    },
    {
     "name": "stderr",
     "output_type": "stream",
     "text": [
      "/home/afbattaglia/anaconda3/envs/reproj/lib/python3.11/site-packages/astropy/visualization/mpl_normalize.py:179: RuntimeWarning: invalid value encountered in divide\n",
      "  np.true_divide(values, self.vmax - self.vmin, out=values)\n",
      "/home/afbattaglia/anaconda3/envs/reproj/lib/python3.11/site-packages/astropy/visualization/mpl_normalize.py:179: RuntimeWarning: invalid value encountered in divide\n",
      "  np.true_divide(values, self.vmax - self.vmin, out=values)\n"
     ]
    },
    {
     "name": "stdout",
     "output_type": "stream",
     "text": [
      "\n",
      "Flare ID: 2203026385\n",
      "\n",
      "Export request pending. [id=JSOC_20230721_437, status=2]\n",
      "Waiting for 0 seconds...\n",
      "1 URLs found for download. Full request totalling 8MB\n"
     ]
    },
    {
     "data": {
      "application/vnd.jupyter.widget-view+json": {
       "model_id": "a395ed93d46a44608f19412680d22c54",
       "version_major": 2,
       "version_minor": 0
      },
      "text/plain": [
       "Files Downloaded:   0%|          | 0/1 [00:00<?, ?file/s]"
      ]
     },
     "metadata": {},
     "output_type": "display_data"
    },
    {
     "name": "stdout",
     "output_type": "stream",
     "text": [
      "\n",
      "Flare ID: 2203118542\n",
      "\n",
      "Export request pending. [id=JSOC_20230721_438, status=2]\n",
      "Waiting for 0 seconds...\n",
      "1 URLs found for download. Full request totalling 8MB\n"
     ]
    },
    {
     "data": {
      "application/vnd.jupyter.widget-view+json": {
       "model_id": "bdb125a3b51a488f84fa9bceab44d633",
       "version_major": 2,
       "version_minor": 0
      },
      "text/plain": [
       "Files Downloaded:   0%|          | 0/1 [00:00<?, ?file/s]"
      ]
     },
     "metadata": {},
     "output_type": "display_data"
    },
    {
     "name": "stdout",
     "output_type": "stream",
     "text": [
      "\n",
      "Flare ID: 2203143075\n",
      "\n",
      "Export request pending. [id=JSOC_20230721_440, status=2]\n",
      "Waiting for 0 seconds...\n",
      "1 URLs found for download. Full request totalling 8MB\n"
     ]
    },
    {
     "data": {
      "application/vnd.jupyter.widget-view+json": {
       "model_id": "d9017ee6039841ecb8547cd7ece2d92b",
       "version_major": 2,
       "version_minor": 0
      },
      "text/plain": [
       "Files Downloaded:   0%|          | 0/1 [00:00<?, ?file/s]"
      ]
     },
     "metadata": {},
     "output_type": "display_data"
    },
    {
     "name": "stdout",
     "output_type": "stream",
     "text": [
      "\n",
      "Flare ID: 2203159015\n",
      "\n",
      "Export request pending. [id=JSOC_20230721_442, status=2]\n",
      "Waiting for 0 seconds...\n",
      "1 URLs found for download. Full request totalling 8MB\n"
     ]
    },
    {
     "data": {
      "application/vnd.jupyter.widget-view+json": {
       "model_id": "4eb23b7a751c498ba9a77e77976ff3cb",
       "version_major": 2,
       "version_minor": 0
      },
      "text/plain": [
       "Files Downloaded:   0%|          | 0/1 [00:00<?, ?file/s]"
      ]
     },
     "metadata": {},
     "output_type": "display_data"
    },
    {
     "name": "stdout",
     "output_type": "stream",
     "text": [
      "\n",
      "Flare ID: 2203159363\n",
      "\n",
      "Export request pending. [id=JSOC_20230721_445, status=2]\n",
      "Waiting for 0 seconds...\n",
      "1 URLs found for download. Full request totalling 8MB\n"
     ]
    },
    {
     "data": {
      "application/vnd.jupyter.widget-view+json": {
       "model_id": "c080e7f7988a43f19b73cf580a9c3e6c",
       "version_major": 2,
       "version_minor": 0
      },
      "text/plain": [
       "Files Downloaded:   0%|          | 0/1 [00:00<?, ?file/s]"
      ]
     },
     "metadata": {},
     "output_type": "display_data"
    },
    {
     "name": "stdout",
     "output_type": "stream",
     "text": [
      "\n",
      "Flare ID: 2203282437\n",
      "\n",
      "Export request pending. [id=JSOC_20230721_446, status=2]\n",
      "Waiting for 0 seconds...\n",
      "1 URLs found for download. Full request totalling 8MB\n"
     ]
    },
    {
     "data": {
      "application/vnd.jupyter.widget-view+json": {
       "model_id": "744352fbf3e64ce9b336bf37b333b141",
       "version_major": 2,
       "version_minor": 0
      },
      "text/plain": [
       "Files Downloaded:   0%|          | 0/1 [00:00<?, ?file/s]"
      ]
     },
     "metadata": {},
     "output_type": "display_data"
    },
    {
     "name": "stdout",
     "output_type": "stream",
     "text": [
      "\n",
      "Flare ID: 2203293826\n",
      "\n",
      "Export request pending. [id=JSOC_20230721_448, status=2]\n",
      "Waiting for 0 seconds...\n",
      "1 URLs found for download. Full request totalling 8MB\n"
     ]
    },
    {
     "data": {
      "application/vnd.jupyter.widget-view+json": {
       "model_id": "b706b414ad864e0da520c42235d35fd8",
       "version_major": 2,
       "version_minor": 0
      },
      "text/plain": [
       "Files Downloaded:   0%|          | 0/1 [00:00<?, ?file/s]"
      ]
     },
     "metadata": {},
     "output_type": "display_data"
    },
    {
     "name": "stdout",
     "output_type": "stream",
     "text": [
      "\n",
      "Flare ID: 2204023786\n",
      "\n",
      "Export request pending. [id=JSOC_20230721_449, status=2]\n",
      "Waiting for 0 seconds...\n",
      "1 URLs found for download. Full request totalling 8MB\n"
     ]
    },
    {
     "data": {
      "application/vnd.jupyter.widget-view+json": {
       "model_id": "34775c0b067e489983056f94f1697e62",
       "version_major": 2,
       "version_minor": 0
      },
      "text/plain": [
       "Files Downloaded:   0%|          | 0/1 [00:00<?, ?file/s]"
      ]
     },
     "metadata": {},
     "output_type": "display_data"
    },
    {
     "name": "stdout",
     "output_type": "stream",
     "text": [
      "\n",
      "Flare ID: 2204176813\n",
      "\n",
      "Export request pending. [id=JSOC_20230721_451, status=2]\n",
      "Waiting for 0 seconds...\n",
      "1 URLs found for download. Full request totalling 8MB\n"
     ]
    },
    {
     "data": {
      "application/vnd.jupyter.widget-view+json": {
       "model_id": "1075c1870afe4233a7dd07996885905d",
       "version_major": 2,
       "version_minor": 0
      },
      "text/plain": [
       "Files Downloaded:   0%|          | 0/1 [00:00<?, ?file/s]"
      ]
     },
     "metadata": {},
     "output_type": "display_data"
    },
    {
     "name": "stdout",
     "output_type": "stream",
     "text": [
      "\n",
      "Flare ID: 2204185406\n",
      "\n",
      "Export request pending. [id=JSOC_20230721_452, status=2]\n",
      "Waiting for 0 seconds...\n",
      "1 URLs found for download. Full request totalling 8MB\n"
     ]
    },
    {
     "data": {
      "application/vnd.jupyter.widget-view+json": {
       "model_id": "cf69819040dd42d49551795b5d36d16b",
       "version_major": 2,
       "version_minor": 0
      },
      "text/plain": [
       "Files Downloaded:   0%|          | 0/1 [00:00<?, ?file/s]"
      ]
     },
     "metadata": {},
     "output_type": "display_data"
    },
    {
     "name": "stdout",
     "output_type": "stream",
     "text": [
      "\n",
      "Flare ID: 2204184714\n",
      "\n",
      "Export request pending. [id=JSOC_20230721_454, status=2]\n",
      "Waiting for 0 seconds...\n",
      "1 URLs found for download. Full request totalling 8MB\n"
     ]
    },
    {
     "data": {
      "application/vnd.jupyter.widget-view+json": {
       "model_id": "9f55c39b87044a7dab2e8f4e2d36ff99",
       "version_major": 2,
       "version_minor": 0
      },
      "text/plain": [
       "Files Downloaded:   0%|          | 0/1 [00:00<?, ?file/s]"
      ]
     },
     "metadata": {},
     "output_type": "display_data"
    },
    {
     "name": "stdout",
     "output_type": "stream",
     "text": [
      "\n",
      "Flare ID: 2208271589\n",
      "\n",
      "Export request pending. [id=JSOC_20230721_457, status=2]\n",
      "Waiting for 0 seconds...\n",
      "1 URLs found for download. Full request totalling 8MB\n"
     ]
    },
    {
     "data": {
      "application/vnd.jupyter.widget-view+json": {
       "model_id": "07b9f22abf584ac09ab335db6721daa5",
       "version_major": 2,
       "version_minor": 0
      },
      "text/plain": [
       "Files Downloaded:   0%|          | 0/1 [00:00<?, ?file/s]"
      ]
     },
     "metadata": {},
     "output_type": "display_data"
    }
   ],
   "source": [
    "# Loop on all flares in the list\n",
    "for this_el in range(nflares):\n",
    "\n",
    "    # Get the variables of the current flare\n",
    "    this_uid = uid[this_el]\n",
    "    this_peak_time = peak_times_so[this_el]\n",
    "    this_flare_loc_earth_hpc = flare_loc_earth_hpc[this_el,:]\n",
    "    this_time_range = [start_time_so[this_el], end_time_so[this_el]]\n",
    "    this_energy_range = [energy_low[this_el], energy_high[this_el]]\n",
    "    \n",
    "    print()\n",
    "    print('Flare ID: '+str(this_uid))\n",
    "    print()\n",
    "\n",
    "    # Find the STIX map containing this_uid\n",
    "    for this_map in range(n_stix_maps):\n",
    "        if this_uid in list_stix[this_map]:\n",
    "            this_stix_map = list_stix[this_map]\n",
    "            break\n",
    "\n",
    "    # Open the first STIX map\n",
    "    stix_map = Map(this_stix_map)\n",
    "\n",
    "    # Get the light travel time correction from the FITS header\n",
    "    ltt = stix_map.meta['EAR_TDEL']\n",
    "    #print('Light travel time correction: '+str(ltt)+' s')\n",
    "\n",
    "    # Time at Earth\n",
    "    time_earth = Time(this_peak_time) + ltt*u.s\n",
    "\n",
    "    # Download the AIA map\n",
    "    aia_map = download_aia(time_earth, wavelength, email, folder_store=folder_store)\n",
    "\n",
    "    # Data providers can set the radius at which emission in the map is \n",
    "    # assumed to have come from. Most maps use a default value for \n",
    "    # photospheric radius, but some maps (as AIA maps) are set to a slightly \n",
    "    # different value. A mismatch in solar radius means a reprojection will \n",
    "    # not work correctly on pixels near the limb. This can be prevented by \n",
    "    # modifying the values for rsun on one map to match the other.\n",
    "    aia_map.meta['rsun_ref'] = stix_map.meta['rsun_ref']\n",
    "\n",
    "    # Extract the submap according to the flare location as seen from Earth\n",
    "    bottom_left = SkyCoord((this_flare_loc_earth_hpc[0]-fov[0]/2)*u.arcsec,\n",
    "                           (this_flare_loc_earth_hpc[1]-fov[1]/2)*u.arcsec,\n",
    "                            frame=aia_map.coordinate_frame)\n",
    "    top_right = SkyCoord((this_flare_loc_earth_hpc[0]+fov[0]/2)*u.arcsec,\n",
    "                         (this_flare_loc_earth_hpc[1]+fov[1]/2)*u.arcsec,\n",
    "                          frame=aia_map.coordinate_frame)\n",
    "    submap = aia_map.submap(bottom_left, top_right=top_right)\n",
    "\n",
    "    # Reproject the AIA map to the STIX view\n",
    "    rmap_aia, stix_center = reproject_aia2so(submap, stix_map)\n",
    "\n",
    "    # Save the reprojected map\n",
    "    rmap_aia.save(folder_store_rmaps+'reprojected-AIA'+str(wavelength)+'_'+str(this_peak_time)+'_'+str(this_uid)+'.fits')\n",
    "\n",
    "    # PLOT\n",
    "    bottom_left_plot = SkyCoord((stix_center[0]-fov_plot[0]/2)*u.arcsec,\n",
    "                                (stix_center[1]-fov_plot[1]/2)*u.arcsec,\n",
    "                                 frame=rmap_aia.coordinate_frame)\n",
    "    top_right_plot = SkyCoord((stix_center[0]+fov_plot[0]/2)*u.arcsec,\n",
    "                              (stix_center[1]+fov_plot[1]/2)*u.arcsec,\n",
    "                               frame=rmap_aia.coordinate_frame)\n",
    "    sub_rmap_aia = rmap_aia.submap(bottom_left_plot, top_right=top_right_plot)\n",
    "    sub_stix_map = stix_map.submap(bottom_left_plot, top_right=top_right_plot)\n",
    "\n",
    "    fig = plt.figure(figsize=(10,10), dpi=100, facecolor='white')\n",
    "    ax = plt.subplot(projection=sub_rmap_aia)\n",
    "    sub_rmap_aia.plot(axes=ax)\n",
    "    sub_stix_map.draw_contours([50,70,90]*u.pct, axes=ax, colors='red')\n",
    "    lon = ax.coords[0]\n",
    "    lon.display_minor_ticks(True)\n",
    "    lat = ax.coords[1]\n",
    "    lat.display_minor_ticks(True)\n",
    "    lon.grid(color='black', alpha=1, linestyle='solid')\n",
    "    lat.grid(color='black', alpha=1, linestyle='solid')\n",
    "    ax.set_title(aia_map.meta['date-obs']+'   Earth UT')\n",
    "\n",
    "    ax.text(x_txt, y_txt, 'Flare ID: '+str(this_uid),\n",
    "            verticalalignment='top', horizontalalignment='left',\n",
    "            transform=ax.transAxes,\n",
    "            color='red', fontsize=15)\n",
    "    ax.text(x_txt, y_txt-dy, 'Time range (SO UT): '+this_time_range[0]+' - '+this_time_range[1],\n",
    "            verticalalignment='top', horizontalalignment='left',\n",
    "            transform=ax.transAxes,\n",
    "            color='red', fontsize=15)\n",
    "    ax.text(x_txt, y_txt-2*dy, 'Energy range (keV): '+this_energy_range[0]+' - '+this_energy_range[1],\n",
    "            verticalalignment='top', horizontalalignment='left',\n",
    "            transform=ax.transAxes,\n",
    "            color='red', fontsize=15)\n",
    "    ax.text(x_txt, y_txt-3*dy, 'Contour levels: [50,70,90]%',\n",
    "            verticalalignment='top', horizontalalignment='left',\n",
    "            transform=ax.transAxes,\n",
    "            color='red', fontsize=15)\n",
    "    ax.text(x_txt, y_txt-4*dy, 'Algorithm: MEM_GE',\n",
    "            verticalalignment='top', horizontalalignment='left',\n",
    "            transform=ax.transAxes,\n",
    "            color='red', fontsize=15)\n",
    "\n",
    "    plt.savefig(folder_plots+'AIA'+str(wavelength)+'-STIX_'+str(this_peak_time)+'_'+str(this_uid)+'.png')\n",
    "    #plt.show()\n",
    "    plt.close()"
   ]
  },
  {
   "cell_type": "code",
   "execution_count": null,
   "metadata": {},
   "outputs": [],
   "source": []
  }
 ],
 "metadata": {
  "kernelspec": {
   "display_name": "Python 3 (ipykernel)",
   "language": "python",
   "name": "python3"
  },
  "language_info": {
   "codemirror_mode": {
    "name": "ipython",
    "version": 3
   },
   "file_extension": ".py",
   "mimetype": "text/x-python",
   "name": "python",
   "nbconvert_exporter": "python",
   "pygments_lexer": "ipython3",
   "version": "3.11.4"
  }
 },
 "nbformat": 4,
 "nbformat_minor": 2
}
