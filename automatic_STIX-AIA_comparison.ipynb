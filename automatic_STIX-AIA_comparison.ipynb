{
 "cells": [
  {
   "cell_type": "markdown",
   "metadata": {},
   "source": [
    "# Automatic comparison of STIX and AIA images"
   ]
  },
  {
   "cell_type": "markdown",
   "metadata": {},
   "source": [
    "The aim of this script is to take as input the FITS files with STIX images and then downloading, processing and doing cutout of AIA 1600 or AIA 1700 images\n",
    "\n",
    "This code is thought to be working with the REPROJ virtual environment"
   ]
  },
  {
   "cell_type": "code",
   "execution_count": null,
   "metadata": {},
   "outputs": [],
   "source": []
  },
  {
   "cell_type": "markdown",
   "metadata": {},
   "source": [
    "### Imports and functions"
   ]
  },
  {
   "cell_type": "code",
   "execution_count": 1,
   "metadata": {},
   "outputs": [],
   "source": [
    "#import sys\n",
    "#sys.path.insert(1, '/home/afbattaglia/Software/idl_lib/STIX-science/Python')\n",
    "\n",
    "import astropy.units as u\n",
    "import glob\n",
    "import os\n",
    "import numpy as np\n",
    "import matplotlib.pyplot as plt\n",
    "import pandas as pd\n",
    "\n",
    "from aiapy.calibrate import fix_observer_location, normalize_exposure, register, update_pointing\n",
    "from astropy.coordinates import SkyCoord\n",
    "from astropy.time import Time\n",
    "#from rotated_map import *\n",
    "from sunpy.coordinates import Helioprojective\n",
    "from sunpy.coordinates.ephemeris import get_earth\n",
    "from sunpy.coordinates.frames import HeliocentricEarthEcliptic, HeliographicStonyhurst\n",
    "from sunpy.map import Map, all_coordinates_from_map, make_fitswcs_header\n",
    "from sunpy.net import attrs as a\n",
    "from sunpy.net import Fido"
   ]
  },
  {
   "cell_type": "code",
   "execution_count": 2,
   "metadata": {},
   "outputs": [],
   "source": [
    "plt.rcParams.update({'font.size': 14})"
   ]
  },
  {
   "cell_type": "code",
   "execution_count": 3,
   "metadata": {},
   "outputs": [],
   "source": [
    "def download_aia(peak_time, wavelength, email, prep = True,\n",
    "                           folder_store=''):\n",
    "    \"\"\"\n",
    "    Download the AIA map\n",
    "    \"\"\"\n",
    "\n",
    "    # JSOC email\n",
    "    #jsoc_email = os.environ[email]\n",
    "\n",
    "    # Define starting and ending time of the interval\n",
    "    # for searching the AIA map (default 12 seconds)\n",
    "    dt = 12\n",
    "    time_start = Time(peak_time)-dt*u.s\n",
    "    time_end = Time(peak_time)+dt*u.s\n",
    "\n",
    "    # Search for the data\n",
    "    query = Fido.search(#a.Instrument.aia,\n",
    "                    #a.Physobs.intensity,\n",
    "                    #a.jsoc.Series.aia_lev1_uv_24s,\n",
    "                    #a.jsoc.Notify(jsoc_email),\n",
    "                    #a.jsoc.Segment.image,\n",
    "                    #a.Wavelength(wavelength*u.angstrom),\n",
    "                    #a.Time(time_start, time_end)\n",
    "                    a.Time(time_start, time_end),\n",
    "                    a.Wavelength(wavelength*u.angstrom),\n",
    "                    a.Sample(48*u.s),\n",
    "                    a.jsoc.Series.aia_lev1_uv_24s,\n",
    "                    a.jsoc.Notify(email),\n",
    "                    a.jsoc.Segment.image,\n",
    "                    )\n",
    "    \n",
    "    # Download the data\n",
    "    file_downloaded = Fido.fetch(query[0][0], path=folder_store)\n",
    "    #if file_downloaded == []:\n",
    "    #    print('No data found. We try to download the data from ROB now...')\n",
    "    #    file_downloaded = Fido.fetch(query[0][0], site='ROB', path=folder_store)\n",
    "    map = Map(file_downloaded)\n",
    "\n",
    "    # If perp == True, then process the map\n",
    "    if prep == True:\n",
    "        map = process_aia(map)\n",
    "\n",
    "    return map"
   ]
  },
  {
   "cell_type": "code",
   "execution_count": 4,
   "metadata": {},
   "outputs": [],
   "source": [
    "def process_aia(map):\n",
    "    \"\"\"\n",
    "    Process the AIA map to level 1.5 and\n",
    "    update the pointing information in the header.\n",
    "    \"\"\"\n",
    "\n",
    "    # Calibrate the map\n",
    "    map = register(update_pointing(map))\n",
    "    map = normalize_exposure(map)\n",
    "    map = fix_observer_location(map)\n",
    "\n",
    "    return map"
   ]
  },
  {
   "cell_type": "code",
   "execution_count": 5,
   "metadata": {},
   "outputs": [],
   "source": [
    "def reproject_aia2so(aia_map, stix_map, out_shape = (1024, 1024)):\n",
    "    \"\"\"\n",
    "    Reproject the AIA map to the Solar Orbiter view\n",
    "    \"\"\"\n",
    "\n",
    "    # Get the coordinates of the center of the STIX map in arcsec\n",
    "    all_coords = all_coordinates_from_map(stix_map)\n",
    "    # get the coordinates of the center of the map\n",
    "    center = SkyCoord(all_coords.Tx.mean(), all_coords.Ty.mean(), frame=stix_map.coordinate_frame)\n",
    "    mapcenter = [center.Tx.value, center.Ty.value]\n",
    "\n",
    "    # Define the reference coordinate\n",
    "    ref_coord = SkyCoord(\n",
    "                     mapcenter[0]*u.arcsec, mapcenter[1]*u.arcsec,\n",
    "                     #0*u.arcsec, 0*u.arcsec,\n",
    "                     frame='helioprojective', \n",
    "                     obstime=stix_map.date, \n",
    "                     observer=stix_map.observer_coordinate)\n",
    "\n",
    "\n",
    "    # Reference pixel in the AIA map\n",
    "    #ref_pix = stix_map.world_to_pixel(center)\n",
    "\n",
    "    # Distance AIA and SO to the Sun\n",
    "    dist_aia = aia_map.observer_coordinate.radius.value\n",
    "    dist_so  = stix_map.observer_coordinate.radius.value\n",
    "    factor = dist_aia / dist_so\n",
    "    pixel_size = [float(aia_map.scale[0]/u.arcsec*u.pixel) * factor, \n",
    "                  float(aia_map.scale[1]/u.arcsec*u.pixel) * factor]\n",
    "\n",
    "    # Create a FITS WCS header for the reference coordinate and frame\n",
    "    header = make_fitswcs_header(\n",
    "        out_shape,\n",
    "        ref_coord,\n",
    "        scale = pixel_size*u.arcsec/u.pixel\n",
    "        #reference_pixel = ref_pix*u.pix\n",
    "        )\n",
    "\n",
    "    # Reproject the AIA map\n",
    "    map = aia_map.reproject_to(header)\n",
    "    \n",
    "    return map, mapcenter"
   ]
  },
  {
   "cell_type": "code",
   "execution_count": 6,
   "metadata": {},
   "outputs": [],
   "source": [
    "def hgs2hpc(hsg_coord, date, observer):\n",
    "    '''\n",
    "    This function takes as an input the Heliographic Stonyhurts coordinates\n",
    "    and returns the Helioprojective coordinates as observed by Earth.\n",
    "     - hsg_coord must be a 2D array [lon (deg), lat (deg)]\n",
    "     - date of the observation\n",
    "     - observer must be the result of map.observer_coordinate (of an AIA map)\n",
    "    '''\n",
    "\n",
    "    # SkyCoord of the input coordinates\n",
    "    hsg_skycoord = SkyCoord(hsg_coord[0]*u.deg, \n",
    "                            hsg_coord[1]*u.deg, \n",
    "                            #obstime=date,\n",
    "                            frame=HeliographicStonyhurst(obstime=date))\n",
    "\n",
    "    # Transform to Helioprojective cartesian\n",
    "    hpc_coord = hsg_skycoord.transform_to(Helioprojective(obstime=date,\n",
    "                                          observer=observer))\n",
    "\n",
    "    return hpc_coord"
   ]
  },
  {
   "cell_type": "code",
   "execution_count": null,
   "metadata": {},
   "outputs": [],
   "source": []
  },
  {
   "cell_type": "markdown",
   "metadata": {},
   "source": [
    "### Parameters"
   ]
  },
  {
   "cell_type": "code",
   "execution_count": 7,
   "metadata": {},
   "outputs": [],
   "source": [
    "# Folder containing the STIX maps\n",
    "folder_stix = '/home/afbattaglia/Documents/ETHZ/PhD/Codes/automatic_STIX-AIA_location_comparison/STIX-maps/'\n",
    "\n",
    "# Folder where to store the reprojected AIA maps\n",
    "folder_store_rmaps = '/home/afbattaglia/Documents/ETHZ/PhD/Codes/automatic_STIX-AIA_location_comparison/AIA-rmaps/'\n",
    "\n",
    "# Folder where to store the AIA full-disk maps\n",
    "folder_store = '/home/afbattaglia/Documents/ETHZ/PhD/Codes/automatic_STIX-AIA_location_comparison/Data/SDO_AIA/full-disk/'\n",
    "\n",
    "# Folder where to store the overview plots\n",
    "folder_plots = '/home/afbattaglia/Software/STIX_estimate_pointing_error/overview-images/'\n",
    "\n",
    "# Email associated with the JSOC account\n",
    "# Not registered yet? Go to: http://jsoc.stanford.edu/ajax/register_email.html\n",
    "email = 'andrea-battaglia@ethz.ch'\n",
    "\n",
    "# Wavelengths of the AIA maps to download\n",
    "wavelength = 1600\n",
    "\n",
    "# FOV of the AIA maps\n",
    "fov = [400, 400]\n",
    "\n",
    "# Final FOV of the reprojected AIA maps with STIX\n",
    "fov_plot = [200, 200]\n",
    "\n",
    "# Path to the Frederic's table\n",
    "frederic_csv = '/home/afbattaglia/Software/STIX_estimate_pointing_error/Flare-location_test-table.csv'"
   ]
  },
  {
   "cell_type": "code",
   "execution_count": null,
   "metadata": {},
   "outputs": [],
   "source": []
  },
  {
   "cell_type": "markdown",
   "metadata": {},
   "source": [
    "### Main code"
   ]
  },
  {
   "cell_type": "code",
   "execution_count": 8,
   "metadata": {},
   "outputs": [
    {
     "data": {
      "text/plain": [
       "['/home/afbattaglia/Documents/ETHZ/PhD/Codes/automatic_STIX-AIA_location_comparison/STIX-maps/2021-05-07T18:50_2105070034_mem.fits',\n",
       " '/home/afbattaglia/Documents/ETHZ/PhD/Codes/automatic_STIX-AIA_location_comparison/STIX-maps/2021-09-23T15:24_2109230075_mem.fits',\n",
       " '/home/afbattaglia/Documents/ETHZ/PhD/Codes/automatic_STIX-AIA_location_comparison/STIX-maps/2021-10-09T06:28_2110090002_mem.fits',\n",
       " '/home/afbattaglia/Documents/ETHZ/PhD/Codes/automatic_STIX-AIA_location_comparison/STIX-maps/2022-01-20T05:58_2201208962_mem.fits',\n",
       " '/home/afbattaglia/Documents/ETHZ/PhD/Codes/automatic_STIX-AIA_location_comparison/STIX-maps/2022-03-02T17:35_2203026385_mem.fits',\n",
       " '/home/afbattaglia/Documents/ETHZ/PhD/Codes/automatic_STIX-AIA_location_comparison/STIX-maps/2022-03-11T22:26_2203118542_mem.fits',\n",
       " '/home/afbattaglia/Documents/ETHZ/PhD/Codes/automatic_STIX-AIA_location_comparison/STIX-maps/2022-03-14T08:34_2203143075_mem.fits',\n",
       " '/home/afbattaglia/Documents/ETHZ/PhD/Codes/automatic_STIX-AIA_location_comparison/STIX-maps/2022-03-15T12:33_2203159015_mem.fits',\n",
       " '/home/afbattaglia/Documents/ETHZ/PhD/Codes/automatic_STIX-AIA_location_comparison/STIX-maps/2022-03-15T22:41_2203159363_mem.fits',\n",
       " '/home/afbattaglia/Documents/ETHZ/PhD/Codes/automatic_STIX-AIA_location_comparison/STIX-maps/2022-03-28T11:20_2203282437_mem.fits',\n",
       " '/home/afbattaglia/Documents/ETHZ/PhD/Codes/automatic_STIX-AIA_location_comparison/STIX-maps/2022-03-29T21:46_2203293826_mem.fits',\n",
       " '/home/afbattaglia/Documents/ETHZ/PhD/Codes/automatic_STIX-AIA_location_comparison/STIX-maps/2022-04-02T02:49_2204023786_mem.fits',\n",
       " '/home/afbattaglia/Documents/ETHZ/PhD/Codes/automatic_STIX-AIA_location_comparison/STIX-maps/2022-04-17T22:29_2204176813_mem.fits',\n",
       " '/home/afbattaglia/Documents/ETHZ/PhD/Codes/automatic_STIX-AIA_location_comparison/STIX-maps/2022-04-18T07:44_2204185406_mem.fits',\n",
       " '/home/afbattaglia/Documents/ETHZ/PhD/Codes/automatic_STIX-AIA_location_comparison/STIX-maps/2022-04-18T17:19_2204184714_mem.fits',\n",
       " '/home/afbattaglia/Documents/ETHZ/PhD/Codes/automatic_STIX-AIA_location_comparison/STIX-maps/2022-08-27T02:19_2208271589_mem.fits',\n",
       " '/home/afbattaglia/Documents/ETHZ/PhD/Codes/automatic_STIX-AIA_location_comparison/STIX-maps/2023-01-06T00:56_2301061602_mem.fits']"
      ]
     },
     "execution_count": 8,
     "metadata": {},
     "output_type": "execute_result"
    }
   ],
   "source": [
    "# Get the list of STIX maps\n",
    "list_stix = glob.glob(folder_stix+'*')\n",
    "list_stix.sort()\n",
    "list_stix"
   ]
  },
  {
   "cell_type": "code",
   "execution_count": 9,
   "metadata": {},
   "outputs": [],
   "source": [
    "# Number of STIX maps\n",
    "n_stix_maps = len(list_stix)"
   ]
  },
  {
   "cell_type": "code",
   "execution_count": 10,
   "metadata": {},
   "outputs": [
    {
     "data": {
      "text/plain": [
       "(['N17E78',\n",
       "  'S29E16',\n",
       "  'N18E08',\n",
       "  'N08W76',\n",
       "  'N15E29',\n",
       "  'S27W63',\n",
       "  'N23E03',\n",
       "  'N23W10',\n",
       "  'N23W17',\n",
       "  'N14W04',\n",
       "  'N15W24',\n",
       "  'N13W68',\n",
       "  'S30W72',\n",
       "  'S30W78',\n",
       "  'S29W84',\n",
       "  'S30W62'],\n",
       " ['2105070034',\n",
       "  '2109230075',\n",
       "  '2110090002',\n",
       "  '2201208962',\n",
       "  '2203026385',\n",
       "  '2203118542',\n",
       "  '2203143075',\n",
       "  '2203159015',\n",
       "  '2203159363',\n",
       "  '2203282437',\n",
       "  '2203293826',\n",
       "  '2204023786',\n",
       "  '2204176813',\n",
       "  '2204185406',\n",
       "  '2204184714',\n",
       "  '2208271589'])"
      ]
     },
     "execution_count": 10,
     "metadata": {},
     "output_type": "execute_result"
    }
   ],
   "source": [
    "# Open Frederic's table to get the flare locations as seen from Earth\n",
    "df = pd.read_csv(frederic_csv)\n",
    "\n",
    "# Store variables of interests\n",
    "peak_times_so = list(df.iloc[1:,0])\n",
    "flare_loc_earth_string = list(df.iloc[1:,2])\n",
    "uid = list(df.iloc[1:,3])\n",
    "start_time_so = list(df.iloc[1:,4])\n",
    "end_time_so = list(df.iloc[1:,5])\n",
    "energy_low  = list(df.iloc[1:,6])\n",
    "energy_high = list(df.iloc[1:,7])\n",
    "\n",
    "flare_loc_earth_string, uid"
   ]
  },
  {
   "cell_type": "code",
   "execution_count": 11,
   "metadata": {},
   "outputs": [
    {
     "data": {
      "text/plain": [
       "16"
      ]
     },
     "execution_count": 11,
     "metadata": {},
     "output_type": "execute_result"
    }
   ],
   "source": [
    "# Number of flares\n",
    "nflares = len(flare_loc_earth_string)\n",
    "nflares"
   ]
  },
  {
   "cell_type": "code",
   "execution_count": 12,
   "metadata": {},
   "outputs": [],
   "source": [
    "# Transform the locations from HGS string to HPC coordinates\n",
    "### This should be done by looping on the STIX maps,\n",
    "### once we have all UIDs associated with each map\n",
    "flare_loc_earth_hpc = np.zeros([nflares, 2])\n",
    "for i in range(nflares):\n",
    "\n",
    "    # Convert the coordinate from string to a 2D array\n",
    "    sign_ns = 1\n",
    "    sign_ew = 1\n",
    "    if flare_loc_earth_string[i][0] == 'S': sign_ns = -1\n",
    "    if flare_loc_earth_string[i][3] == 'E': sign_ew = -1\n",
    "    coord_ns = float(flare_loc_earth_string[i][1:3])\n",
    "    coord_ew = float(flare_loc_earth_string[i][4:6])\n",
    "    lon = (sign_ew * coord_ew) #* u.deg\n",
    "    lat = (sign_ns * coord_ns) #* u.deg\n",
    "\n",
    "    #print(lon, lat)\n",
    "    #print(coord_ew, coord_ns)\n",
    "\n",
    "    # Get the Earth coordinates in hgs\n",
    "    earth_hgs = get_earth(Time(peak_times_so[i]).isot)\n",
    "\n",
    "    # Transform the coordinates of the flare location from hgs to hpc\n",
    "    hpc_coord = hgs2hpc([lon, lat], peak_times_so[i], earth_hgs)\n",
    "\n",
    "    # Store the coordinates\n",
    "    flare_loc_earth_hpc[i,0] = hpc_coord.Tx.value\n",
    "    flare_loc_earth_hpc[i,1] = hpc_coord.Ty.value"
   ]
  },
  {
   "cell_type": "code",
   "execution_count": 13,
   "metadata": {},
   "outputs": [
    {
     "data": {
      "text/plain": [
       "array([[-889.80746491,  289.04164184],\n",
       "       [-231.31490321, -560.16266457],\n",
       "       [-127.6792824 ,  197.13307983],\n",
       "       [ 937.69791738,  155.83218566],\n",
       "       [-454.93013275,  352.79021554],\n",
       "       [ 768.18179667, -386.60096636],\n",
       "       [ -46.67415519,  486.99446754],\n",
       "       [ 154.80476785,  484.96520312],\n",
       "       [ 260.58323088,  481.56390308],\n",
       "       [  65.33331533,  341.47926403],\n",
       "       [ 378.91765872,  346.72921296],\n",
       "       [ 868.43950631,  254.55684067],\n",
       "       [ 788.15276504, -452.25147955],\n",
       "       [ 810.18725869, -460.01565837],\n",
       "       [ 831.48478636, -453.31219746],\n",
       "       [ 726.99243056, -519.42707845]])"
      ]
     },
     "execution_count": 13,
     "metadata": {},
     "output_type": "execute_result"
    }
   ],
   "source": [
    "flare_loc_earth_hpc"
   ]
  },
  {
   "cell_type": "code",
   "execution_count": 14,
   "metadata": {},
   "outputs": [],
   "source": [
    "# Text parameters\n",
    "x_txt = 0.04\n",
    "y_txt = 0.96\n",
    "dy = 0.03"
   ]
  },
  {
   "cell_type": "code",
   "execution_count": 15,
   "metadata": {},
   "outputs": [
    {
     "name": "stdout",
     "output_type": "stream",
     "text": [
      "\n",
      "Flare ID: 2105070034\n",
      "\n",
      "Export request pending. [id=JSOC_20230721_346, status=2]\n",
      "Waiting for 0 seconds...\n",
      "1 URLs found for download. Full request totalling 8MB\n"
     ]
    },
    {
     "data": {
      "application/vnd.jupyter.widget-view+json": {
       "model_id": "5d73e8ae092940d1a493634a60c1e498",
       "version_major": 2,
       "version_minor": 0
      },
      "text/plain": [
       "Files Downloaded:   0%|          | 0/1 [00:00<?, ?file/s]"
      ]
     },
     "metadata": {},
     "output_type": "display_data"
    },
    {
     "name": "stdout",
     "output_type": "stream",
     "text": [
      "\n",
      "Flare ID: 2109230075\n",
      "\n",
      "Export request pending. [id=JSOC_20230721_360, status=2]\n",
      "Waiting for 0 seconds...\n",
      "1 URLs found for download. Full request totalling 8MB\n"
     ]
    },
    {
     "data": {
      "application/vnd.jupyter.widget-view+json": {
       "model_id": "57c224fa25ab49f49752b880d6f1faf6",
       "version_major": 2,
       "version_minor": 0
      },
      "text/plain": [
       "Files Downloaded:   0%|          | 0/1 [00:00<?, ?file/s]"
      ]
     },
     "metadata": {},
     "output_type": "display_data"
    },
    {
     "name": "stdout",
     "output_type": "stream",
     "text": [
      "\n",
      "Flare ID: 2110090002\n",
      "\n",
      "Export request pending. [id=JSOC_20230721_431, status=2]\n",
      "Waiting for 0 seconds...\n",
      "1 URLs found for download. Full request totalling 8MB\n"
     ]
    },
    {
     "data": {
      "application/vnd.jupyter.widget-view+json": {
       "model_id": "39cc8227c9264a949e128f684460fee8",
       "version_major": 2,
       "version_minor": 0
      },
      "text/plain": [
       "Files Downloaded:   0%|          | 0/1 [00:00<?, ?file/s]"
      ]
     },
     "metadata": {},
     "output_type": "display_data"
    },
    {
     "name": "stdout",
     "output_type": "stream",
     "text": [
      "\n",
      "Flare ID: 2201208962\n",
      "\n",
      "Export request pending. [id=JSOC_20230721_434, status=2]\n",
      "Waiting for 0 seconds...\n",
      "1 URLs found for download. Full request totalling 8MB\n"
     ]
    },
    {
     "data": {
      "application/vnd.jupyter.widget-view+json": {
       "model_id": "1248944730174917b391bb7865bb9a46",
       "version_major": 2,
       "version_minor": 0
      },
      "text/plain": [
       "Files Downloaded:   0%|          | 0/1 [00:00<?, ?file/s]"
      ]
     },
     "metadata": {},
     "output_type": "display_data"
    },
    {
     "name": "stderr",
     "output_type": "stream",
     "text": [
      "/home/afbattaglia/anaconda3/envs/reproj/lib/python3.11/site-packages/astropy/visualization/mpl_normalize.py:179: RuntimeWarning: invalid value encountered in divide\n",
      "  np.true_divide(values, self.vmax - self.vmin, out=values)\n",
      "/home/afbattaglia/anaconda3/envs/reproj/lib/python3.11/site-packages/astropy/visualization/mpl_normalize.py:179: RuntimeWarning: invalid value encountered in divide\n",
      "  np.true_divide(values, self.vmax - self.vmin, out=values)\n"
     ]
    },
    {
     "name": "stdout",
     "output_type": "stream",
     "text": [
      "\n",
      "Flare ID: 2203026385\n",
      "\n",
      "Export request pending. [id=JSOC_20230721_437, status=2]\n",
      "Waiting for 0 seconds...\n",
      "1 URLs found for download. Full request totalling 8MB\n"
     ]
    },
    {
     "data": {
      "application/vnd.jupyter.widget-view+json": {
       "model_id": "a395ed93d46a44608f19412680d22c54",
       "version_major": 2,
       "version_minor": 0
      },
      "text/plain": [
       "Files Downloaded:   0%|          | 0/1 [00:00<?, ?file/s]"
      ]
     },
     "metadata": {},
     "output_type": "display_data"
    },
    {
     "name": "stdout",
     "output_type": "stream",
     "text": [
      "\n",
      "Flare ID: 2203118542\n",
      "\n",
      "Export request pending. [id=JSOC_20230721_438, status=2]\n",
      "Waiting for 0 seconds...\n",
      "1 URLs found for download. Full request totalling 8MB\n"
     ]
    },
    {
     "data": {
      "application/vnd.jupyter.widget-view+json": {
       "model_id": "bdb125a3b51a488f84fa9bceab44d633",
       "version_major": 2,
       "version_minor": 0
      },
      "text/plain": [
       "Files Downloaded:   0%|          | 0/1 [00:00<?, ?file/s]"
      ]
     },
     "metadata": {},
     "output_type": "display_data"
    },
    {
     "name": "stdout",
     "output_type": "stream",
     "text": [
      "\n",
      "Flare ID: 2203143075\n",
      "\n",
      "Export request pending. [id=JSOC_20230721_440, status=2]\n",
      "Waiting for 0 seconds...\n",
      "1 URLs found for download. Full request totalling 8MB\n"
     ]
    },
    {
     "data": {
      "application/vnd.jupyter.widget-view+json": {
       "model_id": "d9017ee6039841ecb8547cd7ece2d92b",
       "version_major": 2,
       "version_minor": 0
      },
      "text/plain": [
       "Files Downloaded:   0%|          | 0/1 [00:00<?, ?file/s]"
      ]
     },
     "metadata": {},
     "output_type": "display_data"
    },
    {
     "name": "stdout",
     "output_type": "stream",
     "text": [
      "\n",
      "Flare ID: 2203159015\n",
      "\n",
      "Export request pending. [id=JSOC_20230721_442, status=2]\n",
      "Waiting for 0 seconds...\n",
      "1 URLs found for download. Full request totalling 8MB\n"
     ]
    },
    {
     "data": {
      "application/vnd.jupyter.widget-view+json": {
       "model_id": "4eb23b7a751c498ba9a77e77976ff3cb",
       "version_major": 2,
       "version_minor": 0
      },
      "text/plain": [
       "Files Downloaded:   0%|          | 0/1 [00:00<?, ?file/s]"
      ]
     },
     "metadata": {},
     "output_type": "display_data"
    },
    {
     "name": "stdout",
     "output_type": "stream",
     "text": [
      "\n",
      "Flare ID: 2203159363\n",
      "\n",
      "Export request pending. [id=JSOC_20230721_445, status=2]\n",
      "Waiting for 0 seconds...\n",
      "1 URLs found for download. Full request totalling 8MB\n"
     ]
    },
    {
     "data": {
      "application/vnd.jupyter.widget-view+json": {
       "model_id": "c080e7f7988a43f19b73cf580a9c3e6c",
       "version_major": 2,
       "version_minor": 0
      },
      "text/plain": [
       "Files Downloaded:   0%|          | 0/1 [00:00<?, ?file/s]"
      ]
     },
     "metadata": {},
     "output_type": "display_data"
    },
    {
     "name": "stdout",
     "output_type": "stream",
     "text": [
      "\n",
      "Flare ID: 2203282437\n",
      "\n",
      "Export request pending. [id=JSOC_20230721_446, status=2]\n",
      "Waiting for 0 seconds...\n",
      "1 URLs found for download. Full request totalling 8MB\n"
     ]
    },
    {
     "data": {
      "application/vnd.jupyter.widget-view+json": {
       "model_id": "744352fbf3e64ce9b336bf37b333b141",
       "version_major": 2,
       "version_minor": 0
      },
      "text/plain": [
       "Files Downloaded:   0%|          | 0/1 [00:00<?, ?file/s]"
      ]
     },
     "metadata": {},
     "output_type": "display_data"
    },
    {
     "name": "stdout",
     "output_type": "stream",
     "text": [
      "\n",
      "Flare ID: 2203293826\n",
      "\n",
      "Export request pending. [id=JSOC_20230721_448, status=2]\n",
      "Waiting for 0 seconds...\n",
      "1 URLs found for download. Full request totalling 8MB\n"
     ]
    },
    {
     "data": {
      "application/vnd.jupyter.widget-view+json": {
       "model_id": "b706b414ad864e0da520c42235d35fd8",
       "version_major": 2,
       "version_minor": 0
      },
      "text/plain": [
       "Files Downloaded:   0%|          | 0/1 [00:00<?, ?file/s]"
      ]
     },
     "metadata": {},
     "output_type": "display_data"
    },
    {
     "name": "stdout",
     "output_type": "stream",
     "text": [
      "\n",
      "Flare ID: 2204023786\n",
      "\n",
      "Export request pending. [id=JSOC_20230721_449, status=2]\n",
      "Waiting for 0 seconds...\n",
      "1 URLs found for download. Full request totalling 8MB\n"
     ]
    },
    {
     "data": {
      "application/vnd.jupyter.widget-view+json": {
       "model_id": "34775c0b067e489983056f94f1697e62",
       "version_major": 2,
       "version_minor": 0
      },
      "text/plain": [
       "Files Downloaded:   0%|          | 0/1 [00:00<?, ?file/s]"
      ]
     },
     "metadata": {},
     "output_type": "display_data"
    },
    {
     "name": "stdout",
     "output_type": "stream",
     "text": [
      "\n",
      "Flare ID: 2204176813\n",
      "\n",
      "Export request pending. [id=JSOC_20230721_451, status=2]\n",
      "Waiting for 0 seconds...\n",
      "1 URLs found for download. Full request totalling 8MB\n"
     ]
    },
    {
     "data": {
      "application/vnd.jupyter.widget-view+json": {
       "model_id": "1075c1870afe4233a7dd07996885905d",
       "version_major": 2,
       "version_minor": 0
      },
      "text/plain": [
       "Files Downloaded:   0%|          | 0/1 [00:00<?, ?file/s]"
      ]
     },
     "metadata": {},
     "output_type": "display_data"
    },
    {
     "name": "stdout",
     "output_type": "stream",
     "text": [
      "\n",
      "Flare ID: 2204185406\n",
      "\n",
      "Export request pending. [id=JSOC_20230721_452, status=2]\n",
      "Waiting for 0 seconds...\n",
      "1 URLs found for download. Full request totalling 8MB\n"
     ]
    },
    {
     "data": {
      "application/vnd.jupyter.widget-view+json": {
       "model_id": "cf69819040dd42d49551795b5d36d16b",
       "version_major": 2,
       "version_minor": 0
      },
      "text/plain": [
       "Files Downloaded:   0%|          | 0/1 [00:00<?, ?file/s]"
      ]
     },
     "metadata": {},
     "output_type": "display_data"
    },
    {
     "name": "stdout",
     "output_type": "stream",
     "text": [
      "\n",
      "Flare ID: 2204184714\n",
      "\n",
      "Export request pending. [id=JSOC_20230721_454, status=2]\n",
      "Waiting for 0 seconds...\n",
      "1 URLs found for download. Full request totalling 8MB\n"
     ]
    },
    {
     "data": {
      "application/vnd.jupyter.widget-view+json": {
       "model_id": "9f55c39b87044a7dab2e8f4e2d36ff99",
       "version_major": 2,
       "version_minor": 0
      },
      "text/plain": [
       "Files Downloaded:   0%|          | 0/1 [00:00<?, ?file/s]"
      ]
     },
     "metadata": {},
     "output_type": "display_data"
    },
    {
     "name": "stdout",
     "output_type": "stream",
     "text": [
      "\n",
      "Flare ID: 2208271589\n",
      "\n",
      "Export request pending. [id=JSOC_20230721_457, status=2]\n",
      "Waiting for 0 seconds...\n",
      "1 URLs found for download. Full request totalling 8MB\n"
     ]
    },
    {
     "data": {
      "application/vnd.jupyter.widget-view+json": {
       "model_id": "07b9f22abf584ac09ab335db6721daa5",
       "version_major": 2,
       "version_minor": 0
      },
      "text/plain": [
       "Files Downloaded:   0%|          | 0/1 [00:00<?, ?file/s]"
      ]
     },
     "metadata": {},
     "output_type": "display_data"
    }
   ],
   "source": [
    "# Loop on all flares in the list\n",
    "for this_el in range(nflares):\n",
    "\n",
    "    # Get the variables of the current flare\n",
    "    this_uid = uid[this_el]\n",
    "    this_peak_time = peak_times_so[this_el]\n",
    "    this_flare_loc_earth_hpc = flare_loc_earth_hpc[this_el,:]\n",
    "    this_time_range = [start_time_so[this_el], end_time_so[this_el]]\n",
    "    this_energy_range = [energy_low[this_el], energy_high[this_el]]\n",
    "    \n",
    "    print()\n",
    "    print('Flare ID: '+str(this_uid))\n",
    "    print()\n",
    "\n",
    "    # Find the STIX map containing this_uid\n",
    "    for this_map in range(n_stix_maps):\n",
    "        if this_uid in list_stix[this_map]:\n",
    "            this_stix_map = list_stix[this_map]\n",
    "            break\n",
    "\n",
    "    # Open the first STIX map\n",
    "    stix_map = Map(this_stix_map)\n",
    "\n",
    "    # Get the light travel time correction from the FITS header\n",
    "    ltt = stix_map.meta['EAR_TDEL']\n",
    "    #print('Light travel time correction: '+str(ltt)+' s')\n",
    "\n",
    "    # Time at Earth\n",
    "    time_earth = Time(this_peak_time) + ltt*u.s\n",
    "\n",
    "    # Download the AIA map\n",
    "    aia_map = download_aia(time_earth, wavelength, email, folder_store=folder_store)\n",
    "\n",
    "    # Data providers can set the radius at which emission in the map is \n",
    "    # assumed to have come from. Most maps use a default value for \n",
    "    # photospheric radius, but some maps (as AIA maps) are set to a slightly \n",
    "    # different value. A mismatch in solar radius means a reprojection will \n",
    "    # not work correctly on pixels near the limb. This can be prevented by \n",
    "    # modifying the values for rsun on one map to match the other.\n",
    "    aia_map.meta['rsun_ref'] = stix_map.meta['rsun_ref']\n",
    "\n",
    "    # Extract the submap according to the flare location as seen from Earth\n",
    "    bottom_left = SkyCoord((this_flare_loc_earth_hpc[0]-fov[0]/2)*u.arcsec,\n",
    "                           (this_flare_loc_earth_hpc[1]-fov[1]/2)*u.arcsec,\n",
    "                            frame=aia_map.coordinate_frame)\n",
    "    top_right = SkyCoord((this_flare_loc_earth_hpc[0]+fov[0]/2)*u.arcsec,\n",
    "                         (this_flare_loc_earth_hpc[1]+fov[1]/2)*u.arcsec,\n",
    "                          frame=aia_map.coordinate_frame)\n",
    "    submap = aia_map.submap(bottom_left, top_right=top_right)\n",
    "\n",
    "    # Reproject the AIA map to the STIX view\n",
    "    rmap_aia, stix_center = reproject_aia2so(submap, stix_map)\n",
    "\n",
    "    # Save the reprojected map\n",
    "    rmap_aia.save(folder_store_rmaps+'reprojected-AIA'+str(wavelength)+'_'+str(this_peak_time)+'_'+str(this_uid)+'.fits')\n",
    "\n",
    "    # PLOT\n",
    "    bottom_left_plot = SkyCoord((stix_center[0]-fov_plot[0]/2)*u.arcsec,\n",
    "                                (stix_center[1]-fov_plot[1]/2)*u.arcsec,\n",
    "                                 frame=rmap_aia.coordinate_frame)\n",
    "    top_right_plot = SkyCoord((stix_center[0]+fov_plot[0]/2)*u.arcsec,\n",
    "                              (stix_center[1]+fov_plot[1]/2)*u.arcsec,\n",
    "                               frame=rmap_aia.coordinate_frame)\n",
    "    sub_rmap_aia = rmap_aia.submap(bottom_left_plot, top_right=top_right_plot)\n",
    "    sub_stix_map = stix_map.submap(bottom_left_plot, top_right=top_right_plot)\n",
    "\n",
    "    fig = plt.figure(figsize=(10,10), dpi=100, facecolor='white')\n",
    "    ax = plt.subplot(projection=sub_rmap_aia)\n",
    "    sub_rmap_aia.plot(axes=ax)\n",
    "    sub_stix_map.draw_contours([50,70,90]*u.pct, axes=ax, colors='red')\n",
    "    lon = ax.coords[0]\n",
    "    lon.display_minor_ticks(True)\n",
    "    lat = ax.coords[1]\n",
    "    lat.display_minor_ticks(True)\n",
    "    lon.grid(color='black', alpha=1, linestyle='solid')\n",
    "    lat.grid(color='black', alpha=1, linestyle='solid')\n",
    "    ax.set_title(aia_map.meta['date-obs']+'   Earth UT')\n",
    "\n",
    "    ax.text(x_txt, y_txt, 'Flare ID: '+str(this_uid),\n",
    "            verticalalignment='top', horizontalalignment='left',\n",
    "            transform=ax.transAxes,\n",
    "            color='red', fontsize=15)\n",
    "    ax.text(x_txt, y_txt-dy, 'Time range (SO UT): '+this_time_range[0]+' - '+this_time_range[1],\n",
    "            verticalalignment='top', horizontalalignment='left',\n",
    "            transform=ax.transAxes,\n",
    "            color='red', fontsize=15)\n",
    "    ax.text(x_txt, y_txt-2*dy, 'Energy range (keV): '+this_energy_range[0]+' - '+this_energy_range[1],\n",
    "            verticalalignment='top', horizontalalignment='left',\n",
    "            transform=ax.transAxes,\n",
    "            color='red', fontsize=15)\n",
    "    ax.text(x_txt, y_txt-3*dy, 'Contour levels: [50,70,90]%',\n",
    "            verticalalignment='top', horizontalalignment='left',\n",
    "            transform=ax.transAxes,\n",
    "            color='red', fontsize=15)\n",
    "    ax.text(x_txt, y_txt-4*dy, 'Algorithm: MEM_GE',\n",
    "            verticalalignment='top', horizontalalignment='left',\n",
    "            transform=ax.transAxes,\n",
    "            color='red', fontsize=15)\n",
    "\n",
    "    plt.savefig(folder_plots+'AIA'+str(wavelength)+'-STIX_'+str(this_peak_time)+'_'+str(this_uid)+'.png')\n",
    "    #plt.show()\n",
    "    plt.close()"
   ]
  },
  {
   "cell_type": "code",
   "execution_count": null,
   "metadata": {},
   "outputs": [],
   "source": []
  }
 ],
 "metadata": {
  "kernelspec": {
   "display_name": "time_series",
   "language": "python",
   "name": "python3"
  },
  "language_info": {
   "codemirror_mode": {
    "name": "ipython",
    "version": 3
   },
   "file_extension": ".py",
   "mimetype": "text/x-python",
   "name": "python",
   "nbconvert_exporter": "python",
   "pygments_lexer": "ipython3",
   "version": "3.11.4"
  },
  "orig_nbformat": 4
 },
 "nbformat": 4,
 "nbformat_minor": 2
}
