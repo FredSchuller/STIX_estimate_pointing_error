{
 "cells": [
  {
   "cell_type": "markdown",
   "metadata": {},
   "source": [
    "# Download STIX data using stixpy"
   ]
  },
  {
   "cell_type": "markdown",
   "metadata": {},
   "source": [
    "[17-Jul-2023] At the time being, this notebook work with the REPROJ notebook"
   ]
  },
  {
   "cell_type": "code",
   "execution_count": null,
   "metadata": {},
   "outputs": [],
   "source": []
  },
  {
   "cell_type": "markdown",
   "metadata": {},
   "source": [
    "### Imports and functions"
   ]
  },
  {
   "cell_type": "code",
   "execution_count": 1,
   "metadata": {},
   "outputs": [],
   "source": [
    "import numpy as np\n",
    "import os\n",
    "import pandas as pd\n",
    "\n",
    "from sunpy.net import Fido, attrs as a\n",
    "from stixpy.net.client import STIXClient"
   ]
  },
  {
   "cell_type": "code",
   "execution_count": 2,
   "metadata": {},
   "outputs": [],
   "source": [
    "def get_cpd_data(tstart, tend, request_id, folder_store = \"\"):\n",
    "    '''\n",
    "    Download the STIX cpd from the website\n",
    "    '''\n",
    "    \n",
    "    # Get the folder delimiter depending on the OS\n",
    "    if os.name == \"nt\":\n",
    "        folder_delimiter = \"\\\\\"\n",
    "    else:\n",
    "        folder_delimiter = \"/\"\n",
    "\n",
    "    # If folder_store is given, check if it is effectively a folder\n",
    "    if folder_store != \"\":\n",
    "        if folder_store[-1] != folder_delimiter:\n",
    "            folder_store += folder_delimiter\n",
    "\n",
    "    # Query the files\n",
    "    res = Fido.search(a.Time(tstart, tend), a.Instrument.stix, a.stix.DataProduct.sci_xray_cpd)\n",
    "    \n",
    "    # Find the file matching the UID given as input\n",
    "    list_bool = list(res[\"stix\"][\"Request ID\"] == int(this_uid))\n",
    "    idx = [i for i, x in enumerate(list_bool) if x]\n",
    "    #res = res[\"stix\"][list(res[\"stix\"][\"Request ID\"]) == request_id]\n",
    "    res = res[\"stix\"][idx]\n",
    "    \n",
    "    # Download the file\n",
    "    file = Fido.fetch(res, path=folder_store+\"{file}\")\n",
    "\n",
    "    # Return the path to the file\n",
    "    if len(file)>0:\n",
    "        return folder_store+file[0]\n",
    "    else:\n",
    "        return ''"
   ]
  },
  {
   "cell_type": "code",
   "execution_count": 3,
   "metadata": {},
   "outputs": [],
   "source": [
    "def get_aux_data(tstart, tend, folder_store = \"\"):\n",
    "    '''\n",
    "    Download the STIX cpd from the website\n",
    "    '''\n",
    "\n",
    "    # Get the folder delimiter depending on the OS\n",
    "    if os.name == \"nt\":\n",
    "        folder_delimiter = \"\\\\\"\n",
    "    else:\n",
    "        folder_delimiter = \"/\"\n",
    "\n",
    "    # If folder_store is given, check if it is effectively a folder\n",
    "    if folder_store != \"\":\n",
    "        if folder_store[-1] != folder_delimiter:\n",
    "            folder_store += folder_delimiter\n",
    "\n",
    "    # Query the files\n",
    "    res = Fido.search(a.Time(tstart, tend), a.Instrument.stix, a.stix.DataProduct.aux_ephemeris)\n",
    "\n",
    "    # Download the file\n",
    "    file = Fido.fetch(res, path=folder_store+\"{file}\")\n",
    "\n",
    "    # Return the path to the file\n",
    "    if len(file)>0:\n",
    "        return folder_store+file[0]\n",
    "    else:\n",
    "        return ''"
   ]
  },
  {
   "cell_type": "code",
   "execution_count": null,
   "metadata": {},
   "outputs": [],
   "source": []
  },
  {
   "cell_type": "markdown",
   "metadata": {},
   "source": [
    "### Parameters"
   ]
  },
  {
   "cell_type": "code",
   "execution_count": 4,
   "metadata": {},
   "outputs": [],
   "source": [
    "# Folder where to store the STIX data\n",
    "folder_store = '/home/afbattaglia/Documents/ETHZ/PhD/Codes/automatic_STIX-AIA_location_comparison/Data/SO_STIX/'\n",
    "\n",
    "# Path to the Frederic's table\n",
    "frederic_csv = '/home/afbattaglia/Software/STIX_estimate_pointing_error/Flare-location_test-table.csv'"
   ]
  },
  {
   "cell_type": "code",
   "execution_count": null,
   "metadata": {},
   "outputs": [],
   "source": []
  },
  {
   "cell_type": "markdown",
   "metadata": {},
   "source": [
    "### Main code"
   ]
  },
  {
   "cell_type": "code",
   "execution_count": 5,
   "metadata": {},
   "outputs": [
    {
     "data": {
      "text/html": [
       "<div>\n",
       "<style scoped>\n",
       "    .dataframe tbody tr th:only-of-type {\n",
       "        vertical-align: middle;\n",
       "    }\n",
       "\n",
       "    .dataframe tbody tr th {\n",
       "        vertical-align: top;\n",
       "    }\n",
       "\n",
       "    .dataframe thead th {\n",
       "        text-align: right;\n",
       "    }\n",
       "</style>\n",
       "<table border=\"1\" class=\"dataframe\">\n",
       "  <thead>\n",
       "    <tr style=\"text-align: right;\">\n",
       "      <th></th>\n",
       "      <th>Unnamed: 0</th>\n",
       "      <th>Unnamed: 1</th>\n",
       "      <th>Unnamed: 2</th>\n",
       "      <th>Unnamed: 3</th>\n",
       "      <th>Time range (UTC @ SolO)</th>\n",
       "      <th>Unnamed: 5</th>\n",
       "      <th>Energy range [keV]</th>\n",
       "      <th>Unnamed: 7</th>\n",
       "    </tr>\n",
       "  </thead>\n",
       "  <tbody>\n",
       "    <tr>\n",
       "      <th>0</th>\n",
       "      <td>Peak time (UTC)</td>\n",
       "      <td>GOES</td>\n",
       "      <td>SSW loc.</td>\n",
       "      <td>UID</td>\n",
       "      <td>t min</td>\n",
       "      <td>t max</td>\n",
       "      <td>E min</td>\n",
       "      <td>E max</td>\n",
       "    </tr>\n",
       "    <tr>\n",
       "      <th>1</th>\n",
       "      <td>2021-05-07T18:50</td>\n",
       "      <td>M3.9</td>\n",
       "      <td>N17E78</td>\n",
       "      <td>2105070034</td>\n",
       "      <td>2021-05-07T18:50:00</td>\n",
       "      <td>2021-05-07T19:09:00</td>\n",
       "      <td>15</td>\n",
       "      <td>28</td>\n",
       "    </tr>\n",
       "    <tr>\n",
       "      <th>2</th>\n",
       "      <td>2021-09-23T15:24</td>\n",
       "      <td>M1.9</td>\n",
       "      <td>S29E16</td>\n",
       "      <td>2109230075</td>\n",
       "      <td>2021-09-23T15:21:18</td>\n",
       "      <td>2021-09-23T15:21:40</td>\n",
       "      <td>35</td>\n",
       "      <td>60</td>\n",
       "    </tr>\n",
       "    <tr>\n",
       "      <th>3</th>\n",
       "      <td>2021-10-09T06:28</td>\n",
       "      <td>M1.6</td>\n",
       "      <td>N18E08</td>\n",
       "      <td>2110090002</td>\n",
       "      <td>2021-10-09T06:27:32</td>\n",
       "      <td>2021-10-09T06:29:49</td>\n",
       "      <td>30</td>\n",
       "      <td>80</td>\n",
       "    </tr>\n",
       "    <tr>\n",
       "      <th>4</th>\n",
       "      <td>2022-01-20T05:58</td>\n",
       "      <td>M5.5</td>\n",
       "      <td>N08W76</td>\n",
       "      <td>2201208962</td>\n",
       "      <td>2022-01-20T05:54:53</td>\n",
       "      <td>2022-01-20T05:55:41</td>\n",
       "      <td>25</td>\n",
       "      <td>45</td>\n",
       "    </tr>\n",
       "    <tr>\n",
       "      <th>5</th>\n",
       "      <td>2022-03-02T17:35</td>\n",
       "      <td>M2.0</td>\n",
       "      <td>N15E29</td>\n",
       "      <td>2203026385</td>\n",
       "      <td>2022-03-02T17:34:15</td>\n",
       "      <td>2022-03-02T17:34:40</td>\n",
       "      <td>15</td>\n",
       "      <td>28</td>\n",
       "    </tr>\n",
       "    <tr>\n",
       "      <th>6</th>\n",
       "      <td>2022-03-11T22:26</td>\n",
       "      <td>M2.3</td>\n",
       "      <td>S27W63</td>\n",
       "      <td>2203118542</td>\n",
       "      <td>2022-03-11T22:24:15</td>\n",
       "      <td>2022-03-11T22:24:40</td>\n",
       "      <td>18</td>\n",
       "      <td>28</td>\n",
       "    </tr>\n",
       "    <tr>\n",
       "      <th>7</th>\n",
       "      <td>2022-03-14T08:34</td>\n",
       "      <td>M2.0</td>\n",
       "      <td>N23E03</td>\n",
       "      <td>2203143075</td>\n",
       "      <td>2022-03-14T08:33:50</td>\n",
       "      <td>2022-03-14T08:34:23</td>\n",
       "      <td>18</td>\n",
       "      <td>28</td>\n",
       "    </tr>\n",
       "    <tr>\n",
       "      <th>8</th>\n",
       "      <td>2022-03-15T12:33</td>\n",
       "      <td>M1.5</td>\n",
       "      <td>N23W10</td>\n",
       "      <td>2203159015</td>\n",
       "      <td>2022-03-15T12:31:05</td>\n",
       "      <td>2022-03-15T12:33:25</td>\n",
       "      <td>18</td>\n",
       "      <td>28</td>\n",
       "    </tr>\n",
       "    <tr>\n",
       "      <th>9</th>\n",
       "      <td>2022-03-15T22:41</td>\n",
       "      <td>M1.6</td>\n",
       "      <td>N23W17</td>\n",
       "      <td>2203159363</td>\n",
       "      <td>2022-03-15T22:38:24</td>\n",
       "      <td>2022-03-15T22:39:24</td>\n",
       "      <td>25</td>\n",
       "      <td>50</td>\n",
       "    </tr>\n",
       "    <tr>\n",
       "      <th>10</th>\n",
       "      <td>2022-03-28T11:20</td>\n",
       "      <td>M4.1</td>\n",
       "      <td>N14W04</td>\n",
       "      <td>2203282437</td>\n",
       "      <td>2022-03-28T11:19:00</td>\n",
       "      <td>2022-03-28T11:21:28</td>\n",
       "      <td>25</td>\n",
       "      <td>50</td>\n",
       "    </tr>\n",
       "    <tr>\n",
       "      <th>11</th>\n",
       "      <td>2022-03-29T21:46</td>\n",
       "      <td>M1.7</td>\n",
       "      <td>N15W24</td>\n",
       "      <td>2203293826</td>\n",
       "      <td>2022-03-29T21:45:39</td>\n",
       "      <td>2022-03-29T21:47:01</td>\n",
       "      <td>18</td>\n",
       "      <td>28</td>\n",
       "    </tr>\n",
       "    <tr>\n",
       "      <th>12</th>\n",
       "      <td>2022-04-02T02:49</td>\n",
       "      <td>M2.9</td>\n",
       "      <td>N13W68</td>\n",
       "      <td>2204023786</td>\n",
       "      <td>2022-04-02T02:45:30</td>\n",
       "      <td>2022-04-02T02:47:30</td>\n",
       "      <td>22</td>\n",
       "      <td>28</td>\n",
       "    </tr>\n",
       "    <tr>\n",
       "      <th>13</th>\n",
       "      <td>2022-04-17T22:29</td>\n",
       "      <td>M4.5</td>\n",
       "      <td>S30W72</td>\n",
       "      <td>2204176813</td>\n",
       "      <td>2022-04-17T22:27:45</td>\n",
       "      <td>2022-04-17T22:29:25</td>\n",
       "      <td>25</td>\n",
       "      <td>70</td>\n",
       "    </tr>\n",
       "    <tr>\n",
       "      <th>14</th>\n",
       "      <td>2022-04-18T07:44</td>\n",
       "      <td>M1.4</td>\n",
       "      <td>S30W78</td>\n",
       "      <td>2204185406</td>\n",
       "      <td>2022-04-18T07:42:40</td>\n",
       "      <td>2022-04-18T07:43:15</td>\n",
       "      <td>25</td>\n",
       "      <td>36</td>\n",
       "    </tr>\n",
       "    <tr>\n",
       "      <th>15</th>\n",
       "      <td>2022-04-18T17:19</td>\n",
       "      <td>M1.9</td>\n",
       "      <td>S29W84</td>\n",
       "      <td>2204184714</td>\n",
       "      <td>2022-04-18T17:18:34</td>\n",
       "      <td>2022-04-18T17:19:57</td>\n",
       "      <td>20</td>\n",
       "      <td>45</td>\n",
       "    </tr>\n",
       "    <tr>\n",
       "      <th>16</th>\n",
       "      <td>2022-08-27T02:19</td>\n",
       "      <td>M3.8</td>\n",
       "      <td>S30W62</td>\n",
       "      <td>2208271589</td>\n",
       "      <td>2022-08-27T02:11:06</td>\n",
       "      <td>2022-08-27T02:15:06</td>\n",
       "      <td>20</td>\n",
       "      <td>45</td>\n",
       "    </tr>\n",
       "  </tbody>\n",
       "</table>\n",
       "</div>"
      ],
      "text/plain": [
       "          Unnamed: 0 Unnamed: 1 Unnamed: 2  Unnamed: 3  \\\n",
       "0    Peak time (UTC)       GOES   SSW loc.         UID   \n",
       "1   2021-05-07T18:50       M3.9     N17E78  2105070034   \n",
       "2   2021-09-23T15:24       M1.9     S29E16  2109230075   \n",
       "3   2021-10-09T06:28       M1.6     N18E08  2110090002   \n",
       "4   2022-01-20T05:58       M5.5     N08W76  2201208962   \n",
       "5   2022-03-02T17:35       M2.0     N15E29  2203026385   \n",
       "6   2022-03-11T22:26       M2.3     S27W63  2203118542   \n",
       "7   2022-03-14T08:34       M2.0     N23E03  2203143075   \n",
       "8   2022-03-15T12:33       M1.5     N23W10  2203159015   \n",
       "9   2022-03-15T22:41       M1.6     N23W17  2203159363   \n",
       "10  2022-03-28T11:20       M4.1     N14W04  2203282437   \n",
       "11  2022-03-29T21:46       M1.7     N15W24  2203293826   \n",
       "12  2022-04-02T02:49       M2.9     N13W68  2204023786   \n",
       "13  2022-04-17T22:29       M4.5     S30W72  2204176813   \n",
       "14  2022-04-18T07:44       M1.4     S30W78  2204185406   \n",
       "15  2022-04-18T17:19       M1.9     S29W84  2204184714   \n",
       "16  2022-08-27T02:19       M3.8     S30W62  2208271589   \n",
       "\n",
       "   Time range (UTC @ SolO)           Unnamed: 5 Energy range [keV] Unnamed: 7  \n",
       "0                    t min                t max              E min      E max  \n",
       "1      2021-05-07T18:50:00  2021-05-07T19:09:00                 15         28  \n",
       "2      2021-09-23T15:21:18  2021-09-23T15:21:40                 35         60  \n",
       "3      2021-10-09T06:27:32  2021-10-09T06:29:49                 30         80  \n",
       "4      2022-01-20T05:54:53  2022-01-20T05:55:41                 25         45  \n",
       "5      2022-03-02T17:34:15  2022-03-02T17:34:40                 15         28  \n",
       "6      2022-03-11T22:24:15  2022-03-11T22:24:40                 18         28  \n",
       "7      2022-03-14T08:33:50  2022-03-14T08:34:23                 18         28  \n",
       "8      2022-03-15T12:31:05  2022-03-15T12:33:25                 18         28  \n",
       "9      2022-03-15T22:38:24  2022-03-15T22:39:24                 25         50  \n",
       "10     2022-03-28T11:19:00  2022-03-28T11:21:28                 25         50  \n",
       "11     2022-03-29T21:45:39  2022-03-29T21:47:01                 18         28  \n",
       "12     2022-04-02T02:45:30  2022-04-02T02:47:30                 22         28  \n",
       "13     2022-04-17T22:27:45  2022-04-17T22:29:25                 25         70  \n",
       "14     2022-04-18T07:42:40  2022-04-18T07:43:15                 25         36  \n",
       "15     2022-04-18T17:18:34  2022-04-18T17:19:57                 20         45  \n",
       "16     2022-08-27T02:11:06  2022-08-27T02:15:06                 20         45  "
      ]
     },
     "execution_count": 5,
     "metadata": {},
     "output_type": "execute_result"
    }
   ],
   "source": [
    "# Open Frederic's table to get the flare times and UIDs\n",
    "df = pd.read_csv(frederic_csv)\n",
    "df"
   ]
  },
  {
   "cell_type": "code",
   "execution_count": 7,
   "metadata": {},
   "outputs": [
    {
     "data": {
      "text/plain": [
       "(16,\n",
       " ['2105070034',\n",
       "  '2109230075',\n",
       "  '2110090002',\n",
       "  '2201208962',\n",
       "  '2203026385',\n",
       "  '2203118542',\n",
       "  '2203143075',\n",
       "  '2203159015',\n",
       "  '2203159363',\n",
       "  '2203282437',\n",
       "  '2203293826',\n",
       "  '2204023786',\n",
       "  '2204176813',\n",
       "  '2204185406',\n",
       "  '2204184714',\n",
       "  '2208271589'])"
      ]
     },
     "execution_count": 7,
     "metadata": {},
     "output_type": "execute_result"
    }
   ],
   "source": [
    "# Store variables of interests\n",
    "uid = list(df.iloc[1:,3])\n",
    "peak_time_so = list(df.iloc[1:,0])\n",
    "start_time_so = list(df.iloc[1:,4])\n",
    "end_time_so = list(df.iloc[1:,5])\n",
    "len(uid), uid"
   ]
  },
  {
   "cell_type": "code",
   "execution_count": 8,
   "metadata": {},
   "outputs": [],
   "source": [
    "# Get the folder delimiter depending on the OS\n",
    "if os.name == \"nt\":\n",
    "    folder_delimiter = \"\\\\\"\n",
    "else:\n",
    "    folder_delimiter = \"/\"\n",
    "\n",
    "# If folder_store is given, check if it is effectively a folder\n",
    "if folder_store != \"\":\n",
    "    if folder_store[-1] != folder_delimiter:\n",
    "        folder_store += folder_delimiter"
   ]
  },
  {
   "cell_type": "code",
   "execution_count": 9,
   "metadata": {},
   "outputs": [
    {
     "name": "stdout",
     "output_type": "stream",
     "text": [
      "2021-05-07T18:50\n"
     ]
    },
    {
     "data": {
      "application/vnd.jupyter.widget-view+json": {
       "model_id": "afa2bd6fe37e4b6dae59476bb9b407f8",
       "version_major": 2,
       "version_minor": 0
      },
      "text/plain": [
       "Files Downloaded:   0%|          | 0/1 [00:00<?, ?file/s]"
      ]
     },
     "metadata": {},
     "output_type": "display_data"
    },
    {
     "data": {
      "application/vnd.jupyter.widget-view+json": {
       "model_id": "4ca0c56e972d4ff0a57a9952ed79111e",
       "version_major": 2,
       "version_minor": 0
      },
      "text/plain": [
       "Files Downloaded:   0%|          | 0/1 [00:00<?, ?file/s]"
      ]
     },
     "metadata": {},
     "output_type": "display_data"
    },
    {
     "name": "stdout",
     "output_type": "stream",
     "text": [
      "2021-09-23T15:24\n"
     ]
    },
    {
     "data": {
      "application/vnd.jupyter.widget-view+json": {
       "model_id": "ebf38db727704fb0875011e95062a21b",
       "version_major": 2,
       "version_minor": 0
      },
      "text/plain": [
       "Files Downloaded:   0%|          | 0/1 [00:00<?, ?file/s]"
      ]
     },
     "metadata": {},
     "output_type": "display_data"
    },
    {
     "data": {
      "application/vnd.jupyter.widget-view+json": {
       "model_id": "638770117c164f84a8923fbbda868216",
       "version_major": 2,
       "version_minor": 0
      },
      "text/plain": [
       "Files Downloaded:   0%|          | 0/1 [00:00<?, ?file/s]"
      ]
     },
     "metadata": {},
     "output_type": "display_data"
    },
    {
     "name": "stdout",
     "output_type": "stream",
     "text": [
      "2021-10-09T06:28\n"
     ]
    },
    {
     "data": {
      "application/vnd.jupyter.widget-view+json": {
       "model_id": "f6e37a32c17040cdb2a4a1d8c3342a9c",
       "version_major": 2,
       "version_minor": 0
      },
      "text/plain": [
       "Files Downloaded:   0%|          | 0/1 [00:00<?, ?file/s]"
      ]
     },
     "metadata": {},
     "output_type": "display_data"
    },
    {
     "data": {
      "application/vnd.jupyter.widget-view+json": {
       "model_id": "cf59f4d9898b4f0dba1e14eb0a701b88",
       "version_major": 2,
       "version_minor": 0
      },
      "text/plain": [
       "solo_L1_stix-sci-xray-cpd_20211009T061724-20211009T071915_V01_2110090002-64085.fits:   0%|          | 0.00/26.…"
      ]
     },
     "metadata": {},
     "output_type": "display_data"
    },
    {
     "data": {
      "application/vnd.jupyter.widget-view+json": {
       "model_id": "7274cc9e514441098211571ef0425105",
       "version_major": 2,
       "version_minor": 0
      },
      "text/plain": [
       "Files Downloaded:   0%|          | 0/1 [00:00<?, ?file/s]"
      ]
     },
     "metadata": {},
     "output_type": "display_data"
    },
    {
     "data": {
      "application/vnd.jupyter.widget-view+json": {
       "model_id": "72ef24712f7946ad93a2f7cfbb95a145",
       "version_major": 2,
       "version_minor": 0
      },
      "text/plain": [
       "solo_L2_stix-aux-ephemeris_20211009_V01.fits:   0%|          | 0.00/400k [00:00<?, ?B/s]"
      ]
     },
     "metadata": {},
     "output_type": "display_data"
    },
    {
     "name": "stdout",
     "output_type": "stream",
     "text": [
      "2022-01-20T05:58\n"
     ]
    },
    {
     "data": {
      "application/vnd.jupyter.widget-view+json": {
       "model_id": "627b7b9dc0a248ec855689e64fecc4c5",
       "version_major": 2,
       "version_minor": 0
      },
      "text/plain": [
       "Files Downloaded:   0%|          | 0/1 [00:00<?, ?file/s]"
      ]
     },
     "metadata": {},
     "output_type": "display_data"
    },
    {
     "data": {
      "application/vnd.jupyter.widget-view+json": {
       "model_id": "2c9e4e1cab5a4ce78a5208327477e1a9",
       "version_major": 2,
       "version_minor": 0
      },
      "text/plain": [
       "solo_L1_stix-sci-xray-cpd_20220120T053504-20220120T072131_V01_2201208962-59889.fits:   0%|          | 0.00/33.…"
      ]
     },
     "metadata": {},
     "output_type": "display_data"
    },
    {
     "data": {
      "application/vnd.jupyter.widget-view+json": {
       "model_id": "cf78f807f856470289ed1302c60b1575",
       "version_major": 2,
       "version_minor": 0
      },
      "text/plain": [
       "Files Downloaded:   0%|          | 0/1 [00:00<?, ?file/s]"
      ]
     },
     "metadata": {},
     "output_type": "display_data"
    },
    {
     "data": {
      "application/vnd.jupyter.widget-view+json": {
       "model_id": "2135d8ead76d438e9b8bccea33410397",
       "version_major": 2,
       "version_minor": 0
      },
      "text/plain": [
       "solo_L2_stix-aux-ephemeris_20220120_V01.fits:   0%|          | 0.00/397k [00:00<?, ?B/s]"
      ]
     },
     "metadata": {},
     "output_type": "display_data"
    },
    {
     "name": "stdout",
     "output_type": "stream",
     "text": [
      "2022-03-02T17:35\n"
     ]
    },
    {
     "data": {
      "application/vnd.jupyter.widget-view+json": {
       "model_id": "b2a366be0973420ea5ee332ffd160d2c",
       "version_major": 2,
       "version_minor": 0
      },
      "text/plain": [
       "Files Downloaded:   0%|          | 0/1 [00:00<?, ?file/s]"
      ]
     },
     "metadata": {},
     "output_type": "display_data"
    },
    {
     "data": {
      "application/vnd.jupyter.widget-view+json": {
       "model_id": "86479fa21d464712856af27880ed0f75",
       "version_major": 2,
       "version_minor": 0
      },
      "text/plain": [
       "solo_L1_stix-sci-xray-cpd_20220302T172256-20220302T174017_V01_2203026385-60566.fits:   0%|          | 0.00/82.…"
      ]
     },
     "metadata": {},
     "output_type": "display_data"
    },
    {
     "data": {
      "application/vnd.jupyter.widget-view+json": {
       "model_id": "8d4c60e23c494b789a294f5f95c7773d",
       "version_major": 2,
       "version_minor": 0
      },
      "text/plain": [
       "Files Downloaded:   0%|          | 0/1 [00:00<?, ?file/s]"
      ]
     },
     "metadata": {},
     "output_type": "display_data"
    },
    {
     "data": {
      "application/vnd.jupyter.widget-view+json": {
       "model_id": "0373a1aa137a4bbba08819b273afa2ca",
       "version_major": 2,
       "version_minor": 0
      },
      "text/plain": [
       "solo_L2_stix-aux-ephemeris_20220302_V01.fits:   0%|          | 0.00/400k [00:00<?, ?B/s]"
      ]
     },
     "metadata": {},
     "output_type": "display_data"
    },
    {
     "name": "stdout",
     "output_type": "stream",
     "text": [
      "2022-03-11T22:26\n"
     ]
    },
    {
     "data": {
      "application/vnd.jupyter.widget-view+json": {
       "model_id": "00c54b2c6171429599ee991db046b905",
       "version_major": 2,
       "version_minor": 0
      },
      "text/plain": [
       "Files Downloaded:   0%|          | 0/1 [00:00<?, ?file/s]"
      ]
     },
     "metadata": {},
     "output_type": "display_data"
    },
    {
     "data": {
      "application/vnd.jupyter.widget-view+json": {
       "model_id": "3d069e940f344205980e7b3388bd6f02",
       "version_major": 2,
       "version_minor": 0
      },
      "text/plain": [
       "solo_L1_stix-sci-xray-cpd_20220311T220806-20220311T223203_V01_2203118542-61076.fits:   0%|          | 0.00/11.…"
      ]
     },
     "metadata": {},
     "output_type": "display_data"
    },
    {
     "data": {
      "application/vnd.jupyter.widget-view+json": {
       "model_id": "e8abd40e5a3b47c0a265bb1538ad3a6c",
       "version_major": 2,
       "version_minor": 0
      },
      "text/plain": [
       "Files Downloaded:   0%|          | 0/1 [00:00<?, ?file/s]"
      ]
     },
     "metadata": {},
     "output_type": "display_data"
    },
    {
     "data": {
      "application/vnd.jupyter.widget-view+json": {
       "model_id": "818285f00e0d48cc881566523f64b31f",
       "version_major": 2,
       "version_minor": 0
      },
      "text/plain": [
       "solo_L2_stix-aux-ephemeris_20220311_V01.fits:   0%|          | 0.00/400k [00:00<?, ?B/s]"
      ]
     },
     "metadata": {},
     "output_type": "display_data"
    },
    {
     "name": "stdout",
     "output_type": "stream",
     "text": [
      "2022-03-14T08:34\n"
     ]
    },
    {
     "data": {
      "application/vnd.jupyter.widget-view+json": {
       "model_id": "0ee27f50f9bc4ddc82caf0fb43c1a7fa",
       "version_major": 2,
       "version_minor": 0
      },
      "text/plain": [
       "Files Downloaded:   0%|          | 0/1 [00:00<?, ?file/s]"
      ]
     },
     "metadata": {},
     "output_type": "display_data"
    },
    {
     "data": {
      "application/vnd.jupyter.widget-view+json": {
       "model_id": "db07c062c84b4e2198977800b875c182",
       "version_major": 2,
       "version_minor": 0
      },
      "text/plain": [
       "solo_L1_stix-sci-xray-cpd_20220314T082930-20220314T083927_V01_2203143075-63150.fits:   0%|          | 0.00/70.…"
      ]
     },
     "metadata": {},
     "output_type": "display_data"
    },
    {
     "data": {
      "application/vnd.jupyter.widget-view+json": {
       "model_id": "a2ccbbd3eaa64ed38afadeae50318797",
       "version_major": 2,
       "version_minor": 0
      },
      "text/plain": [
       "Files Downloaded:   0%|          | 0/1 [00:00<?, ?file/s]"
      ]
     },
     "metadata": {},
     "output_type": "display_data"
    },
    {
     "data": {
      "application/vnd.jupyter.widget-view+json": {
       "model_id": "98262503e18e4539bb6c728875ebf64e",
       "version_major": 2,
       "version_minor": 0
      },
      "text/plain": [
       "solo_L2_stix-aux-ephemeris_20220314_V01.fits:   0%|          | 0.00/400k [00:00<?, ?B/s]"
      ]
     },
     "metadata": {},
     "output_type": "display_data"
    },
    {
     "name": "stdout",
     "output_type": "stream",
     "text": [
      "2022-03-15T12:33\n"
     ]
    },
    {
     "data": {
      "application/vnd.jupyter.widget-view+json": {
       "model_id": "a13712dced9045548a96d38327037a4e",
       "version_major": 2,
       "version_minor": 0
      },
      "text/plain": [
       "Files Downloaded:   0%|          | 0/1 [00:00<?, ?file/s]"
      ]
     },
     "metadata": {},
     "output_type": "display_data"
    },
    {
     "data": {
      "application/vnd.jupyter.widget-view+json": {
       "model_id": "5a9799aba5984644ac89d1e58d73ce58",
       "version_major": 2,
       "version_minor": 0
      },
      "text/plain": [
       "solo_L1_stix-sci-xray-cpd_20220315T122457-20220315T135111_V01_2203159015-62200.fits:   0%|          | 0.00/9.1…"
      ]
     },
     "metadata": {},
     "output_type": "display_data"
    },
    {
     "name": "stderr",
     "output_type": "stream",
     "text": [
      "Exception ignored in: <function BaseEventLoop.__del__ at 0x7f613dcae340>\n",
      "Traceback (most recent call last):\n",
      "  File \"/home/afbattaglia/anaconda3/envs/reproj/lib/python3.11/asyncio/base_events.py\", line 694, in __del__\n",
      "    self.close()\n",
      "  File \"/home/afbattaglia/anaconda3/envs/reproj/lib/python3.11/asyncio/unix_events.py\", line 71, in close\n",
      "    self.remove_signal_handler(sig)\n",
      "  File \"/home/afbattaglia/anaconda3/envs/reproj/lib/python3.11/asyncio/unix_events.py\", line 160, in remove_signal_handler\n",
      "    signal.signal(sig, handler)\n",
      "  File \"/home/afbattaglia/anaconda3/envs/reproj/lib/python3.11/signal.py\", line 56, in signal\n",
      "    handler = _signal.signal(_enum_to_int(signalnum), _enum_to_int(handler))\n",
      "              ^^^^^^^^^^^^^^^^^^^^^^^^^^^^^^^^^^^^^^^^^^^^^^^^^^^^^^^^^^^^^^\n",
      "ValueError: signal only works in main thread of the main interpreter\n",
      "Exception ignored in: <function BaseEventLoop.__del__ at 0x7f613dcae340>\n",
      "Traceback (most recent call last):\n",
      "  File \"/home/afbattaglia/anaconda3/envs/reproj/lib/python3.11/asyncio/base_events.py\", line 694, in __del__\n",
      "    self.close()\n",
      "  File \"/home/afbattaglia/anaconda3/envs/reproj/lib/python3.11/asyncio/unix_events.py\", line 71, in close\n",
      "    self.remove_signal_handler(sig)\n",
      "  File \"/home/afbattaglia/anaconda3/envs/reproj/lib/python3.11/asyncio/unix_events.py\", line 160, in remove_signal_handler\n",
      "    signal.signal(sig, handler)\n",
      "  File \"/home/afbattaglia/anaconda3/envs/reproj/lib/python3.11/signal.py\", line 56, in signal\n",
      "    handler = _signal.signal(_enum_to_int(signalnum), _enum_to_int(handler))\n",
      "              ^^^^^^^^^^^^^^^^^^^^^^^^^^^^^^^^^^^^^^^^^^^^^^^^^^^^^^^^^^^^^^\n",
      "ValueError: signal only works in main thread of the main interpreter\n"
     ]
    },
    {
     "data": {
      "application/vnd.jupyter.widget-view+json": {
       "model_id": "0852110169404e91b19369dcf23b5f49",
       "version_major": 2,
       "version_minor": 0
      },
      "text/plain": [
       "Files Downloaded:   0%|          | 0/1 [00:00<?, ?file/s]"
      ]
     },
     "metadata": {},
     "output_type": "display_data"
    },
    {
     "data": {
      "application/vnd.jupyter.widget-view+json": {
       "model_id": "8f5d91937ab74db28e7adc5c9e4fa5b8",
       "version_major": 2,
       "version_minor": 0
      },
      "text/plain": [
       "solo_L2_stix-aux-ephemeris_20220315_V01.fits:   0%|          | 0.00/400k [00:00<?, ?B/s]"
      ]
     },
     "metadata": {},
     "output_type": "display_data"
    },
    {
     "name": "stdout",
     "output_type": "stream",
     "text": [
      "2022-03-15T22:41\n"
     ]
    },
    {
     "data": {
      "application/vnd.jupyter.widget-view+json": {
       "model_id": "e2c80aa0adc943b99e370ea54fde8394",
       "version_major": 2,
       "version_minor": 0
      },
      "text/plain": [
       "Files Downloaded:   0%|          | 0/1 [00:00<?, ?file/s]"
      ]
     },
     "metadata": {},
     "output_type": "display_data"
    },
    {
     "data": {
      "application/vnd.jupyter.widget-view+json": {
       "model_id": "fc700758d47549a38442715cd3f460c6",
       "version_major": 2,
       "version_minor": 0
      },
      "text/plain": [
       "solo_L1_stix-sci-xray-cpd_20220315T223255-20220315T231455_V01_2203159363-62212.fits:   0%|          | 0.00/14.…"
      ]
     },
     "metadata": {},
     "output_type": "display_data"
    },
    {
     "data": {
      "application/vnd.jupyter.widget-view+json": {
       "model_id": "2f4cc777e9d74d2a92bd33639fa51e32",
       "version_major": 2,
       "version_minor": 0
      },
      "text/plain": [
       "Files Downloaded:   0%|          | 0/1 [00:00<?, ?file/s]"
      ]
     },
     "metadata": {},
     "output_type": "display_data"
    },
    {
     "data": {
      "application/vnd.jupyter.widget-view+json": {
       "model_id": "bb2b2e421e0f470daee6455717aa919e",
       "version_major": 2,
       "version_minor": 0
      },
      "text/plain": [
       "solo_L2_stix-aux-ephemeris_20220315_V01.fits:   0%|          | 0.00/400k [00:00<?, ?B/s]"
      ]
     },
     "metadata": {},
     "output_type": "display_data"
    },
    {
     "name": "stdout",
     "output_type": "stream",
     "text": [
      "2022-03-28T11:20\n"
     ]
    },
    {
     "data": {
      "application/vnd.jupyter.widget-view+json": {
       "model_id": "6ea12b0f7768449f80db313f27986a82",
       "version_major": 2,
       "version_minor": 0
      },
      "text/plain": [
       "Files Downloaded:   0%|          | 0/1 [00:00<?, ?file/s]"
      ]
     },
     "metadata": {},
     "output_type": "display_data"
    },
    {
     "data": {
      "application/vnd.jupyter.widget-view+json": {
       "model_id": "d9906f66e1eb46e78bec655a34c5e565",
       "version_major": 2,
       "version_minor": 0
      },
      "text/plain": [
       "solo_L1_stix-sci-xray-cpd_20220328T111200-20220328T112559_V01_2203282437-49333.fits:   0%|          | 0.00/78.…"
      ]
     },
     "metadata": {},
     "output_type": "display_data"
    },
    {
     "data": {
      "application/vnd.jupyter.widget-view+json": {
       "model_id": "38292d638d8042d1acc734aa639d5484",
       "version_major": 2,
       "version_minor": 0
      },
      "text/plain": [
       "Files Downloaded:   0%|          | 0/1 [00:00<?, ?file/s]"
      ]
     },
     "metadata": {},
     "output_type": "display_data"
    },
    {
     "data": {
      "application/vnd.jupyter.widget-view+json": {
       "model_id": "6d44a837c57f41e5b19ffaf257522846",
       "version_major": 2,
       "version_minor": 0
      },
      "text/plain": [
       "solo_L2_stix-aux-ephemeris_20220328_V01.fits:   0%|          | 0.00/400k [00:00<?, ?B/s]"
      ]
     },
     "metadata": {},
     "output_type": "display_data"
    },
    {
     "name": "stdout",
     "output_type": "stream",
     "text": [
      "2022-03-29T21:46\n"
     ]
    },
    {
     "data": {
      "application/vnd.jupyter.widget-view+json": {
       "model_id": "1322b19424264d9094ce891112726e6b",
       "version_major": 2,
       "version_minor": 0
      },
      "text/plain": [
       "Files Downloaded:   0%|          | 0/1 [00:00<?, ?file/s]"
      ]
     },
     "metadata": {},
     "output_type": "display_data"
    },
    {
     "data": {
      "application/vnd.jupyter.widget-view+json": {
       "model_id": "6ee5a5ab6a4a4452bb5cc9f02186017c",
       "version_major": 2,
       "version_minor": 0
      },
      "text/plain": [
       "solo_L1_stix-sci-xray-cpd_20220329T213747-20220329T215048_V01_2203293826-51173.fits:   0%|          | 0.00/16.…"
      ]
     },
     "metadata": {},
     "output_type": "display_data"
    },
    {
     "data": {
      "application/vnd.jupyter.widget-view+json": {
       "model_id": "5725b9e1cde24db5aa60896993c6ab1c",
       "version_major": 2,
       "version_minor": 0
      },
      "text/plain": [
       "Files Downloaded:   0%|          | 0/1 [00:00<?, ?file/s]"
      ]
     },
     "metadata": {},
     "output_type": "display_data"
    },
    {
     "data": {
      "application/vnd.jupyter.widget-view+json": {
       "model_id": "5c740f27f7d346d5a0da5967860b83b5",
       "version_major": 2,
       "version_minor": 0
      },
      "text/plain": [
       "solo_L2_stix-aux-ephemeris_20220329_V01.fits:   0%|          | 0.00/400k [00:00<?, ?B/s]"
      ]
     },
     "metadata": {},
     "output_type": "display_data"
    },
    {
     "name": "stdout",
     "output_type": "stream",
     "text": [
      "2022-04-02T02:49\n"
     ]
    },
    {
     "data": {
      "application/vnd.jupyter.widget-view+json": {
       "model_id": "43ec0359746d4a888d45281582598882",
       "version_major": 2,
       "version_minor": 0
      },
      "text/plain": [
       "Files Downloaded:   0%|          | 0/1 [00:00<?, ?file/s]"
      ]
     },
     "metadata": {},
     "output_type": "display_data"
    },
    {
     "data": {
      "application/vnd.jupyter.widget-view+json": {
       "model_id": "dec6fa8d2f18416db366ef0e1b8dc06b",
       "version_major": 2,
       "version_minor": 0
      },
      "text/plain": [
       "solo_L1_stix-sci-xray-cpd_20220402T023317-20220402T031356_V01_2204023786-63367.fits:   0%|          | 0.00/16.…"
      ]
     },
     "metadata": {},
     "output_type": "display_data"
    },
    {
     "data": {
      "application/vnd.jupyter.widget-view+json": {
       "model_id": "5f2a1f35f11040c09f8789868d211a25",
       "version_major": 2,
       "version_minor": 0
      },
      "text/plain": [
       "Files Downloaded:   0%|          | 0/1 [00:00<?, ?file/s]"
      ]
     },
     "metadata": {},
     "output_type": "display_data"
    },
    {
     "data": {
      "application/vnd.jupyter.widget-view+json": {
       "model_id": "0f8e9a0679f241b99f08940be8f5ffa1",
       "version_major": 2,
       "version_minor": 0
      },
      "text/plain": [
       "solo_L2_stix-aux-ephemeris_20220402_V01.fits:   0%|          | 0.00/412k [00:00<?, ?B/s]"
      ]
     },
     "metadata": {},
     "output_type": "display_data"
    },
    {
     "name": "stdout",
     "output_type": "stream",
     "text": [
      "2022-04-17T22:29\n"
     ]
    },
    {
     "data": {
      "application/vnd.jupyter.widget-view+json": {
       "model_id": "5b3c2e5e229d45ad97ca9fa9e2ec0f6b",
       "version_major": 2,
       "version_minor": 0
      },
      "text/plain": [
       "Files Downloaded:   0%|          | 0/1 [00:00<?, ?file/s]"
      ]
     },
     "metadata": {},
     "output_type": "display_data"
    },
    {
     "data": {
      "application/vnd.jupyter.widget-view+json": {
       "model_id": "e0891c213db645369f93c66a9a61f3d9",
       "version_major": 2,
       "version_minor": 0
      },
      "text/plain": [
       "solo_L1_stix-sci-xray-cpd_20220417T222240-20220417T225137_V01_2204176813-49339.fits:   0%|          | 0.00/7.7…"
      ]
     },
     "metadata": {},
     "output_type": "display_data"
    },
    {
     "data": {
      "application/vnd.jupyter.widget-view+json": {
       "model_id": "ceada7a43a0f41cfa034e8986b02d4a9",
       "version_major": 2,
       "version_minor": 0
      },
      "text/plain": [
       "Files Downloaded:   0%|          | 0/1 [00:00<?, ?file/s]"
      ]
     },
     "metadata": {},
     "output_type": "display_data"
    },
    {
     "data": {
      "application/vnd.jupyter.widget-view+json": {
       "model_id": "ee82f36fdca148179ac8f38f3f260915",
       "version_major": 2,
       "version_minor": 0
      },
      "text/plain": [
       "solo_L2_stix-aux-ephemeris_20220417_V01.fits:   0%|          | 0.00/400k [00:00<?, ?B/s]"
      ]
     },
     "metadata": {},
     "output_type": "display_data"
    },
    {
     "name": "stdout",
     "output_type": "stream",
     "text": [
      "2022-04-18T07:44\n"
     ]
    },
    {
     "data": {
      "application/vnd.jupyter.widget-view+json": {
       "model_id": "94c49f3543e14f1a86b0cdc71901e40e",
       "version_major": 2,
       "version_minor": 0
      },
      "text/plain": [
       "Files Downloaded:   0%|          | 0/1 [00:00<?, ?file/s]"
      ]
     },
     "metadata": {},
     "output_type": "display_data"
    },
    {
     "data": {
      "application/vnd.jupyter.widget-view+json": {
       "model_id": "08fef09396a14a999834218ad60b05a2",
       "version_major": 2,
       "version_minor": 0
      },
      "text/plain": [
       "solo_L1_stix-sci-xray-cpd_20220418T074115-20220418T074515_V01_2204185406-53436.fits:   0%|          | 0.00/4.4…"
      ]
     },
     "metadata": {},
     "output_type": "display_data"
    },
    {
     "name": "stderr",
     "output_type": "stream",
     "text": [
      "Exception ignored in: <function BaseEventLoop.__del__ at 0x7f613dcae340>\n",
      "Traceback (most recent call last):\n",
      "  File \"/home/afbattaglia/anaconda3/envs/reproj/lib/python3.11/asyncio/base_events.py\", line 694, in __del__\n",
      "    self.close()\n",
      "  File \"/home/afbattaglia/anaconda3/envs/reproj/lib/python3.11/asyncio/unix_events.py\", line 71, in close\n",
      "    self.remove_signal_handler(sig)\n",
      "  File \"/home/afbattaglia/anaconda3/envs/reproj/lib/python3.11/asyncio/unix_events.py\", line 160, in remove_signal_handler\n",
      "    signal.signal(sig, handler)\n",
      "  File \"/home/afbattaglia/anaconda3/envs/reproj/lib/python3.11/signal.py\", line 56, in signal\n",
      "    handler = _signal.signal(_enum_to_int(signalnum), _enum_to_int(handler))\n",
      "              ^^^^^^^^^^^^^^^^^^^^^^^^^^^^^^^^^^^^^^^^^^^^^^^^^^^^^^^^^^^^^^\n",
      "ValueError: signal only works in main thread of the main interpreter\n",
      "Exception ignored in: <function BaseEventLoop.__del__ at 0x7f613dcae340>\n",
      "Traceback (most recent call last):\n",
      "  File \"/home/afbattaglia/anaconda3/envs/reproj/lib/python3.11/asyncio/base_events.py\", line 694, in __del__\n",
      "    self.close()\n",
      "  File \"/home/afbattaglia/anaconda3/envs/reproj/lib/python3.11/asyncio/unix_events.py\", line 71, in close\n",
      "    self.remove_signal_handler(sig)\n",
      "  File \"/home/afbattaglia/anaconda3/envs/reproj/lib/python3.11/asyncio/unix_events.py\", line 160, in remove_signal_handler\n",
      "    signal.signal(sig, handler)\n",
      "  File \"/home/afbattaglia/anaconda3/envs/reproj/lib/python3.11/signal.py\", line 56, in signal\n",
      "    handler = _signal.signal(_enum_to_int(signalnum), _enum_to_int(handler))\n",
      "              ^^^^^^^^^^^^^^^^^^^^^^^^^^^^^^^^^^^^^^^^^^^^^^^^^^^^^^^^^^^^^^\n",
      "ValueError: signal only works in main thread of the main interpreter\n",
      "Exception ignored in: <function BaseEventLoop.__del__ at 0x7f613dcae340>\n",
      "Traceback (most recent call last):\n",
      "  File \"/home/afbattaglia/anaconda3/envs/reproj/lib/python3.11/asyncio/base_events.py\", line 694, in __del__\n",
      "    self.close()\n",
      "  File \"/home/afbattaglia/anaconda3/envs/reproj/lib/python3.11/asyncio/unix_events.py\", line 71, in close\n",
      "    self.remove_signal_handler(sig)\n",
      "  File \"/home/afbattaglia/anaconda3/envs/reproj/lib/python3.11/asyncio/unix_events.py\", line 160, in remove_signal_handler\n",
      "    signal.signal(sig, handler)\n",
      "  File \"/home/afbattaglia/anaconda3/envs/reproj/lib/python3.11/signal.py\", line 56, in signal\n",
      "    handler = _signal.signal(_enum_to_int(signalnum), _enum_to_int(handler))\n",
      "              ^^^^^^^^^^^^^^^^^^^^^^^^^^^^^^^^^^^^^^^^^^^^^^^^^^^^^^^^^^^^^^\n",
      "ValueError: signal only works in main thread of the main interpreter\n"
     ]
    },
    {
     "data": {
      "application/vnd.jupyter.widget-view+json": {
       "model_id": "f314bd9cadea4b25915d00875bb1dcbd",
       "version_major": 2,
       "version_minor": 0
      },
      "text/plain": [
       "Files Downloaded:   0%|          | 0/1 [00:00<?, ?file/s]"
      ]
     },
     "metadata": {},
     "output_type": "display_data"
    },
    {
     "data": {
      "application/vnd.jupyter.widget-view+json": {
       "model_id": "03563cb3404945e4897ddb585b0e74f4",
       "version_major": 2,
       "version_minor": 0
      },
      "text/plain": [
       "solo_L2_stix-aux-ephemeris_20220418_V01.fits:   0%|          | 0.00/400k [00:00<?, ?B/s]"
      ]
     },
     "metadata": {},
     "output_type": "display_data"
    },
    {
     "name": "stdout",
     "output_type": "stream",
     "text": [
      "2022-04-18T17:19\n"
     ]
    },
    {
     "data": {
      "application/vnd.jupyter.widget-view+json": {
       "model_id": "4585404204a5451d99df2ac36e847fcd",
       "version_major": 2,
       "version_minor": 0
      },
      "text/plain": [
       "Files Downloaded:   0%|          | 0/1 [00:00<?, ?file/s]"
      ]
     },
     "metadata": {},
     "output_type": "display_data"
    },
    {
     "data": {
      "application/vnd.jupyter.widget-view+json": {
       "model_id": "107263353ea942a9beb04595b6a9b2aa",
       "version_major": 2,
       "version_minor": 0
      },
      "text/plain": [
       "solo_L1_stix-sci-xray-cpd_20220418T171516-20220418T172037_V01_2204184714-53449.fits:   0%|          | 0.00/7.0…"
      ]
     },
     "metadata": {},
     "output_type": "display_data"
    },
    {
     "data": {
      "application/vnd.jupyter.widget-view+json": {
       "model_id": "dce95f52773b4e4b9ca6c448ae1f5f1d",
       "version_major": 2,
       "version_minor": 0
      },
      "text/plain": [
       "Files Downloaded:   0%|          | 0/1 [00:00<?, ?file/s]"
      ]
     },
     "metadata": {},
     "output_type": "display_data"
    },
    {
     "data": {
      "application/vnd.jupyter.widget-view+json": {
       "model_id": "96635e3db6c2474e9c1e1a8bd8759449",
       "version_major": 2,
       "version_minor": 0
      },
      "text/plain": [
       "solo_L2_stix-aux-ephemeris_20220418_V01.fits:   0%|          | 0.00/400k [00:00<?, ?B/s]"
      ]
     },
     "metadata": {},
     "output_type": "display_data"
    },
    {
     "name": "stdout",
     "output_type": "stream",
     "text": [
      "2022-08-27T02:19\n"
     ]
    },
    {
     "data": {
      "application/vnd.jupyter.widget-view+json": {
       "model_id": "856ae64bafc84ca58a4f463f5c0341e7",
       "version_major": 2,
       "version_minor": 0
      },
      "text/plain": [
       "Files Downloaded:   0%|          | 0/1 [00:00<?, ?file/s]"
      ]
     },
     "metadata": {},
     "output_type": "display_data"
    },
    {
     "data": {
      "application/vnd.jupyter.widget-view+json": {
       "model_id": "21af57c1501d4b9cbcd914cd495f2562",
       "version_major": 2,
       "version_minor": 0
      },
      "text/plain": [
       "solo_L1_stix-sci-xray-cpd_20220827T013602-20220827T022843_V01_2208271589-62609.fits:   0%|          | 0.00/25.…"
      ]
     },
     "metadata": {},
     "output_type": "display_data"
    },
    {
     "data": {
      "application/vnd.jupyter.widget-view+json": {
       "model_id": "1d1550beab184958adb3b73c74ae6d54",
       "version_major": 2,
       "version_minor": 0
      },
      "text/plain": [
       "Files Downloaded:   0%|          | 0/1 [00:00<?, ?file/s]"
      ]
     },
     "metadata": {},
     "output_type": "display_data"
    },
    {
     "data": {
      "application/vnd.jupyter.widget-view+json": {
       "model_id": "47b7af47292a4e2ba35908e56c8edb76",
       "version_major": 2,
       "version_minor": 0
      },
      "text/plain": [
       "solo_L2_stix-aux-ephemeris_20220827_V01.fits:   0%|          | 0.00/397k [00:00<?, ?B/s]"
      ]
     },
     "metadata": {},
     "output_type": "display_data"
    }
   ],
   "source": [
    "# Loop on all elements in the list\n",
    "aux_paths = []\n",
    "cpd_paths = []\n",
    "for i in range(len(uid)):\n",
    "\n",
    "    this_uid = uid[i]\n",
    "    this_peak_time = peak_time_so[i]\n",
    "    this_start_time = start_time_so[i]\n",
    "    this_end_time = end_time_so[i]\n",
    "\n",
    "    print(this_peak_time)\n",
    "\n",
    "    # If is not NaN\n",
    "    if this_uid != np.nan:\n",
    "\n",
    "        # Create a new folder containing the UID and peak time as filename\n",
    "        fname_folder = folder_store + this_peak_time + \"_\" + this_uid + folder_delimiter\n",
    "        if not os.path.exists(fname_folder):\n",
    "            os.makedirs(fname_folder)\n",
    "\n",
    "        cpd_paths.append(get_cpd_data(this_start_time, this_end_time, this_uid, folder_store = fname_folder))\n",
    "        aux_paths.append(get_aux_data(this_start_time, this_end_time, folder_store = fname_folder))"
   ]
  },
  {
   "cell_type": "code",
   "execution_count": null,
   "metadata": {},
   "outputs": [],
   "source": []
  },
  {
   "cell_type": "code",
   "execution_count": null,
   "metadata": {},
   "outputs": [],
   "source": []
  }
 ],
 "metadata": {
  "kernelspec": {
   "display_name": "reproj",
   "language": "python",
   "name": "python3"
  },
  "language_info": {
   "codemirror_mode": {
    "name": "ipython",
    "version": 3
   },
   "file_extension": ".py",
   "mimetype": "text/x-python",
   "name": "python",
   "nbconvert_exporter": "python",
   "pygments_lexer": "ipython3",
   "version": "3.11.4"
  },
  "orig_nbformat": 4
 },
 "nbformat": 4,
 "nbformat_minor": 2
}
