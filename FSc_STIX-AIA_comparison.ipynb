{
 "cells": [
  {
   "cell_type": "markdown",
   "metadata": {},
   "source": [
    "# Automatic comparison of STIX and AIA images"
   ]
  },
  {
   "cell_type": "markdown",
   "metadata": {},
   "source": [
    "The aim of this script is to take as input the FITS files with STIX images and then downloading, processing and doing cutout of AIA 1600 or AIA 1700 images\n"
   ]
  },
  {
   "cell_type": "markdown",
   "metadata": {},
   "source": [
    "### Imports and functions"
   ]
  },
  {
   "cell_type": "code",
   "execution_count": 1,
   "metadata": {},
   "outputs": [],
   "source": [
    "import astropy.units as u\n",
    "import glob\n",
    "import os\n",
    "import numpy as np\n",
    "import matplotlib.pyplot as plt\n",
    "import pandas as pd\n",
    "\n",
    "from aiapy.calibrate import fix_observer_location, normalize_exposure, register, update_pointing\n",
    "from astropy.coordinates import SkyCoord\n",
    "from astropy.time import Time\n",
    "\n",
    "from sunpy.coordinates import Helioprojective\n",
    "from sunpy.coordinates.ephemeris import get_earth\n",
    "from sunpy.coordinates.frames import HeliocentricEarthEcliptic, HeliographicStonyhurst\n",
    "from sunpy.map import Map, all_coordinates_from_map, make_fitswcs_header\n",
    "from sunpy.net import attrs as a\n",
    "from sunpy.net import Fido"
   ]
  },
  {
   "cell_type": "code",
   "execution_count": 2,
   "metadata": {},
   "outputs": [],
   "source": [
    "plt.rcParams.update({'font.size': 14})"
   ]
  },
  {
   "cell_type": "markdown",
   "metadata": {},
   "source": [
    "### Global parameters"
   ]
  },
  {
   "cell_type": "code",
   "execution_count": 3,
   "metadata": {},
   "outputs": [],
   "source": [
    "# Folder containing the STIX maps\n",
    "# folder_stix = '/home/afbattaglia/Documents/ETHZ/PhD/Codes/automatic_STIX-AIA_location_comparison/STIX-maps/'\n",
    "folder_stix = '/net/galilei/work2/fschuller/data/STIX-maps/'\n",
    "# working on sylvaner:\n",
    "# folder_stix = '/work2/fschuller/STIX/STIX-maps/'\n",
    "\n",
    "# Folder where to store the reprojected AIA maps\n",
    "folder_store_rmaps = folder_stix+\"AIA/\"\n",
    "\n",
    "# Folder where to store the AIA full-disk maps\n",
    "folder_store = folder_stix+\"AIA/\"\n",
    "\n",
    "# Folder where to store the overview plots\n",
    "folder_plots = folder_stix\n",
    "\n",
    "# Email associated with the JSOC account\n",
    "# Not registered yet? Go to: http://jsoc.stanford.edu/ajax/register_email.html\n",
    "email = 'fschuller@aip.de'\n",
    "\n",
    "# Wavelengths of the AIA maps to download\n",
    "# wavelength = 1600\n",
    "wavelength = 1700\n",
    "\n",
    "# FOV of the AIA maps\n",
    "fov = [600, 600]\n",
    "\n",
    "# Final FOV of the reprojected AIA maps with STIX\n",
    "fov_plot = [360, 360]\n",
    "\n",
    "# Path to the Frederic's table\n",
    "# frederic_csv = '/home/afbattaglia/Software/STIX_estimate_pointing_error/Flare-location_test-table.csv'"
   ]
  },
  {
   "cell_type": "markdown",
   "metadata": {},
   "source": [
    "### AIA related functions"
   ]
  },
  {
   "cell_type": "code",
   "execution_count": 4,
   "metadata": {},
   "outputs": [],
   "source": [
    "def process_aia(map):\n",
    "    \"\"\"\n",
    "    Process the AIA map to level 1.5 and\n",
    "    update the pointing information in the header.\n",
    "    \"\"\"\n",
    "\n",
    "    # Calibrate the map\n",
    "    map = register(update_pointing(map))\n",
    "    map = normalize_exposure(map)\n",
    "    map = fix_observer_location(map)\n",
    "\n",
    "    return map"
   ]
  },
  {
   "cell_type": "code",
   "execution_count": 51,
   "metadata": {},
   "outputs": [],
   "source": [
    "def download_aia(peak_time, wavelength, email, prep = True, folder_store=''):\n",
    "    \"\"\"\n",
    "    Download the AIA map\n",
    "    \"\"\"\n",
    "\n",
    "    # JSOC email\n",
    "    #jsoc_email = os.environ[email]\n",
    "\n",
    "    # Define starting and ending time of the interval\n",
    "    # for searching the AIA map (default 12 seconds)\n",
    "    dt = 12\n",
    "    time_start = Time(peak_time)-dt*u.s\n",
    "    time_end = Time(peak_time)+dt*u.s\n",
    "\n",
    "    # Search for the data\n",
    "    query = Fido.search(a.Time(time_start, time_end),\n",
    "                    a.Wavelength(wavelength*u.angstrom),\n",
    "                    a.Sample(48*u.s),\n",
    "                    a.jsoc.Series.aia_lev1_uv_24s,\n",
    "                    a.jsoc.Notify(email),\n",
    "                    a.jsoc.Segment.image\n",
    "                    )\n",
    "    \n",
    "    # Make sure that we found at least one data product\n",
    "    if len(query[0]) == 0:\n",
    "        # otherwise, increase time range to query\n",
    "        print(\"WARNING: no AIA data found within +/-12 s, increasing time range of query\")\n",
    "        time_start -= dt*u.s\n",
    "        time_end += dt*u.s\n",
    "        query = Fido.search(a.Time(time_start, time_end),\n",
    "                    a.Wavelength(wavelength*u.angstrom),\n",
    "                    a.Sample(48*u.s),\n",
    "                    a.jsoc.Series.aia_lev1_uv_24s,\n",
    "                    a.jsoc.Notify(email),\n",
    "                    a.jsoc.Segment.image\n",
    "                    )\n",
    "\n",
    "    # Download the data\n",
    "    file_downloaded = Fido.fetch(query[0][0], path=folder_store)\n",
    "\n",
    "    if file_downloaded == []:\n",
    "        print('No data found. We try to download the data from ROB now...')\n",
    "        file_downloaded = Fido.fetch(query[0][0], site='ROB', path=folder_store)\n",
    "\n",
    "    # it may be that the result contains more than one file, therefore:\n",
    "    if len(file_downloaded) > 1:\n",
    "        file_downloaded = file_downloaded[0]\n",
    "    \n",
    "    the_map = Map(file_downloaded)\n",
    "\n",
    "    # If prep == True, then process the map\n",
    "    if prep == True:\n",
    "        the_map = process_aia(the_map)\n",
    "\n",
    "    return the_map"
   ]
  },
  {
   "cell_type": "code",
   "execution_count": 6,
   "metadata": {},
   "outputs": [],
   "source": [
    "def reproject_aia2so(aia_map, stix_map, out_shape = (1024, 1024)):\n",
    "    \"\"\"\n",
    "    Reproject the AIA map to the Solar Orbiter view\n",
    "    \"\"\"\n",
    "\n",
    "    # Get the coordinates of the center of the STIX map in arcsec\n",
    "    all_coords = all_coordinates_from_map(stix_map)\n",
    "    # get the coordinates of the center of the map\n",
    "    center = SkyCoord(all_coords.Tx.mean(), all_coords.Ty.mean(), frame=stix_map.coordinate_frame)\n",
    "    mapcenter = [center.Tx.value, center.Ty.value]\n",
    "\n",
    "    # Define the reference coordinate\n",
    "    ref_coord = SkyCoord(\n",
    "                     mapcenter[0]*u.arcsec, mapcenter[1]*u.arcsec,\n",
    "                     #0*u.arcsec, 0*u.arcsec,\n",
    "                     frame='helioprojective', \n",
    "                     obstime=stix_map.date, \n",
    "                     observer=stix_map.observer_coordinate)\n",
    "\n",
    "\n",
    "    # Reference pixel in the AIA map\n",
    "    #ref_pix = stix_map.world_to_pixel(center)\n",
    "\n",
    "    # Distance AIA and SO to the Sun\n",
    "    dist_aia = aia_map.observer_coordinate.radius.value\n",
    "    dist_so  = stix_map.observer_coordinate.radius.value\n",
    "    factor = dist_aia / dist_so\n",
    "    pixel_size = [float(aia_map.scale[0]/u.arcsec*u.pixel) * factor, \n",
    "                  float(aia_map.scale[1]/u.arcsec*u.pixel) * factor]\n",
    "\n",
    "    # Create a FITS WCS header for the reference coordinate and frame\n",
    "    header = make_fitswcs_header(\n",
    "        out_shape,\n",
    "        ref_coord,\n",
    "        scale = pixel_size*u.arcsec/u.pixel\n",
    "        #reference_pixel = ref_pix*u.pix\n",
    "        )\n",
    "\n",
    "    # Reproject the AIA map\n",
    "    map = aia_map.reproject_to(header)\n",
    "    \n",
    "    return map, mapcenter"
   ]
  },
  {
   "cell_type": "code",
   "execution_count": 7,
   "metadata": {},
   "outputs": [],
   "source": [
    "def hgs2hpc(hsg_coord, date, observer):\n",
    "    '''\n",
    "    This function takes as an input the Heliographic Stonyhurts coordinates\n",
    "    and returns the Helioprojective coordinates as observed by Earth.\n",
    "     - hsg_coord must be a 2D array [lon (deg), lat (deg)]\n",
    "     - date of the observation\n",
    "     - observer must be the result of map.observer_coordinate (of an AIA map)\n",
    "    '''\n",
    "\n",
    "    # SkyCoord of the input coordinates\n",
    "    hsg_skycoord = SkyCoord(hsg_coord[0]*u.deg, \n",
    "                            hsg_coord[1]*u.deg, \n",
    "                            #obstime=date,\n",
    "                            frame=HeliographicStonyhurst(obstime=date))\n",
    "\n",
    "    # Transform to Helioprojective cartesian\n",
    "    hpc_coord = hsg_skycoord.transform_to(Helioprojective(obstime=date,\n",
    "                                          observer=observer))\n",
    "\n",
    "    return hpc_coord"
   ]
  },
  {
   "cell_type": "code",
   "execution_count": 8,
   "metadata": {},
   "outputs": [],
   "source": [
    "def flare_coord_to_float(coord_string):\n",
    "    # Convert the flare coordinates from string to 2 float values\n",
    "    sign_ns = 1\n",
    "    sign_ew = 1\n",
    "    if coord_string[0] == 'S': sign_ns = -1\n",
    "    if coord_string[3] == 'E': sign_ew = -1\n",
    "    coord_ns = float(coord_string[1:3])\n",
    "    coord_ew = float(coord_string[4:6])\n",
    "    lon = (sign_ew * coord_ew) #* u.deg\n",
    "    lat = (sign_ns * coord_ns) #* u.deg\n",
    "    return (lon,lat)\n",
    "    # print(\"Flare location: %3i , %3i\"%(lon,lat))\n"
   ]
  },
  {
   "cell_type": "code",
   "execution_count": 9,
   "metadata": {},
   "outputs": [],
   "source": [
    "def transform_HGS_to_HPC(coord, peak_time):\n",
    "    # Transform the locations from HGS string to HPC coordinates\n",
    "    # Get the Earth coordinates in hgs\n",
    "    earth_hgs = get_earth(Time(peak_time).isot)\n",
    "\n",
    "    # Transform the coordinates of the flare location from hgs to hpc\n",
    "    hpc_coord = hgs2hpc([coord[0], coord[1]], peak_time, earth_hgs)\n",
    "\n",
    "    # Store the coordinates\n",
    "    flare_loc_earth_hpc = [hpc_coord.Tx.value,hpc_coord.Ty.value]\n",
    "    # print(\"Helioprojective location: %7.1f , %7.1f\"%(flare_loc_earth_hpc[0],flare_loc_earth_hpc[1]))\n",
    "    \n",
    "    return flare_loc_earth_hpc\n",
    "\n"
   ]
  },
  {
   "cell_type": "code",
   "execution_count": 63,
   "metadata": {},
   "outputs": [],
   "source": [
    "def plot_aia_stix_overlay(uid, peak_time_so, start_time_so, end_time_so, \n",
    "                          energy_low, energy_high, flare_loc, wavelength=1700):\n",
    "    # Open STIX map, download AIA map closest to peak time, re-project to STIX viewpoint,\n",
    "    # and generate a plot showing the overlay of STIX on top\n",
    "    # stix_map_file = glob.glob(folder_stix + '*'+str(uid)+'*.fits')\n",
    "    # STIX maps computed without applying any pointing correction:\n",
    "    stix_map_file = glob.glob(folder_stix + peak_time_so + '_' + str(uid) + '*No-SAS_mem.fits')\n",
    "    print(\"Found STIX map: \",stix_map_file)\n",
    "    stix_map = Map(stix_map_file[0])\n",
    "    \n",
    "    # Get the light travel time correction from the FITS header\n",
    "    ltt = stix_map.meta['EAR_TDEL']\n",
    "    print('Light travel time correction: '+str(ltt)+' s')\n",
    "\n",
    "    # Time at Earth\n",
    "    # time_earth = Time(peak_time_so) + ltt*u.s\n",
    "    # Better use the average time used to generate STIX map:\n",
    "    time_earth = Time(stix_map.meta['date-avg']) + ltt*u.s\n",
    "\n",
    "    # Download the AIA map\n",
    "    print(\"Downloading AIA image...\")\n",
    "    aia_map = download_aia(time_earth, wavelength, email, folder_store=folder_store)\n",
    "    \n",
    "    # modify the value for rsun in AIA map to match the one in STIX map\n",
    "    aia_map.meta['rsun_ref'] = stix_map.meta['rsun_ref']\n",
    "\n",
    "    # convert flare location to HPC coordinates\n",
    "    coord = flare_coord_to_float(flare_loc)\n",
    "    flare_loc_earth_hpc = transform_HGS_to_HPC(coord, peak_time_so)\n",
    "\n",
    "    # Extract the submap according to the flare location as seen from Earth\n",
    "    bottom_left = SkyCoord((flare_loc_earth_hpc[0]-fov[0]/2)*u.arcsec,\n",
    "                       (flare_loc_earth_hpc[1]-fov[1]/2)*u.arcsec,\n",
    "                       frame=aia_map.coordinate_frame)\n",
    "    top_right = SkyCoord((flare_loc_earth_hpc[0]+fov[0]/2)*u.arcsec,\n",
    "                     (flare_loc_earth_hpc[1]+fov[1]/2)*u.arcsec,\n",
    "                     frame=aia_map.coordinate_frame)\n",
    "    submap = aia_map.submap(bottom_left, top_right=top_right)\n",
    "    \n",
    "    # Reproject the AIA map to the STIX view\n",
    "    rmap_aia, stix_center = reproject_aia2so(submap, stix_map)\n",
    "\n",
    "    # Save the reprojected map\n",
    "    rmap_aia.save(folder_store_rmaps+'reprojected-AIA'+str(wavelength)+'_'+str(peak_time_so)+'.fits', overwrite=1)\n",
    "\n",
    "    # Select sub-maps covering the same region with both instruments\n",
    "    # but shift center by 30'' upwards, to take into account at least\n",
    "    # some fraction of the systematic error\n",
    "    bottom_left_plot = SkyCoord((stix_center[0]-fov_plot[0]/2)*u.arcsec,\n",
    "                            (stix_center[1]-fov_plot[1]/2 + 30.)*u.arcsec,\n",
    "                            frame=rmap_aia.coordinate_frame)\n",
    "    top_right_plot = SkyCoord((stix_center[0]+fov_plot[0]/2)*u.arcsec,\n",
    "                          (stix_center[1]+fov_plot[1]/2 + 30.)*u.arcsec,\n",
    "                          frame=rmap_aia.coordinate_frame)\n",
    "    sub_rmap_aia = rmap_aia.submap(bottom_left_plot, top_right=top_right_plot)\n",
    "    sub_stix_map = stix_map.submap(bottom_left_plot, top_right=top_right_plot)\n",
    "\n",
    "    ##########\n",
    "    # Here comes the plot\n",
    "    fig = plt.figure(figsize=(10,10), dpi=100, facecolor='white')\n",
    "    ax = plt.subplot(projection=sub_rmap_aia)\n",
    "    sub_rmap_aia.plot(axes=ax)\n",
    "    sub_stix_map.draw_contours([30,50,70,90]*u.pct, axes=ax, colors='black')\n",
    "    lon = ax.coords[0]\n",
    "    lon.display_minor_ticks(True)\n",
    "    lat = ax.coords[1]\n",
    "    lat.display_minor_ticks(True)\n",
    "    lon.grid(color='black', alpha=1, linestyle='solid')\n",
    "    lat.grid(color='black', alpha=1, linestyle='solid')\n",
    "    ax.set_title(aia_map.meta['date-obs']+'   Earth UT')\n",
    "\n",
    "\n",
    "    # Add some text caption\n",
    "    x_txt = 0.04\n",
    "    y_txt = 0.96\n",
    "    dy = 0.03\n",
    "\n",
    "    ax.text(x_txt, y_txt, 'Data request UID: '+str(uid),\n",
    "            verticalalignment='top', horizontalalignment='left',\n",
    "            transform=ax.transAxes,\n",
    "            color='black', fontsize=15)\n",
    "    ax.text(x_txt, y_txt-dy, 'Time range (SO UT): '+start_time_so+' - '+end_time_so,\n",
    "            verticalalignment='top', horizontalalignment='left',\n",
    "            transform=ax.transAxes,\n",
    "            color='black', fontsize=15)\n",
    "    ax.text(x_txt, y_txt-2*dy, 'Energy range (keV): %2s - %2s'%(str(energy_low),str(energy_high)),\n",
    "            verticalalignment='top', horizontalalignment='left',\n",
    "            transform=ax.transAxes,\n",
    "            color='black', fontsize=15)\n",
    "\n",
    "    # Export to PNG\n",
    "    plt.savefig(folder_plots+'AIA'+str(wavelength)+'-STIX_'+str(peak_time_so)+'_'+str(uid)+'.png')\n",
    "    \n",
    "    # Close figure to free memory (?)\n",
    "    plt.close()\n"
   ]
  },
  {
   "cell_type": "markdown",
   "metadata": {},
   "source": [
    "## Loop over many (all) events"
   ]
  },
  {
   "cell_type": "code",
   "execution_count": 71,
   "metadata": {},
   "outputs": [
    {
     "data": {
      "text/html": [
       "<div>\n",
       "<style scoped>\n",
       "    .dataframe tbody tr th:only-of-type {\n",
       "        vertical-align: middle;\n",
       "    }\n",
       "\n",
       "    .dataframe tbody tr th {\n",
       "        vertical-align: top;\n",
       "    }\n",
       "\n",
       "    .dataframe thead th {\n",
       "        text-align: right;\n",
       "    }\n",
       "</style>\n",
       "<table border=\"1\" class=\"dataframe\">\n",
       "  <thead>\n",
       "    <tr style=\"text-align: right;\">\n",
       "      <th></th>\n",
       "      <th>Peak time (UTC)</th>\n",
       "      <th>GOES</th>\n",
       "      <th>SSW loc.</th>\n",
       "      <th>UID</th>\n",
       "      <th>t min</th>\n",
       "      <th>t max</th>\n",
       "      <th>E min</th>\n",
       "      <th>E max</th>\n",
       "    </tr>\n",
       "  </thead>\n",
       "  <tbody>\n",
       "    <tr>\n",
       "      <th>0</th>\n",
       "      <td>2021-03-02T23:56</td>\n",
       "      <td>C1.2</td>\n",
       "      <td>S19E43</td>\n",
       "      <td>2103020009</td>\n",
       "      <td>2021-03-02T23:56:40</td>\n",
       "      <td>2021-03-02T23:58:10</td>\n",
       "      <td>4</td>\n",
       "      <td>15</td>\n",
       "    </tr>\n",
       "    <tr>\n",
       "      <th>1</th>\n",
       "      <td>2021-05-07T18:50</td>\n",
       "      <td>M3.9</td>\n",
       "      <td>N17E78</td>\n",
       "      <td>2105070034</td>\n",
       "      <td>2021-05-07T18:50:00</td>\n",
       "      <td>2021-05-07T19:09:00</td>\n",
       "      <td>15</td>\n",
       "      <td>28</td>\n",
       "    </tr>\n",
       "    <tr>\n",
       "      <th>2</th>\n",
       "      <td>2021-07-24T00:25</td>\n",
       "      <td>C4.3</td>\n",
       "      <td>S16E52</td>\n",
       "      <td>2107240003</td>\n",
       "      <td>2021-07-24T00:24:25</td>\n",
       "      <td>2021-07-24T00:27:30</td>\n",
       "      <td>10</td>\n",
       "      <td>25</td>\n",
       "    </tr>\n",
       "    <tr>\n",
       "      <th>3</th>\n",
       "      <td>2021-08-13T20:59</td>\n",
       "      <td>C1.4</td>\n",
       "      <td>N24E00</td>\n",
       "      <td>2108130003</td>\n",
       "      <td>2021-08-13T21:03:55</td>\n",
       "      <td>2021-08-13T21:05:55</td>\n",
       "      <td>4</td>\n",
       "      <td>20</td>\n",
       "    </tr>\n",
       "    <tr>\n",
       "      <th>4</th>\n",
       "      <td>2021-08-26T23:16</td>\n",
       "      <td>C3.9</td>\n",
       "      <td>S30E21</td>\n",
       "      <td>2108260029</td>\n",
       "      <td>2021-08-26T23:17:55</td>\n",
       "      <td>2021-08-26T23:19:35</td>\n",
       "      <td>20</td>\n",
       "      <td>28</td>\n",
       "    </tr>\n",
       "    <tr>\n",
       "      <th>...</th>\n",
       "      <td>...</td>\n",
       "      <td>...</td>\n",
       "      <td>...</td>\n",
       "      <td>...</td>\n",
       "      <td>...</td>\n",
       "      <td>...</td>\n",
       "      <td>...</td>\n",
       "      <td>...</td>\n",
       "    </tr>\n",
       "    <tr>\n",
       "      <th>67</th>\n",
       "      <td>2023-02-24T20:23</td>\n",
       "      <td>M3.7</td>\n",
       "      <td>N29W24</td>\n",
       "      <td>2302247218</td>\n",
       "      <td>2023-02-24T20:16:35</td>\n",
       "      <td>2023-02-24T20:18:50</td>\n",
       "      <td>25</td>\n",
       "      <td>40</td>\n",
       "    </tr>\n",
       "    <tr>\n",
       "      <th>68</th>\n",
       "      <td>2023-02-25T19:34</td>\n",
       "      <td>M6.4</td>\n",
       "      <td>N24W45</td>\n",
       "      <td>2302250933</td>\n",
       "      <td>2023-02-25T19:21:50</td>\n",
       "      <td>2023-02-25T19:25:40</td>\n",
       "      <td>25</td>\n",
       "      <td>40</td>\n",
       "    </tr>\n",
       "    <tr>\n",
       "      <th>69</th>\n",
       "      <td>2023-02-28T17:47</td>\n",
       "      <td>M8.6</td>\n",
       "      <td>N27W29</td>\n",
       "      <td>2302282620</td>\n",
       "      <td>2023-02-28T17:40:45</td>\n",
       "      <td>2023-02-28T17:41:17</td>\n",
       "      <td>25</td>\n",
       "      <td>50</td>\n",
       "    </tr>\n",
       "    <tr>\n",
       "      <th>70</th>\n",
       "      <td>2023-03-05T21:32</td>\n",
       "      <td>M5.0</td>\n",
       "      <td>N18W60</td>\n",
       "      <td>2303057087</td>\n",
       "      <td>2023-03-05T21:28:40</td>\n",
       "      <td>2023-03-05T21:33:15</td>\n",
       "      <td>25</td>\n",
       "      <td>50</td>\n",
       "    </tr>\n",
       "    <tr>\n",
       "      <th>71</th>\n",
       "      <td>2023-03-22T23:16</td>\n",
       "      <td>(B8)</td>\n",
       "      <td>S27W29</td>\n",
       "      <td>2303223740</td>\n",
       "      <td>2023-03-22T23:15:43</td>\n",
       "      <td>2023-03-22T23:17:04</td>\n",
       "      <td>8</td>\n",
       "      <td>15</td>\n",
       "    </tr>\n",
       "  </tbody>\n",
       "</table>\n",
       "<p>72 rows × 8 columns</p>\n",
       "</div>"
      ],
      "text/plain": [
       "     Peak time (UTC)   GOES  SSW loc.         UID                 t min  \\\n",
       "0   2021-03-02T23:56   C1.2    S19E43  2103020009   2021-03-02T23:56:40   \n",
       "1   2021-05-07T18:50   M3.9    N17E78  2105070034   2021-05-07T18:50:00   \n",
       "2   2021-07-24T00:25   C4.3    S16E52  2107240003   2021-07-24T00:24:25   \n",
       "3   2021-08-13T20:59   C1.4    N24E00  2108130003   2021-08-13T21:03:55   \n",
       "4   2021-08-26T23:16   C3.9    S30E21  2108260029   2021-08-26T23:17:55   \n",
       "..               ...    ...       ...         ...                   ...   \n",
       "67  2023-02-24T20:23   M3.7    N29W24  2302247218   2023-02-24T20:16:35   \n",
       "68  2023-02-25T19:34   M6.4    N24W45  2302250933   2023-02-25T19:21:50   \n",
       "69  2023-02-28T17:47   M8.6    N27W29  2302282620   2023-02-28T17:40:45   \n",
       "70  2023-03-05T21:32   M5.0    N18W60  2303057087   2023-03-05T21:28:40   \n",
       "71  2023-03-22T23:16   (B8)    S27W29  2303223740   2023-03-22T23:15:43   \n",
       "\n",
       "                   t max   E min   E max  \n",
       "0    2021-03-02T23:58:10       4      15  \n",
       "1    2021-05-07T19:09:00      15      28  \n",
       "2    2021-07-24T00:27:30      10      25  \n",
       "3    2021-08-13T21:05:55       4      20  \n",
       "4    2021-08-26T23:19:35      20      28  \n",
       "..                   ...     ...     ...  \n",
       "67   2023-02-24T20:18:50      25      40  \n",
       "68   2023-02-25T19:25:40      25      40  \n",
       "69   2023-02-28T17:41:17      25      50  \n",
       "70   2023-03-05T21:33:15      25      50  \n",
       "71   2023-03-22T23:17:04       8      15  \n",
       "\n",
       "[72 rows x 8 columns]"
      ]
     },
     "execution_count": 71,
     "metadata": {},
     "output_type": "execute_result"
    }
   ],
   "source": [
    "# Read file with all parameters\n",
    "input_csv = '/home/fschuller/Documents/SolarOrb/Flare_location_SDO+STIX-imaging.csv'\n",
    "df = pd.read_csv(input_csv, header=1)\n",
    "\n",
    "df\n"
   ]
  },
  {
   "cell_type": "code",
   "execution_count": 72,
   "metadata": {},
   "outputs": [],
   "source": [
    "# Store variables of interests\n",
    "peak_times_so = list(df.iloc[:,0])\n",
    "flare_loc_earth_string = list(df.iloc[:,2])\n",
    "uid = list(df.iloc[:,3])\n",
    "start_time_so = list(df.iloc[:,4])\n",
    "end_time_so = list(df.iloc[:,5])\n",
    "energy_low  = list(df.iloc[:,6])\n",
    "energy_high = list(df.iloc[:,7])\n"
   ]
  },
  {
   "cell_type": "code",
   "execution_count": 73,
   "metadata": {},
   "outputs": [
    {
     "name": "stdout",
     "output_type": "stream",
     "text": [
      "Found STIX map:  ['/net/galilei/work2/fschuller/data/STIX-maps/2021-03-02T23:56_2103020009_No-SAS_mem.fits']\n",
      "Light travel time correction: 212.942612696 s\n",
      "Downloading AIA image...\n",
      "Export request pending. [id=JSOC_20230728_3770, status=2]\n",
      "Waiting for 0 seconds...\n",
      "Export request pending. [id=JSOC_20230728_3770, status=1]\n",
      "Waiting for 5 seconds...\n",
      "Export request pending. [id=JSOC_20230728_3770, status=1]\n",
      "Waiting for 5 seconds...\n",
      "Export request pending. [id=JSOC_20230728_3770, status=1]\n",
      "Waiting for 5 seconds...\n",
      "1 URLs found for download. Full request totalling 12MB\n"
     ]
    },
    {
     "data": {
      "application/vnd.jupyter.widget-view+json": {
       "model_id": "cc42c8d9d2664cb0b4c70c575273f501",
       "version_major": 2,
       "version_minor": 0
      },
      "text/plain": [
       "Files Downloaded:   0%|          | 0/1 [00:00<?, ?file/s]"
      ]
     },
     "metadata": {},
     "output_type": "display_data"
    },
    {
     "data": {
      "application/vnd.jupyter.widget-view+json": {
       "model_id": "",
       "version_major": 2,
       "version_minor": 0
      },
      "text/plain": [
       "aia.lev1_uv_24s.2021-03-03T000053Z.1700.image_lev1.fits:   0%|          | 0.00/12.5M [00:00<?, ?B/s]"
      ]
     },
     "metadata": {},
     "output_type": "display_data"
    },
    {
     "name": "stdout",
     "output_type": "stream",
     "text": [
      "Found STIX map:  ['/net/galilei/work2/fschuller/data/STIX-maps/2021-05-07T18:50_2105070034_No-SAS_mem.fits']\n",
      "Light travel time correction: 45.8282952873 s\n",
      "Downloading AIA image...\n",
      "Export request pending. [id=JSOC_20230728_3774, status=2]\n",
      "Waiting for 0 seconds...\n",
      "Export request pending. [id=JSOC_20230728_3774, status=1]\n",
      "Waiting for 5 seconds...\n",
      "Export request pending. [id=JSOC_20230728_3774, status=1]\n",
      "Waiting for 5 seconds...\n",
      "Export request pending. [id=JSOC_20230728_3774, status=1]\n",
      "Waiting for 5 seconds...\n",
      "Export request pending. [id=JSOC_20230728_3774, status=1]\n",
      "Waiting for 5 seconds...\n",
      "1 URLs found for download. Full request totalling 12MB\n"
     ]
    },
    {
     "data": {
      "application/vnd.jupyter.widget-view+json": {
       "model_id": "fe42daef5de945f989c1f9bb1bd0226c",
       "version_major": 2,
       "version_minor": 0
      },
      "text/plain": [
       "Files Downloaded:   0%|          | 0/1 [00:00<?, ?file/s]"
      ]
     },
     "metadata": {},
     "output_type": "display_data"
    },
    {
     "data": {
      "application/vnd.jupyter.widget-view+json": {
       "model_id": "",
       "version_major": 2,
       "version_minor": 0
      },
      "text/plain": [
       "aia.lev1_uv_24s.2021-05-07T190029Z.1700.image_lev1.fits:   0%|          | 0.00/12.4M [00:00<?, ?B/s]"
      ]
     },
     "metadata": {},
     "output_type": "display_data"
    },
    {
     "name": "stdout",
     "output_type": "stream",
     "text": [
      "Found STIX map:  ['/net/galilei/work2/fschuller/data/STIX-maps/2021-07-24T00:25_2107240003_No-SAS_mem.fits']\n",
      "Light travel time correction: 98.8058078094 s\n",
      "Downloading AIA image...\n",
      "Export request pending. [id=JSOC_20230728_3780, status=2]\n",
      "Waiting for 0 seconds...\n",
      "Export request pending. [id=JSOC_20230728_3780, status=1]\n",
      "Waiting for 5 seconds...\n",
      "Export request pending. [id=JSOC_20230728_3780, status=1]\n",
      "Waiting for 5 seconds...\n",
      "Export request pending. [id=JSOC_20230728_3780, status=1]\n",
      "Waiting for 5 seconds...\n",
      "1 URLs found for download. Full request totalling 12MB\n"
     ]
    },
    {
     "data": {
      "application/vnd.jupyter.widget-view+json": {
       "model_id": "7b2e216a2ac14ba79675439cfc068ccc",
       "version_major": 2,
       "version_minor": 0
      },
      "text/plain": [
       "Files Downloaded:   0%|          | 0/1 [00:00<?, ?file/s]"
      ]
     },
     "metadata": {},
     "output_type": "display_data"
    },
    {
     "data": {
      "application/vnd.jupyter.widget-view+json": {
       "model_id": "",
       "version_major": 2,
       "version_minor": 0
      },
      "text/plain": [
       "aia.lev1_uv_24s.2021-07-24T002741Z.1700.image_lev1.fits:   0%|          | 0.00/12.3M [00:00<?, ?B/s]"
      ]
     },
     "metadata": {},
     "output_type": "display_data"
    },
    {
     "name": "stdout",
     "output_type": "stream",
     "text": [
      "Found STIX map:  ['/net/galilei/work2/fschuller/data/STIX-maps/2021-08-13T20:59_2108130003_No-SAS_mem.fits']\n",
      "Light travel time correction: 159.25829257 s\n",
      "Downloading AIA image...\n",
      "Export request pending. [id=JSOC_20230728_3785, status=2]\n",
      "Waiting for 0 seconds...\n",
      "Export request pending. [id=JSOC_20230728_3785, status=1]\n",
      "Waiting for 5 seconds...\n",
      "Export request pending. [id=JSOC_20230728_3785, status=1]\n",
      "Waiting for 5 seconds...\n",
      "Export request pending. [id=JSOC_20230728_3785, status=1]\n",
      "Waiting for 5 seconds...\n",
      "Export request pending. [id=JSOC_20230728_3785, status=1]\n",
      "Waiting for 5 seconds...\n",
      "Export request pending. [id=JSOC_20230728_3785, status=1]\n",
      "Waiting for 5 seconds...\n",
      "1 URLs found for download. Full request totalling 12MB\n"
     ]
    },
    {
     "data": {
      "application/vnd.jupyter.widget-view+json": {
       "model_id": "fc7b97be58a44f2598c6c1f7fc3cdbe6",
       "version_major": 2,
       "version_minor": 0
      },
      "text/plain": [
       "Files Downloaded:   0%|          | 0/1 [00:00<?, ?file/s]"
      ]
     },
     "metadata": {},
     "output_type": "display_data"
    },
    {
     "data": {
      "application/vnd.jupyter.widget-view+json": {
       "model_id": "",
       "version_major": 2,
       "version_minor": 0
      },
      "text/plain": [
       "aia.lev1_uv_24s.2021-08-13T210741Z.1700.image_lev1.fits:   0%|          | 0.00/12.3M [00:00<?, ?B/s]"
      ]
     },
     "metadata": {},
     "output_type": "display_data"
    },
    {
     "name": "stdout",
     "output_type": "stream",
     "text": [
      "Found STIX map:  ['/net/galilei/work2/fschuller/data/STIX-maps/2021-08-26T23:16_2108260029_No-SAS_mem.fits']\n",
      "Light travel time correction: 192.846895166 s\n",
      "Downloading AIA image...\n",
      "Export request pending. [id=JSOC_20230728_3793, status=2]\n",
      "Waiting for 0 seconds...\n",
      "Export request pending. [id=JSOC_20230728_3793, status=1]\n",
      "Waiting for 5 seconds...\n",
      "Export request pending. [id=JSOC_20230728_3793, status=1]\n",
      "Waiting for 5 seconds...\n",
      "Export request pending. [id=JSOC_20230728_3793, status=1]\n",
      "Waiting for 5 seconds...\n",
      "Export request pending. [id=JSOC_20230728_3793, status=1]\n",
      "Waiting for 5 seconds...\n",
      "1 URLs found for download. Full request totalling 12MB\n"
     ]
    },
    {
     "data": {
      "application/vnd.jupyter.widget-view+json": {
       "model_id": "99c68df249ab4c84b921f530835f0006",
       "version_major": 2,
       "version_minor": 0
      },
      "text/plain": [
       "Files Downloaded:   0%|          | 0/1 [00:00<?, ?file/s]"
      ]
     },
     "metadata": {},
     "output_type": "display_data"
    },
    {
     "data": {
      "application/vnd.jupyter.widget-view+json": {
       "model_id": "",
       "version_major": 2,
       "version_minor": 0
      },
      "text/plain": [
       "aia.lev1_uv_24s.2021-08-26T232205Z.1700.image_lev1.fits:   0%|          | 0.00/12.3M [00:00<?, ?B/s]"
      ]
     },
     "metadata": {},
     "output_type": "display_data"
    },
    {
     "name": "stdout",
     "output_type": "stream",
     "text": [
      "Found STIX map:  ['/net/galilei/work2/fschuller/data/STIX-maps/2021-08-28T05:00_2108280287_No-SAS_mem.fits']\n",
      "Light travel time correction: 195.280542637 s\n",
      "Downloading AIA image...\n",
      "Export request pending. [id=JSOC_20230728_3800, status=2]\n",
      "Waiting for 0 seconds...\n",
      "Export request pending. [id=JSOC_20230728_3800, status=1]\n",
      "Waiting for 5 seconds...\n",
      "Export request pending. [id=JSOC_20230728_3800, status=1]\n",
      "Waiting for 5 seconds...\n",
      "Export request pending. [id=JSOC_20230728_3800, status=1]\n",
      "Waiting for 5 seconds...\n",
      "1 URLs found for download. Full request totalling 12MB\n"
     ]
    },
    {
     "data": {
      "application/vnd.jupyter.widget-view+json": {
       "model_id": "562113477d9943138101fd831ae07a74",
       "version_major": 2,
       "version_minor": 0
      },
      "text/plain": [
       "Files Downloaded:   0%|          | 0/1 [00:00<?, ?file/s]"
      ]
     },
     "metadata": {},
     "output_type": "display_data"
    },
    {
     "data": {
      "application/vnd.jupyter.widget-view+json": {
       "model_id": "",
       "version_major": 2,
       "version_minor": 0
      },
      "text/plain": [
       "aia.lev1_uv_24s.2021-08-28T050453Z.1700.image_lev1.fits:   0%|          | 0.00/12.4M [00:00<?, ?B/s]"
      ]
     },
     "metadata": {},
     "output_type": "display_data"
    },
    {
     "name": "stdout",
     "output_type": "stream",
     "text": [
      "Found STIX map:  ['/net/galilei/work2/fschuller/data/STIX-maps/2021-08-28T05:55:05_2108290154_No-SAS_mem.fits']\n",
      "Light travel time correction: 195.371626694 s\n",
      "Downloading AIA image...\n",
      "Export request pending. [id=JSOC_20230728_3804, status=2]\n",
      "Waiting for 0 seconds...\n",
      "Export request pending. [id=JSOC_20230728_3804, status=1]\n",
      "Waiting for 5 seconds...\n",
      "Export request pending. [id=JSOC_20230728_3804, status=1]\n",
      "Waiting for 5 seconds...\n",
      "Export request pending. [id=JSOC_20230728_3804, status=1]\n",
      "Waiting for 5 seconds...\n",
      "Export request pending. [id=JSOC_20230728_3804, status=1]\n",
      "Waiting for 5 seconds...\n",
      "1 URLs found for download. Full request totalling 12MB\n"
     ]
    },
    {
     "data": {
      "application/vnd.jupyter.widget-view+json": {
       "model_id": "32fe92804f9346cd859320df2af82d4c",
       "version_major": 2,
       "version_minor": 0
      },
      "text/plain": [
       "Files Downloaded:   0%|          | 0/1 [00:00<?, ?file/s]"
      ]
     },
     "metadata": {},
     "output_type": "display_data"
    },
    {
     "name": "stdout",
     "output_type": "stream",
     "text": [
      "Found STIX map:  ['/net/galilei/work2/fschuller/data/STIX-maps/2021-08-28T06:03:20_2108290154_No-SAS_mem.fits']\n",
      "Light travel time correction: 195.371626694 s\n",
      "Downloading AIA image...\n",
      "Export request pending. [id=JSOC_20230728_3809, status=2]\n",
      "Waiting for 0 seconds...\n",
      "Export request pending. [id=JSOC_20230728_3809, status=1]\n",
      "Waiting for 5 seconds...\n",
      "Export request pending. [id=JSOC_20230728_3809, status=1]\n",
      "Waiting for 5 seconds...\n",
      "Export request pending. [id=JSOC_20230728_3809, status=1]\n",
      "Waiting for 5 seconds...\n",
      "Export request pending. [id=JSOC_20230728_3809, status=1]\n",
      "Waiting for 5 seconds...\n",
      "1 URLs found for download. Full request totalling 12MB\n"
     ]
    },
    {
     "data": {
      "application/vnd.jupyter.widget-view+json": {
       "model_id": "c5635e11e1e04b58997487cf343fb7e9",
       "version_major": 2,
       "version_minor": 0
      },
      "text/plain": [
       "Files Downloaded:   0%|          | 0/1 [00:00<?, ?file/s]"
      ]
     },
     "metadata": {},
     "output_type": "display_data"
    },
    {
     "name": "stdout",
     "output_type": "stream",
     "text": [
      "Found STIX map:  ['/net/galilei/work2/fschuller/data/STIX-maps/2021-08-28T14:13_2108290164_No-SAS_mem.fits']\n",
      "Light travel time correction: 196.002519656 s\n",
      "Downloading AIA image...\n",
      "Export request pending. [id=JSOC_20230728_3814, status=2]\n",
      "Waiting for 0 seconds...\n",
      "Export request pending. [id=JSOC_20230728_3814, status=1]\n",
      "Waiting for 5 seconds...\n",
      "Export request pending. [id=JSOC_20230728_3814, status=1]\n",
      "Waiting for 5 seconds...\n",
      "Export request pending. [id=JSOC_20230728_3814, status=1]\n",
      "Waiting for 5 seconds...\n",
      "Export request pending. [id=JSOC_20230728_3814, status=1]\n",
      "Waiting for 5 seconds...\n",
      "1 URLs found for download. Full request totalling 12MB\n"
     ]
    },
    {
     "data": {
      "application/vnd.jupyter.widget-view+json": {
       "model_id": "933b07592886490a8f238be9b42453d1",
       "version_major": 2,
       "version_minor": 0
      },
      "text/plain": [
       "Files Downloaded:   0%|          | 0/1 [00:00<?, ?file/s]"
      ]
     },
     "metadata": {},
     "output_type": "display_data"
    },
    {
     "name": "stdout",
     "output_type": "stream",
     "text": [
      "Found STIX map:  ['/net/galilei/work2/fschuller/data/STIX-maps/2021-08-29T09:58_2108290140_No-SAS_mem.fits']\n",
      "Light travel time correction: 197.511527955 s\n",
      "Downloading AIA image...\n",
      "Export request pending. [id=JSOC_20230728_3820, status=2]\n",
      "Waiting for 0 seconds...\n",
      "Export request pending. [id=JSOC_20230728_3820, status=1]\n",
      "Waiting for 5 seconds...\n",
      "Export request pending. [id=JSOC_20230728_3820, status=1]\n",
      "Waiting for 5 seconds...\n",
      "Export request pending. [id=JSOC_20230728_3820, status=1]\n",
      "Waiting for 5 seconds...\n",
      "1 URLs found for download. Full request totalling 12MB\n"
     ]
    },
    {
     "data": {
      "application/vnd.jupyter.widget-view+json": {
       "model_id": "0703035bc1924229bfaa72a63583e633",
       "version_major": 2,
       "version_minor": 0
      },
      "text/plain": [
       "Files Downloaded:   0%|          | 0/1 [00:00<?, ?file/s]"
      ]
     },
     "metadata": {},
     "output_type": "display_data"
    },
    {
     "data": {
      "application/vnd.jupyter.widget-view+json": {
       "model_id": "",
       "version_major": 2,
       "version_minor": 0
      },
      "text/plain": [
       "aia.lev1_uv_24s.2021-08-29T100253Z.1700.image_lev1.fits:   0%|          | 0.00/12.3M [00:00<?, ?B/s]"
      ]
     },
     "metadata": {},
     "output_type": "display_data"
    },
    {
     "name": "stdout",
     "output_type": "stream",
     "text": [
      "Found STIX map:  ['/net/galilei/work2/fschuller/data/STIX-maps/2021-09-03T20:36_2109030087_No-SAS_mem.fits']\n",
      "Light travel time correction: 205.352624082 s\n",
      "Downloading AIA image...\n",
      "Export request pending. [id=JSOC_20230728_3826, status=2]\n",
      "Waiting for 0 seconds...\n",
      "Export request pending. [id=JSOC_20230728_3826, status=1]\n",
      "Waiting for 5 seconds...\n",
      "Export request pending. [id=JSOC_20230728_3826, status=1]\n",
      "Waiting for 5 seconds...\n",
      "Export request pending. [id=JSOC_20230728_3826, status=1]\n",
      "Waiting for 5 seconds...\n",
      "1 URLs found for download. Full request totalling 12MB\n"
     ]
    },
    {
     "data": {
      "application/vnd.jupyter.widget-view+json": {
       "model_id": "e3aff8b13f054fcd83c1466f4d984c2b",
       "version_major": 2,
       "version_minor": 0
      },
      "text/plain": [
       "Files Downloaded:   0%|          | 0/1 [00:00<?, ?file/s]"
      ]
     },
     "metadata": {},
     "output_type": "display_data"
    },
    {
     "data": {
      "application/vnd.jupyter.widget-view+json": {
       "model_id": "",
       "version_major": 2,
       "version_minor": 0
      },
      "text/plain": [
       "aia.lev1_uv_24s.2021-09-03T204029Z.1700.image_lev1.fits:   0%|          | 0.00/12.3M [00:00<?, ?B/s]"
      ]
     },
     "metadata": {},
     "output_type": "display_data"
    },
    {
     "name": "stdout",
     "output_type": "stream",
     "text": [
      "Found STIX map:  ['/net/galilei/work2/fschuller/data/STIX-maps/2021-09-23T15:24_2109230075_No-SAS_mem.fits']\n",
      "Light travel time correction: 198.770100219 s\n",
      "Downloading AIA image...\n",
      "Export request pending. [id=JSOC_20230728_3830, status=2]\n",
      "Waiting for 0 seconds...\n",
      "Export request pending. [id=JSOC_20230728_3830, status=1]\n",
      "Waiting for 5 seconds...\n",
      "Export request pending. [id=JSOC_20230728_3830, status=1]\n",
      "Waiting for 5 seconds...\n",
      "Export request pending. [id=JSOC_20230728_3830, status=1]\n",
      "Waiting for 5 seconds...\n",
      "Export request pending. [id=JSOC_20230728_3830, status=1]\n",
      "Waiting for 5 seconds...\n",
      "Export request pending. [id=JSOC_20230728_3830, status=1]\n",
      "Waiting for 5 seconds...\n",
      "1 URLs found for download. Full request totalling 12MB\n"
     ]
    },
    {
     "data": {
      "application/vnd.jupyter.widget-view+json": {
       "model_id": "712d916c438948b18db6086de64c425a",
       "version_major": 2,
       "version_minor": 0
      },
      "text/plain": [
       "Files Downloaded:   0%|          | 0/1 [00:00<?, ?file/s]"
      ]
     },
     "metadata": {},
     "output_type": "display_data"
    },
    {
     "data": {
      "application/vnd.jupyter.widget-view+json": {
       "model_id": "",
       "version_major": 2,
       "version_minor": 0
      },
      "text/plain": [
       "aia.lev1_uv_24s.2021-09-23T152453Z.1700.image_lev1.fits:   0%|          | 0.00/12.4M [00:00<?, ?B/s]"
      ]
     },
     "metadata": {},
     "output_type": "display_data"
    },
    {
     "name": "stdout",
     "output_type": "stream",
     "text": [
      "Found STIX map:  ['/net/galilei/work2/fschuller/data/STIX-maps/2021-09-24T07:00_2109240055_No-SAS_mem.fits']\n",
      "Light travel time correction: 197.646098879 s\n",
      "Downloading AIA image...\n",
      "WARNING: no AIA data found within +/-12 s, increasing time range of query\n",
      "Export request pending. [id=JSOC_20230728_3838, status=2]\n",
      "Waiting for 0 seconds...\n",
      "Export request pending. [id=JSOC_20230728_3838, status=1]\n",
      "Waiting for 5 seconds...\n",
      "Export request pending. [id=JSOC_20230728_3838, status=1]\n",
      "Waiting for 5 seconds...\n",
      "Export request pending. [id=JSOC_20230728_3838, status=1]\n",
      "Waiting for 5 seconds...\n",
      "1 URLs found for download. Full request totalling 12MB\n"
     ]
    },
    {
     "data": {
      "application/vnd.jupyter.widget-view+json": {
       "model_id": "766ef4831d6c46f1808dae0acf67c1ef",
       "version_major": 2,
       "version_minor": 0
      },
      "text/plain": [
       "Files Downloaded:   0%|          | 0/1 [00:00<?, ?file/s]"
      ]
     },
     "metadata": {},
     "output_type": "display_data"
    },
    {
     "data": {
      "application/vnd.jupyter.widget-view+json": {
       "model_id": "",
       "version_major": 2,
       "version_minor": 0
      },
      "text/plain": [
       "aia.lev1_uv_24s.2021-09-24T070053Z.1700.image_lev1.fits:   0%|          | 0.00/12.4M [00:00<?, ?B/s]"
      ]
     },
     "metadata": {},
     "output_type": "display_data"
    },
    {
     "name": "stdout",
     "output_type": "stream",
     "text": [
      "Found STIX map:  ['/net/galilei/work2/fschuller/data/STIX-maps/2021-09-26T11:20_2109260046_No-SAS_mem.fits']\n",
      "Light travel time correction: 193.45645695 s\n",
      "Downloading AIA image...\n",
      "Export request pending. [id=JSOC_20230728_3843, status=2]\n",
      "Waiting for 0 seconds...\n",
      "Export request pending. [id=JSOC_20230728_3843, status=1]\n",
      "Waiting for 5 seconds...\n",
      "Export request pending. [id=JSOC_20230728_3843, status=1]\n",
      "Waiting for 5 seconds...\n",
      "Export request pending. [id=JSOC_20230728_3843, status=1]\n",
      "Waiting for 5 seconds...\n",
      "1 URLs found for download. Full request totalling 12MB\n"
     ]
    },
    {
     "data": {
      "application/vnd.jupyter.widget-view+json": {
       "model_id": "657a2b72645a47599d452199867439c7",
       "version_major": 2,
       "version_minor": 0
      },
      "text/plain": [
       "Files Downloaded:   0%|          | 0/1 [00:00<?, ?file/s]"
      ]
     },
     "metadata": {},
     "output_type": "display_data"
    },
    {
     "data": {
      "application/vnd.jupyter.widget-view+json": {
       "model_id": "",
       "version_major": 2,
       "version_minor": 0
      },
      "text/plain": [
       "aia.lev1_uv_24s.2021-09-26T112405Z.1700.image_lev1.fits:   0%|          | 0.00/12.4M [00:00<?, ?B/s]"
      ]
     },
     "metadata": {},
     "output_type": "display_data"
    },
    {
     "name": "stdout",
     "output_type": "stream",
     "text": [
      "Found STIX map:  ['/net/galilei/work2/fschuller/data/STIX-maps/2021-10-09T06:28:38_2110090002_No-SAS_mem.fits']\n",
      "Light travel time correction: 159.789666233 s\n",
      "Downloading AIA image...\n",
      "Export request pending. [id=JSOC_20230727_5696, status=2]\n",
      "Waiting for 0 seconds...\n",
      "1 URLs found for download. Full request totalling 12MB\n"
     ]
    },
    {
     "data": {
      "application/vnd.jupyter.widget-view+json": {
       "model_id": "db6c993809854ad68e49ad459efb3870",
       "version_major": 2,
       "version_minor": 0
      },
      "text/plain": [
       "Files Downloaded:   0%|          | 0/1 [00:00<?, ?file/s]"
      ]
     },
     "metadata": {},
     "output_type": "display_data"
    },
    {
     "name": "stderr",
     "output_type": "stream",
     "text": [
      "/home/fschuller/.local/lib/python3.11/site-packages/astropy/visualization/mpl_normalize.py:179: RuntimeWarning: invalid value encountered in divide\n",
      "  np.true_divide(values, self.vmax - self.vmin, out=values)\n",
      "/home/fschuller/.local/lib/python3.11/site-packages/astropy/visualization/mpl_normalize.py:179: RuntimeWarning: invalid value encountered in divide\n",
      "  np.true_divide(values, self.vmax - self.vmin, out=values)\n"
     ]
    },
    {
     "name": "stdout",
     "output_type": "stream",
     "text": [
      "Found STIX map:  ['/net/galilei/work2/fschuller/data/STIX-maps/2021-10-09T06:31:18_2110090002_No-SAS_mem.fits']\n",
      "Light travel time correction: 159.789666233 s\n",
      "Downloading AIA image...\n",
      "Export request pending. [id=JSOC_20230728_3851, status=2]\n",
      "Waiting for 0 seconds...\n",
      "Export request pending. [id=JSOC_20230728_3851, status=1]\n",
      "Waiting for 5 seconds...\n",
      "Export request pending. [id=JSOC_20230728_3851, status=1]\n",
      "Waiting for 5 seconds...\n",
      "Export request pending. [id=JSOC_20230728_3851, status=1]\n",
      "Waiting for 5 seconds...\n",
      "Export request pending. [id=JSOC_20230728_3851, status=1]\n",
      "Waiting for 5 seconds...\n",
      "Export request pending. [id=JSOC_20230728_3851, status=1]\n",
      "Waiting for 5 seconds...\n",
      "1 URLs found for download. Full request totalling 12MB\n"
     ]
    },
    {
     "data": {
      "application/vnd.jupyter.widget-view+json": {
       "model_id": "fb9922fd613c4e19a84a96dce47f4a74",
       "version_major": 2,
       "version_minor": 0
      },
      "text/plain": [
       "Files Downloaded:   0%|          | 0/1 [00:00<?, ?file/s]"
      ]
     },
     "metadata": {},
     "output_type": "display_data"
    },
    {
     "data": {
      "application/vnd.jupyter.widget-view+json": {
       "model_id": "",
       "version_major": 2,
       "version_minor": 0
      },
      "text/plain": [
       "aia.lev1_uv_24s.2021-10-09T063341Z.1700.image_lev1.fits:   0%|          | 0.00/12.4M [00:00<?, ?B/s]"
      ]
     },
     "metadata": {},
     "output_type": "display_data"
    },
    {
     "name": "stdout",
     "output_type": "stream",
     "text": [
      "Found STIX map:  ['/net/galilei/work2/fschuller/data/STIX-maps/2021-10-09T06:34:37_2110090002_No-SAS_mem.fits']\n",
      "Light travel time correction: 159.789666233 s\n",
      "Downloading AIA image...\n",
      "Export request pending. [id=JSOC_20230727_5704, status=2]\n",
      "Waiting for 0 seconds...\n",
      "1 URLs found for download. Full request totalling 12MB\n"
     ]
    },
    {
     "data": {
      "application/vnd.jupyter.widget-view+json": {
       "model_id": "6314049b1c3b444ab6925ec30ce3bf6e",
       "version_major": 2,
       "version_minor": 0
      },
      "text/plain": [
       "Files Downloaded:   0%|          | 0/1 [00:00<?, ?file/s]"
      ]
     },
     "metadata": {},
     "output_type": "display_data"
    },
    {
     "name": "stdout",
     "output_type": "stream",
     "text": [
      "Found STIX map:  ['/net/galilei/work2/fschuller/data/STIX-maps/2021-10-12T01:42_2110120032_No-SAS_mem.fits']\n",
      "Light travel time correction: 150.98777684 s\n",
      "Downloading AIA image...\n",
      "Export request pending. [id=JSOC_20230728_3861, status=2]\n",
      "Waiting for 0 seconds...\n",
      "Export request pending. [id=JSOC_20230728_3861, status=1]\n",
      "Waiting for 5 seconds...\n",
      "Export request pending. [id=JSOC_20230728_3861, status=1]\n",
      "Waiting for 5 seconds...\n",
      "Export request pending. [id=JSOC_20230728_3861, status=1]\n",
      "Waiting for 5 seconds...\n",
      "1 URLs found for download. Full request totalling 12MB\n"
     ]
    },
    {
     "data": {
      "application/vnd.jupyter.widget-view+json": {
       "model_id": "1131068a1a18440db584f4393a494161",
       "version_major": 2,
       "version_minor": 0
      },
      "text/plain": [
       "Files Downloaded:   0%|          | 0/1 [00:00<?, ?file/s]"
      ]
     },
     "metadata": {},
     "output_type": "display_data"
    },
    {
     "data": {
      "application/vnd.jupyter.widget-view+json": {
       "model_id": "",
       "version_major": 2,
       "version_minor": 0
      },
      "text/plain": [
       "aia.lev1_uv_24s.2021-10-12T014629Z.1700.image_lev1.fits:   0%|          | 0.00/12.4M [00:00<?, ?B/s]"
      ]
     },
     "metadata": {},
     "output_type": "display_data"
    },
    {
     "name": "stdout",
     "output_type": "stream",
     "text": [
      "Found STIX map:  ['/net/galilei/work2/fschuller/data/STIX-maps/2022-01-13T13:29_2201130010_No-SAS_mem.fits']\n",
      "Light travel time correction: 13.5645675644 s\n",
      "Downloading AIA image...\n",
      "Export request pending. [id=JSOC_20230728_3867, status=2]\n",
      "Waiting for 0 seconds...\n",
      "Export request pending. [id=JSOC_20230728_3867, status=1]\n",
      "Waiting for 5 seconds...\n",
      "Export request pending. [id=JSOC_20230728_3867, status=1]\n",
      "Waiting for 5 seconds...\n",
      "Export request pending. [id=JSOC_20230728_3867, status=1]\n",
      "Waiting for 5 seconds...\n",
      "Export request pending. [id=JSOC_20230728_3867, status=1]\n",
      "Waiting for 5 seconds...\n",
      "1 URLs found for download. Full request totalling 12MB\n"
     ]
    },
    {
     "data": {
      "application/vnd.jupyter.widget-view+json": {
       "model_id": "2b84a56efc814269a81ce612b7fe8589",
       "version_major": 2,
       "version_minor": 0
      },
      "text/plain": [
       "Files Downloaded:   0%|          | 0/1 [00:00<?, ?file/s]"
      ]
     },
     "metadata": {},
     "output_type": "display_data"
    },
    {
     "data": {
      "application/vnd.jupyter.widget-view+json": {
       "model_id": "",
       "version_major": 2,
       "version_minor": 0
      },
      "text/plain": [
       "aia.lev1_uv_24s.2022-01-13T132941Z.1700.image_lev1.fits:   0%|          | 0.00/12.5M [00:00<?, ?B/s]"
      ]
     },
     "metadata": {},
     "output_type": "display_data"
    },
    {
     "name": "stdout",
     "output_type": "stream",
     "text": [
      "Found STIX map:  ['/net/galilei/work2/fschuller/data/STIX-maps/2022-01-20T05:58_2201208962_No-SAS_mem.fits']\n",
      "Light travel time correction: 29.775021298 s\n",
      "Downloading AIA image...\n",
      "Export request pending. [id=JSOC_20230728_3875, status=2]\n",
      "Waiting for 0 seconds...\n",
      "Export request pending. [id=JSOC_20230728_3875, status=1]\n",
      "Waiting for 5 seconds...\n",
      "Export request pending. [id=JSOC_20230728_3875, status=1]\n",
      "Waiting for 5 seconds...\n",
      "Export request pending. [id=JSOC_20230728_3875, status=1]\n",
      "Waiting for 5 seconds...\n",
      "1 URLs found for download. Full request totalling 12MB\n"
     ]
    },
    {
     "data": {
      "application/vnd.jupyter.widget-view+json": {
       "model_id": "ef7b201164be42deb71bce933a30cd54",
       "version_major": 2,
       "version_minor": 0
      },
      "text/plain": [
       "Files Downloaded:   0%|          | 0/1 [00:00<?, ?file/s]"
      ]
     },
     "metadata": {},
     "output_type": "display_data"
    },
    {
     "data": {
      "application/vnd.jupyter.widget-view+json": {
       "model_id": "",
       "version_major": 2,
       "version_minor": 0
      },
      "text/plain": [
       "aia.lev1_uv_24s.2022-01-20T055541Z.1700.image_lev1.fits:   0%|          | 0.00/12.5M [00:00<?, ?B/s]"
      ]
     },
     "metadata": {},
     "output_type": "display_data"
    },
    {
     "name": "stdout",
     "output_type": "stream",
     "text": [
      "Found STIX map:  ['/net/galilei/work2/fschuller/data/STIX-maps/2022-03-02T17:35_2203026385_No-SAS_mem.fits']\n",
      "Light travel time correction: 217.555871633 s\n",
      "Downloading AIA image...\n",
      "Export request pending. [id=JSOC_20230728_3880, status=2]\n",
      "Waiting for 0 seconds...\n",
      "Export request pending. [id=JSOC_20230728_3880, status=1]\n",
      "Waiting for 5 seconds...\n",
      "Export request pending. [id=JSOC_20230728_3880, status=1]\n",
      "Waiting for 5 seconds...\n",
      "Export request pending. [id=JSOC_20230728_3880, status=1]\n",
      "Waiting for 5 seconds...\n",
      "1 URLs found for download. Full request totalling 12MB\n"
     ]
    },
    {
     "data": {
      "application/vnd.jupyter.widget-view+json": {
       "model_id": "d7ee93d34aaa47ea84142fff4b590637",
       "version_major": 2,
       "version_minor": 0
      },
      "text/plain": [
       "Files Downloaded:   0%|          | 0/1 [00:00<?, ?file/s]"
      ]
     },
     "metadata": {},
     "output_type": "display_data"
    },
    {
     "data": {
      "application/vnd.jupyter.widget-view+json": {
       "model_id": "",
       "version_major": 2,
       "version_minor": 0
      },
      "text/plain": [
       "aia.lev1_uv_24s.2022-03-02T173805Z.1700.image_lev1.fits:   0%|          | 0.00/12.4M [00:00<?, ?B/s]"
      ]
     },
     "metadata": {},
     "output_type": "display_data"
    },
    {
     "name": "stdout",
     "output_type": "stream",
     "text": [
      "Found STIX map:  ['/net/galilei/work2/fschuller/data/STIX-maps/2022-03-11T22:26_2203118542_No-SAS_mem.fits']\n",
      "Light travel time correction: 276.627874697 s\n",
      "Downloading AIA image...\n",
      "Export request pending. [id=JSOC_20230728_3888, status=2]\n",
      "Waiting for 0 seconds...\n",
      "Export request pending. [id=JSOC_20230728_3888, status=1]\n",
      "Waiting for 5 seconds...\n",
      "Export request pending. [id=JSOC_20230728_3888, status=1]\n",
      "Waiting for 5 seconds...\n",
      "Export request pending. [id=JSOC_20230728_3888, status=1]\n",
      "Waiting for 5 seconds...\n",
      "Export request pending. [id=JSOC_20230728_3888, status=1]\n",
      "Waiting for 5 seconds...\n",
      "1 URLs found for download. Full request totalling 12MB\n"
     ]
    },
    {
     "data": {
      "application/vnd.jupyter.widget-view+json": {
       "model_id": "b4ee4923031c46aba52aec3e5ee79341",
       "version_major": 2,
       "version_minor": 0
      },
      "text/plain": [
       "Files Downloaded:   0%|          | 0/1 [00:00<?, ?file/s]"
      ]
     },
     "metadata": {},
     "output_type": "display_data"
    },
    {
     "data": {
      "application/vnd.jupyter.widget-view+json": {
       "model_id": "",
       "version_major": 2,
       "version_minor": 0
      },
      "text/plain": [
       "aia.lev1_uv_24s.2022-03-11T223053Z.1700.image_lev1.fits:   0%|          | 0.00/12.4M [00:00<?, ?B/s]"
      ]
     },
     "metadata": {},
     "output_type": "display_data"
    },
    {
     "name": "stdout",
     "output_type": "stream",
     "text": [
      "Found STIX map:  ['/net/galilei/work2/fschuller/data/STIX-maps/2022-03-11T22:24_2203118542_No-SAS_mem.fits']\n",
      "Light travel time correction: 276.627874697 s\n",
      "Downloading AIA image...\n",
      "Export request pending. [id=JSOC_20230728_3894, status=2]\n",
      "Waiting for 0 seconds...\n",
      "Export request pending. [id=JSOC_20230728_3894, status=1]\n",
      "Waiting for 5 seconds...\n",
      "Export request pending. [id=JSOC_20230728_3894, status=1]\n",
      "Waiting for 5 seconds...\n",
      "Export request pending. [id=JSOC_20230728_3894, status=1]\n",
      "Waiting for 5 seconds...\n",
      "Export request pending. [id=JSOC_20230728_3894, status=1]\n",
      "Waiting for 5 seconds...\n",
      "1 URLs found for download. Full request totalling 12MB\n"
     ]
    },
    {
     "data": {
      "application/vnd.jupyter.widget-view+json": {
       "model_id": "49d0bfeff8dd435eb3da0b23cca9d2c2",
       "version_major": 2,
       "version_minor": 0
      },
      "text/plain": [
       "Files Downloaded:   0%|          | 0/1 [00:00<?, ?file/s]"
      ]
     },
     "metadata": {},
     "output_type": "display_data"
    },
    {
     "data": {
      "application/vnd.jupyter.widget-view+json": {
       "model_id": "",
       "version_major": 2,
       "version_minor": 0
      },
      "text/plain": [
       "aia.lev1_uv_24s.2022-03-11T222917Z.1700.image_lev1.fits:   0%|          | 0.00/12.4M [00:00<?, ?B/s]"
      ]
     },
     "metadata": {},
     "output_type": "display_data"
    },
    {
     "name": "stdout",
     "output_type": "stream",
     "text": [
      "Found STIX map:  ['/net/galilei/work2/fschuller/data/STIX-maps/2022-03-14T08:34_2203143075_No-SAS_mem.fits']\n",
      "Light travel time correction: 291.636038756 s\n",
      "Downloading AIA image...\n",
      "Export request pending. [id=JSOC_20230728_3902, status=2]\n",
      "Waiting for 0 seconds...\n",
      "Export request pending. [id=JSOC_20230728_3902, status=1]\n",
      "Waiting for 5 seconds...\n",
      "Export request pending. [id=JSOC_20230728_3902, status=1]\n",
      "Waiting for 5 seconds...\n",
      "Export request pending. [id=JSOC_20230728_3902, status=1]\n",
      "Waiting for 5 seconds...\n",
      "Export request pending. [id=JSOC_20230728_3902, status=1]\n",
      "Waiting for 5 seconds...\n",
      "1 URLs found for download. Full request totalling 12MB\n"
     ]
    },
    {
     "data": {
      "application/vnd.jupyter.widget-view+json": {
       "model_id": "20f4367560b140678266d105628d102a",
       "version_major": 2,
       "version_minor": 0
      },
      "text/plain": [
       "Files Downloaded:   0%|          | 0/1 [00:00<?, ?file/s]"
      ]
     },
     "metadata": {},
     "output_type": "display_data"
    },
    {
     "name": "stdout",
     "output_type": "stream",
     "text": [
      "Found STIX map:  ['/net/galilei/work2/fschuller/data/STIX-maps/2022-03-15T12:33_2203159015_No-SAS_mem.fits']\n",
      "Light travel time correction: 298.660750026 s\n",
      "Downloading AIA image...\n",
      "Export request pending. [id=JSOC_20230728_3908, status=2]\n",
      "Waiting for 0 seconds...\n",
      "Export request pending. [id=JSOC_20230728_3908, status=1]\n",
      "Waiting for 5 seconds...\n",
      "Export request pending. [id=JSOC_20230728_3908, status=1]\n",
      "Waiting for 5 seconds...\n",
      "Export request pending. [id=JSOC_20230728_3908, status=1]\n",
      "Waiting for 5 seconds...\n",
      "Export request pending. [id=JSOC_20230728_3908, status=1]\n",
      "Waiting for 5 seconds...\n",
      "1 URLs found for download. Full request totalling 12MB\n"
     ]
    },
    {
     "data": {
      "application/vnd.jupyter.widget-view+json": {
       "model_id": "8fbf80e17a144f4696cc834ff7b98a07",
       "version_major": 2,
       "version_minor": 0
      },
      "text/plain": [
       "Files Downloaded:   0%|          | 0/1 [00:00<?, ?file/s]"
      ]
     },
     "metadata": {},
     "output_type": "display_data"
    },
    {
     "data": {
      "application/vnd.jupyter.widget-view+json": {
       "model_id": "",
       "version_major": 2,
       "version_minor": 0
      },
      "text/plain": [
       "aia.lev1_uv_24s.2022-03-15T123717Z.1700.image_lev1.fits:   0%|          | 0.00/12.4M [00:00<?, ?B/s]"
      ]
     },
     "metadata": {},
     "output_type": "display_data"
    },
    {
     "name": "stdout",
     "output_type": "stream",
     "text": [
      "Found STIX map:  ['/net/galilei/work2/fschuller/data/STIX-maps/2022-03-15T22:41_2203159363_No-SAS_mem.fits']\n",
      "Light travel time correction: 300.994100213 s\n",
      "Downloading AIA image...\n",
      "Export request pending. [id=JSOC_20230728_3916, status=2]\n",
      "Waiting for 0 seconds...\n",
      "Export request pending. [id=JSOC_20230728_3916, status=1]\n",
      "Waiting for 5 seconds...\n",
      "Export request pending. [id=JSOC_20230728_3916, status=1]\n",
      "Waiting for 5 seconds...\n",
      "Export request pending. [id=JSOC_20230728_3916, status=1]\n",
      "Waiting for 5 seconds...\n",
      "1 URLs found for download. Full request totalling 12MB\n"
     ]
    },
    {
     "data": {
      "application/vnd.jupyter.widget-view+json": {
       "model_id": "5748e0fbc4644330bf53dc9c97dc6c05",
       "version_major": 2,
       "version_minor": 0
      },
      "text/plain": [
       "Files Downloaded:   0%|          | 0/1 [00:00<?, ?file/s]"
      ]
     },
     "metadata": {},
     "output_type": "display_data"
    },
    {
     "data": {
      "application/vnd.jupyter.widget-view+json": {
       "model_id": "",
       "version_major": 2,
       "version_minor": 0
      },
      "text/plain": [
       "aia.lev1_uv_24s.2022-03-15T224405Z.1700.image_lev1.fits:   0%|          | 0.00/12.4M [00:00<?, ?B/s]"
      ]
     },
     "metadata": {},
     "output_type": "display_data"
    },
    {
     "name": "stderr",
     "output_type": "stream",
     "text": [
      "/home/fschuller/.local/lib/python3.11/site-packages/astropy/visualization/mpl_normalize.py:179: RuntimeWarning: invalid value encountered in divide\n",
      "  np.true_divide(values, self.vmax - self.vmin, out=values)\n",
      "/home/fschuller/.local/lib/python3.11/site-packages/astropy/visualization/mpl_normalize.py:179: RuntimeWarning: invalid value encountered in divide\n",
      "  np.true_divide(values, self.vmax - self.vmin, out=values)\n"
     ]
    },
    {
     "name": "stdout",
     "output_type": "stream",
     "text": [
      "Found STIX map:  ['/net/galilei/work2/fschuller/data/STIX-maps/2022-03-28T11:20_2203282437_No-SAS_mem.fits']\n",
      "Light travel time correction: 335.635485449 s\n",
      "Downloading AIA image...\n",
      "Export request pending. [id=JSOC_20230728_3928, status=2]\n",
      "Waiting for 0 seconds...\n",
      "Export request pending. [id=JSOC_20230728_3928, status=1]\n",
      "Waiting for 5 seconds...\n",
      "Export request pending. [id=JSOC_20230728_3928, status=1]\n",
      "Waiting for 5 seconds...\n",
      "Export request pending. [id=JSOC_20230728_3928, status=1]\n",
      "Waiting for 5 seconds...\n",
      "1 URLs found for download. Full request totalling 12MB\n"
     ]
    },
    {
     "data": {
      "application/vnd.jupyter.widget-view+json": {
       "model_id": "0de06ced5d1d46c8a658cc390e27eb99",
       "version_major": 2,
       "version_minor": 0
      },
      "text/plain": [
       "Files Downloaded:   0%|          | 0/1 [00:00<?, ?file/s]"
      ]
     },
     "metadata": {},
     "output_type": "display_data"
    },
    {
     "name": "stdout",
     "output_type": "stream",
     "text": [
      "Found STIX map:  ['/net/galilei/work2/fschuller/data/STIX-maps/2022-03-28T17:07_2203282347_No-SAS_mem.fits']\n",
      "Light travel time correction: 335.294309991 s\n",
      "Downloading AIA image...\n",
      "Export request pending. [id=JSOC_20230728_3933, status=2]\n",
      "Waiting for 0 seconds...\n",
      "Export request pending. [id=JSOC_20230728_3933, status=1]\n",
      "Waiting for 5 seconds...\n",
      "Export request pending. [id=JSOC_20230728_3933, status=1]\n",
      "Waiting for 5 seconds...\n",
      "Export request pending. [id=JSOC_20230728_3933, status=1]\n",
      "Waiting for 5 seconds...\n",
      "Export request pending. [id=JSOC_20230728_3933, status=1]\n",
      "Waiting for 5 seconds...\n",
      "1 URLs found for download. Full request totalling 12MB\n"
     ]
    },
    {
     "data": {
      "application/vnd.jupyter.widget-view+json": {
       "model_id": "b6d3a4a20bf745608ce280d13f0363f9",
       "version_major": 2,
       "version_minor": 0
      },
      "text/plain": [
       "Files Downloaded:   0%|          | 0/1 [00:00<?, ?file/s]"
      ]
     },
     "metadata": {},
     "output_type": "display_data"
    },
    {
     "data": {
      "application/vnd.jupyter.widget-view+json": {
       "model_id": "",
       "version_major": 2,
       "version_minor": 0
      },
      "text/plain": [
       "aia.lev1_uv_24s.2022-03-28T171205Z.1700.image_lev1.fits:   0%|          | 0.00/12.4M [00:00<?, ?B/s]"
      ]
     },
     "metadata": {},
     "output_type": "display_data"
    },
    {
     "name": "stdout",
     "output_type": "stream",
     "text": [
      "Found STIX map:  ['/net/galilei/work2/fschuller/data/STIX-maps/2022-03-29T01:04_2203294410_No-SAS_mem.fits']\n",
      "Light travel time correction: 334.772299092 s\n",
      "Downloading AIA image...\n",
      "Export request pending. [id=JSOC_20230728_3940, status=2]\n",
      "Waiting for 0 seconds...\n",
      "Export request pending. [id=JSOC_20230728_3940, status=1]\n",
      "Waiting for 5 seconds...\n",
      "Export request pending. [id=JSOC_20230728_3940, status=1]\n",
      "Waiting for 5 seconds...\n",
      "Export request pending. [id=JSOC_20230728_3940, status=1]\n",
      "Waiting for 5 seconds...\n",
      "1 URLs found for download. Full request totalling 12MB\n"
     ]
    },
    {
     "data": {
      "application/vnd.jupyter.widget-view+json": {
       "model_id": "7ccdd925a4c74f198dc761d12c08ee2d",
       "version_major": 2,
       "version_minor": 0
      },
      "text/plain": [
       "Files Downloaded:   0%|          | 0/1 [00:00<?, ?file/s]"
      ]
     },
     "metadata": {},
     "output_type": "display_data"
    },
    {
     "data": {
      "application/vnd.jupyter.widget-view+json": {
       "model_id": "",
       "version_major": 2,
       "version_minor": 0
      },
      "text/plain": [
       "aia.lev1_uv_24s.2022-03-29T010541Z.1700.image_lev1.fits:   0%|          | 0.00/12.4M [00:00<?, ?B/s]"
      ]
     },
     "metadata": {},
     "output_type": "display_data"
    },
    {
     "name": "stdout",
     "output_type": "stream",
     "text": [
      "Found STIX map:  ['/net/galilei/work2/fschuller/data/STIX-maps/2022-03-29T01:51_2203292863_No-SAS_mem.fits']\n",
      "Light travel time correction: 334.729208951 s\n",
      "Downloading AIA image...\n",
      "Export request pending. [id=JSOC_20230728_3947, status=2]\n",
      "Waiting for 0 seconds...\n",
      "Export request pending. [id=JSOC_20230728_3947, status=1]\n",
      "Waiting for 5 seconds...\n",
      "Export request pending. [id=JSOC_20230728_3947, status=1]\n",
      "Waiting for 5 seconds...\n",
      "Export request pending. [id=JSOC_20230728_3947, status=1]\n",
      "Waiting for 5 seconds...\n",
      "Export request pending. [id=JSOC_20230728_3947, status=1]\n",
      "Waiting for 5 seconds...\n",
      "1 URLs found for download. Full request totalling 12MB\n"
     ]
    },
    {
     "data": {
      "application/vnd.jupyter.widget-view+json": {
       "model_id": "e16d9a68f9354155a5957f2bdb1b8cb7",
       "version_major": 2,
       "version_minor": 0
      },
      "text/plain": [
       "Files Downloaded:   0%|          | 0/1 [00:00<?, ?file/s]"
      ]
     },
     "metadata": {},
     "output_type": "display_data"
    },
    {
     "data": {
      "application/vnd.jupyter.widget-view+json": {
       "model_id": "",
       "version_major": 2,
       "version_minor": 0
      },
      "text/plain": [
       "aia.lev1_uv_24s.2022-03-29T015653Z.1700.image_lev1.fits:   0%|          | 0.00/12.4M [00:00<?, ?B/s]"
      ]
     },
     "metadata": {},
     "output_type": "display_data"
    },
    {
     "name": "stdout",
     "output_type": "stream",
     "text": [
      "Found STIX map:  ['/net/galilei/work2/fschuller/data/STIX-maps/2022-03-29T03:53_2203293782_No-SAS_mem.fits']\n",
      "Light travel time correction: 334.578384645 s\n",
      "Downloading AIA image...\n",
      "Export request pending. [id=JSOC_20230728_3954, status=2]\n",
      "Waiting for 0 seconds...\n",
      "Export request pending. [id=JSOC_20230728_3954, status=1]\n",
      "Waiting for 5 seconds...\n",
      "Export request pending. [id=JSOC_20230728_3954, status=1]\n",
      "Waiting for 5 seconds...\n",
      "Export request pending. [id=JSOC_20230728_3954, status=1]\n",
      "Waiting for 5 seconds...\n",
      "Export request pending. [id=JSOC_20230728_3954, status=1]\n",
      "Waiting for 5 seconds...\n",
      "1 URLs found for download. Full request totalling 12MB\n"
     ]
    },
    {
     "data": {
      "application/vnd.jupyter.widget-view+json": {
       "model_id": "52427d6869484f9dbbb4eafca92faff3",
       "version_major": 2,
       "version_minor": 0
      },
      "text/plain": [
       "Files Downloaded:   0%|          | 0/1 [00:00<?, ?file/s]"
      ]
     },
     "metadata": {},
     "output_type": "display_data"
    },
    {
     "name": "stdout",
     "output_type": "stream",
     "text": [
      "Found STIX map:  ['/net/galilei/work2/fschuller/data/STIX-maps/2022-03-29T09:27_2203299514_No-SAS_mem.fits']\n",
      "Light travel time correction: 334.152095654 s\n",
      "Downloading AIA image...\n",
      "Export request pending. [id=JSOC_20230728_3960, status=2]\n",
      "Waiting for 0 seconds...\n",
      "Export request pending. [id=JSOC_20230728_3960, status=1]\n",
      "Waiting for 5 seconds...\n",
      "Export request pending. [id=JSOC_20230728_3960, status=1]\n",
      "Waiting for 5 seconds...\n",
      "Export request pending. [id=JSOC_20230728_3960, status=1]\n",
      "Waiting for 5 seconds...\n",
      "Export request pending. [id=JSOC_20230728_3960, status=1]\n",
      "Waiting for 5 seconds...\n",
      "1 URLs found for download. Full request totalling 12MB\n"
     ]
    },
    {
     "data": {
      "application/vnd.jupyter.widget-view+json": {
       "model_id": "eb2d59c4ec894d5fac151f7e7433c086",
       "version_major": 2,
       "version_minor": 0
      },
      "text/plain": [
       "Files Downloaded:   0%|          | 0/1 [00:00<?, ?file/s]"
      ]
     },
     "metadata": {},
     "output_type": "display_data"
    },
    {
     "data": {
      "application/vnd.jupyter.widget-view+json": {
       "model_id": "",
       "version_major": 2,
       "version_minor": 0
      },
      "text/plain": [
       "aia.lev1_uv_24s.2022-03-29T092429Z.1700.image_lev1.fits:   0%|          | 0.00/12.4M [00:00<?, ?B/s]"
      ]
     },
     "metadata": {},
     "output_type": "display_data"
    },
    {
     "name": "stdout",
     "output_type": "stream",
     "text": [
      "Found STIX map:  ['/net/galilei/work2/fschuller/data/STIX-maps/2022-03-29T21:46_2203293826_No-SAS_mem.fits']\n",
      "Light travel time correction: 333.084038281 s\n",
      "Downloading AIA image...\n",
      "Export request pending. [id=JSOC_20230728_3966, status=2]\n",
      "Waiting for 0 seconds...\n",
      "Export request pending. [id=JSOC_20230728_3966, status=1]\n",
      "Waiting for 5 seconds...\n",
      "Export request pending. [id=JSOC_20230728_3966, status=1]\n",
      "Waiting for 5 seconds...\n",
      "Export request pending. [id=JSOC_20230728_3966, status=1]\n",
      "Waiting for 5 seconds...\n",
      "Export request pending. [id=JSOC_20230728_3966, status=1]\n",
      "Waiting for 5 seconds...\n",
      "1 URLs found for download. Full request totalling 12MB\n"
     ]
    },
    {
     "data": {
      "application/vnd.jupyter.widget-view+json": {
       "model_id": "a4c142b2dfdb479aaf6f93dbd1f5a49e",
       "version_major": 2,
       "version_minor": 0
      },
      "text/plain": [
       "Files Downloaded:   0%|          | 0/1 [00:00<?, ?file/s]"
      ]
     },
     "metadata": {},
     "output_type": "display_data"
    },
    {
     "data": {
      "application/vnd.jupyter.widget-view+json": {
       "model_id": "",
       "version_major": 2,
       "version_minor": 0
      },
      "text/plain": [
       "aia.lev1_uv_24s.2022-03-29T215205Z.1700.image_lev1.fits:   0%|          | 0.00/12.4M [00:00<?, ?B/s]"
      ]
     },
     "metadata": {},
     "output_type": "display_data"
    },
    {
     "name": "stdout",
     "output_type": "stream",
     "text": [
      "Found STIX map:  ['/net/galilei/work2/fschuller/data/STIX-maps/2022-04-02T02:49_2204023786_No-SAS_mem.fits']\n",
      "Light travel time correction: 322.78393795 s\n",
      "Downloading AIA image...\n",
      "Export request pending. [id=JSOC_20230728_3975, status=2]\n",
      "Waiting for 0 seconds...\n",
      "Export request pending. [id=JSOC_20230728_3975, status=1]\n",
      "Waiting for 5 seconds...\n",
      "Export request pending. [id=JSOC_20230728_3975, status=1]\n",
      "Waiting for 5 seconds...\n",
      "Export request pending. [id=JSOC_20230728_3975, status=1]\n",
      "Waiting for 5 seconds...\n",
      "1 URLs found for download. Full request totalling 12MB\n"
     ]
    },
    {
     "data": {
      "application/vnd.jupyter.widget-view+json": {
       "model_id": "964b13f661124eefbcba2d916109797d",
       "version_major": 2,
       "version_minor": 0
      },
      "text/plain": [
       "Files Downloaded:   0%|          | 0/1 [00:00<?, ?file/s]"
      ]
     },
     "metadata": {},
     "output_type": "display_data"
    },
    {
     "data": {
      "application/vnd.jupyter.widget-view+json": {
       "model_id": "",
       "version_major": 2,
       "version_minor": 0
      },
      "text/plain": [
       "aia.lev1_uv_24s.2022-04-02T025205Z.1700.image_lev1.fits:   0%|          | 0.00/12.4M [00:00<?, ?B/s]"
      ]
     },
     "metadata": {},
     "output_type": "display_data"
    },
    {
     "name": "stdout",
     "output_type": "stream",
     "text": [
      "Found STIX map:  ['/net/galilei/work2/fschuller/data/STIX-maps/2022-04-17T19:57_2204172140_No-SAS_mem.fits']\n",
      "Light travel time correction: 232.755406381 s\n",
      "Downloading AIA image...\n",
      "Export request pending. [id=JSOC_20230728_3980, status=2]\n",
      "Waiting for 0 seconds...\n",
      "Export request pending. [id=JSOC_20230728_3980, status=1]\n",
      "Waiting for 5 seconds...\n",
      "Export request pending. [id=JSOC_20230728_3980, status=1]\n",
      "Waiting for 5 seconds...\n",
      "Export request pending. [id=JSOC_20230728_3980, status=1]\n",
      "Waiting for 5 seconds...\n",
      "Export request pending. [id=JSOC_20230728_3980, status=1]\n",
      "Waiting for 5 seconds...\n",
      "1 URLs found for download. Full request totalling 12MB\n"
     ]
    },
    {
     "data": {
      "application/vnd.jupyter.widget-view+json": {
       "model_id": "d0f65c13d1404fe6aea76b7511b2c0f6",
       "version_major": 2,
       "version_minor": 0
      },
      "text/plain": [
       "Files Downloaded:   0%|          | 0/1 [00:00<?, ?file/s]"
      ]
     },
     "metadata": {},
     "output_type": "display_data"
    },
    {
     "data": {
      "application/vnd.jupyter.widget-view+json": {
       "model_id": "",
       "version_major": 2,
       "version_minor": 0
      },
      "text/plain": [
       "aia.lev1_uv_24s.2022-04-17T200029Z.1700.image_lev1.fits:   0%|          | 0.00/12.3M [00:00<?, ?B/s]"
      ]
     },
     "metadata": {},
     "output_type": "display_data"
    },
    {
     "name": "stdout",
     "output_type": "stream",
     "text": [
      "Found STIX map:  ['/net/galilei/work2/fschuller/data/STIX-maps/2022-04-17T22:29_2204176813_No-SAS_mem.fits']\n",
      "Light travel time correction: 232.074396472 s\n",
      "Downloading AIA image...\n",
      "Export request pending. [id=JSOC_20230728_3988, status=2]\n",
      "Waiting for 0 seconds...\n",
      "Export request pending. [id=JSOC_20230728_3988, status=1]\n",
      "Waiting for 5 seconds...\n",
      "Export request pending. [id=JSOC_20230728_3988, status=1]\n",
      "Waiting for 5 seconds...\n",
      "Export request pending. [id=JSOC_20230728_3988, status=1]\n",
      "Waiting for 5 seconds...\n",
      "Export request pending. [id=JSOC_20230728_3988, status=1]\n",
      "Waiting for 5 seconds...\n",
      "1 URLs found for download. Full request totalling 12MB\n"
     ]
    },
    {
     "data": {
      "application/vnd.jupyter.widget-view+json": {
       "model_id": "61e2df35ba5e4eac9cdca385da8bc216",
       "version_major": 2,
       "version_minor": 0
      },
      "text/plain": [
       "Files Downloaded:   0%|          | 0/1 [00:00<?, ?file/s]"
      ]
     },
     "metadata": {},
     "output_type": "display_data"
    },
    {
     "data": {
      "application/vnd.jupyter.widget-view+json": {
       "model_id": "",
       "version_major": 2,
       "version_minor": 0
      },
      "text/plain": [
       "aia.lev1_uv_24s.2022-04-17T223229Z.1700.image_lev1.fits:   0%|          | 0.00/12.3M [00:00<?, ?B/s]"
      ]
     },
     "metadata": {},
     "output_type": "display_data"
    },
    {
     "name": "stdout",
     "output_type": "stream",
     "text": [
      "Found STIX map:  ['/net/galilei/work2/fschuller/data/STIX-maps/2022-04-18T07:44_2204185406_No-SAS_mem.fits']\n",
      "Light travel time correction: 229.76032369 s\n",
      "Downloading AIA image...\n",
      "Export request pending. [id=JSOC_20230728_3996, status=2]\n",
      "Waiting for 0 seconds...\n",
      "Export request pending. [id=JSOC_20230728_3996, status=1]\n",
      "Waiting for 5 seconds...\n",
      "Export request pending. [id=JSOC_20230728_3996, status=1]\n",
      "Waiting for 5 seconds...\n",
      "Export request pending. [id=JSOC_20230728_3996, status=1]\n",
      "Waiting for 5 seconds...\n",
      "Export request pending. [id=JSOC_20230728_3996, status=1]\n",
      "Waiting for 5 seconds...\n",
      "1 URLs found for download. Full request totalling 12MB\n"
     ]
    },
    {
     "data": {
      "application/vnd.jupyter.widget-view+json": {
       "model_id": "1fc793383f0b40a5b6d02a846865ce72",
       "version_major": 2,
       "version_minor": 0
      },
      "text/plain": [
       "Files Downloaded:   0%|          | 0/1 [00:00<?, ?file/s]"
      ]
     },
     "metadata": {},
     "output_type": "display_data"
    },
    {
     "data": {
      "application/vnd.jupyter.widget-view+json": {
       "model_id": "",
       "version_major": 2,
       "version_minor": 0
      },
      "text/plain": [
       "aia.lev1_uv_24s.2022-04-18T074653Z.1700.image_lev1.fits:   0%|          | 0.00/12.3M [00:00<?, ?B/s]"
      ]
     },
     "metadata": {},
     "output_type": "display_data"
    },
    {
     "name": "stdout",
     "output_type": "stream",
     "text": [
      "Found STIX map:  ['/net/galilei/work2/fschuller/data/STIX-maps/2022-04-18T17:19_2204184714_No-SAS_mem.fits']\n",
      "Light travel time correction: 227.332811085 s\n",
      "Downloading AIA image...\n",
      "Export request pending. [id=JSOC_20230728_4003, status=2]\n",
      "Waiting for 0 seconds...\n",
      "Export request pending. [id=JSOC_20230728_4003, status=1]\n",
      "Waiting for 5 seconds...\n",
      "Export request pending. [id=JSOC_20230728_4003, status=1]\n",
      "Waiting for 5 seconds...\n",
      "Export request pending. [id=JSOC_20230728_4003, status=1]\n",
      "Waiting for 5 seconds...\n",
      "Export request pending. [id=JSOC_20230728_4003, status=1]\n",
      "Waiting for 5 seconds...\n",
      "1 URLs found for download. Full request totalling 12MB\n"
     ]
    },
    {
     "data": {
      "application/vnd.jupyter.widget-view+json": {
       "model_id": "029c01391f3341f09b8d699cdc4962d2",
       "version_major": 2,
       "version_minor": 0
      },
      "text/plain": [
       "Files Downloaded:   0%|          | 0/1 [00:00<?, ?file/s]"
      ]
     },
     "metadata": {},
     "output_type": "display_data"
    },
    {
     "data": {
      "application/vnd.jupyter.widget-view+json": {
       "model_id": "",
       "version_major": 2,
       "version_minor": 0
      },
      "text/plain": [
       "aia.lev1_uv_24s.2022-04-18T172317Z.1700.image_lev1.fits:   0%|          | 0.00/12.3M [00:00<?, ?B/s]"
      ]
     },
     "metadata": {},
     "output_type": "display_data"
    },
    {
     "name": "stdout",
     "output_type": "stream",
     "text": [
      "Found STIX map:  ['/net/galilei/work2/fschuller/data/STIX-maps/2022-08-27T02:19_2208271589_No-SAS_mem.fits']\n",
      "Light travel time correction: 108.705714899 s\n",
      "Downloading AIA image...\n",
      "Export request pending. [id=JSOC_20230728_4010, status=2]\n",
      "Waiting for 0 seconds...\n",
      "Export request pending. [id=JSOC_20230728_4010, status=1]\n",
      "Waiting for 5 seconds...\n",
      "Export request pending. [id=JSOC_20230728_4010, status=1]\n",
      "Waiting for 5 seconds...\n",
      "Export request pending. [id=JSOC_20230728_4010, status=1]\n",
      "Waiting for 5 seconds...\n",
      "Export request pending. [id=JSOC_20230728_4010, status=1]\n",
      "Waiting for 5 seconds...\n",
      "Export request pending. [id=JSOC_20230728_4010, status=1]\n",
      "Waiting for 5 seconds...\n",
      "1 URLs found for download. Full request totalling 12MB\n"
     ]
    },
    {
     "data": {
      "application/vnd.jupyter.widget-view+json": {
       "model_id": "4c763d23f7954ff49d0f26e68a643138",
       "version_major": 2,
       "version_minor": 0
      },
      "text/plain": [
       "Files Downloaded:   0%|          | 0/1 [00:00<?, ?file/s]"
      ]
     },
     "metadata": {},
     "output_type": "display_data"
    },
    {
     "data": {
      "application/vnd.jupyter.widget-view+json": {
       "model_id": "",
       "version_major": 2,
       "version_minor": 0
      },
      "text/plain": [
       "aia.lev1_uv_24s.2022-08-27T021453Z.1700.image_lev1.fits:   0%|          | 0.00/12.2M [00:00<?, ?B/s]"
      ]
     },
     "metadata": {},
     "output_type": "display_data"
    },
    {
     "name": "stdout",
     "output_type": "stream",
     "text": [
      "Found STIX map:  ['/net/galilei/work2/fschuller/data/STIX-maps/2022-08-28T16:09_2208284257_No-SAS_mem.fits']\n",
      "Light travel time correction: 115.413378183 s\n",
      "Downloading AIA image...\n",
      "Export request pending. [id=JSOC_20230728_4022, status=2]\n",
      "Waiting for 0 seconds...\n",
      "Export request pending. [id=JSOC_20230728_4022, status=1]\n",
      "Waiting for 5 seconds...\n",
      "Export request pending. [id=JSOC_20230728_4022, status=1]\n",
      "Waiting for 5 seconds...\n",
      "Export request pending. [id=JSOC_20230728_4022, status=1]\n",
      "Waiting for 5 seconds...\n",
      "Export request pending. [id=JSOC_20230728_4022, status=1]\n",
      "Waiting for 5 seconds...\n",
      "1 URLs found for download. Full request totalling 12MB\n"
     ]
    },
    {
     "data": {
      "application/vnd.jupyter.widget-view+json": {
       "model_id": "71abb36e798748b2b9208241e8828c39",
       "version_major": 2,
       "version_minor": 0
      },
      "text/plain": [
       "Files Downloaded:   0%|          | 0/1 [00:00<?, ?file/s]"
      ]
     },
     "metadata": {},
     "output_type": "display_data"
    },
    {
     "data": {
      "application/vnd.jupyter.widget-view+json": {
       "model_id": "",
       "version_major": 2,
       "version_minor": 0
      },
      "text/plain": [
       "aia.lev1_uv_24s.2022-08-28T160341Z.1700.image_lev1.fits:   0%|          | 0.00/12.2M [00:00<?, ?B/s]"
      ]
     },
     "metadata": {},
     "output_type": "display_data"
    },
    {
     "name": "stdout",
     "output_type": "stream",
     "text": [
      "Found STIX map:  ['/net/galilei/work2/fschuller/data/STIX-maps/2022-11-11T11:36_2211114421_No-SAS_mem.fits']\n",
      "Light travel time correction: 183.426813411 s\n",
      "Downloading AIA image...\n",
      "Export request pending. [id=JSOC_20230727_2774, status=2]\n",
      "Waiting for 0 seconds...\n",
      "1 URLs found for download. Full request totalling 12MB\n"
     ]
    },
    {
     "data": {
      "application/vnd.jupyter.widget-view+json": {
       "model_id": "8864c49c72fc4b6788c400aa31f5a344",
       "version_major": 2,
       "version_minor": 0
      },
      "text/plain": [
       "Files Downloaded:   0%|          | 0/1 [00:00<?, ?file/s]"
      ]
     },
     "metadata": {},
     "output_type": "display_data"
    },
    {
     "name": "stdout",
     "output_type": "stream",
     "text": [
      "Found STIX map:  ['/net/galilei/work2/fschuller/data/STIX-maps/2022-11-15T02:48_2211154551_No-SAS_mem.fits']\n",
      "Light travel time correction: 162.770072075 s\n",
      "Downloading AIA image...\n",
      "Export request pending. [id=JSOC_20230728_4031, status=2]\n",
      "Waiting for 0 seconds...\n",
      "Export request pending. [id=JSOC_20230728_4031, status=1]\n",
      "Waiting for 5 seconds...\n",
      "Export request pending. [id=JSOC_20230728_4031, status=1]\n",
      "Waiting for 5 seconds...\n",
      "Export request pending. [id=JSOC_20230728_4031, status=1]\n",
      "Waiting for 5 seconds...\n",
      "Export request pending. [id=JSOC_20230728_4031, status=1]\n",
      "Waiting for 5 seconds...\n",
      "1 URLs found for download. Full request totalling 12MB\n"
     ]
    },
    {
     "data": {
      "application/vnd.jupyter.widget-view+json": {
       "model_id": "fc1dd6b80a2a41c6a522996de87381ab",
       "version_major": 2,
       "version_minor": 0
      },
      "text/plain": [
       "Files Downloaded:   0%|          | 0/1 [00:00<?, ?file/s]"
      ]
     },
     "metadata": {},
     "output_type": "display_data"
    },
    {
     "data": {
      "application/vnd.jupyter.widget-view+json": {
       "model_id": "",
       "version_major": 2,
       "version_minor": 0
      },
      "text/plain": [
       "aia.lev1_uv_24s.2022-11-15T025029Z.1700.image_lev1.fits:   0%|          | 0.00/12.4M [00:00<?, ?B/s]"
      ]
     },
     "metadata": {},
     "output_type": "display_data"
    },
    {
     "name": "stdout",
     "output_type": "stream",
     "text": [
      "Found STIX map:  ['/net/galilei/work2/fschuller/data/STIX-maps/2022-12-14T12:30_2212144214_No-SAS_mem.fits']\n",
      "Light travel time correction: 47.2765433271 s\n",
      "Downloading AIA image...\n",
      "Export request pending. [id=JSOC_20230728_4041, status=2]\n",
      "Waiting for 0 seconds...\n",
      "Export request pending. [id=JSOC_20230728_4041, status=1]\n",
      "Waiting for 5 seconds...\n",
      "Export request pending. [id=JSOC_20230728_4041, status=1]\n",
      "Waiting for 5 seconds...\n",
      "Export request pending. [id=JSOC_20230728_4041, status=1]\n",
      "Waiting for 5 seconds...\n",
      "Export request pending. [id=JSOC_20230728_4041, status=1]\n",
      "Waiting for 5 seconds...\n",
      "1 URLs found for download. Full request totalling 12MB\n"
     ]
    },
    {
     "data": {
      "application/vnd.jupyter.widget-view+json": {
       "model_id": "0757b5f7def04868988be460c5ef33c0",
       "version_major": 2,
       "version_minor": 0
      },
      "text/plain": [
       "Files Downloaded:   0%|          | 0/1 [00:00<?, ?file/s]"
      ]
     },
     "metadata": {},
     "output_type": "display_data"
    },
    {
     "data": {
      "application/vnd.jupyter.widget-view+json": {
       "model_id": "",
       "version_major": 2,
       "version_minor": 0
      },
      "text/plain": [
       "aia.lev1_uv_24s.2022-12-14T123029Z.1700.image_lev1.fits:   0%|          | 0.00/12.5M [00:00<?, ?B/s]"
      ]
     },
     "metadata": {},
     "output_type": "display_data"
    },
    {
     "name": "stdout",
     "output_type": "stream",
     "text": [
      "Found STIX map:  ['/net/galilei/work2/fschuller/data/STIX-maps/2022-12-14T14:40_2212141020_No-SAS_mem.fits']\n",
      "Light travel time correction: 47.0309122653 s\n",
      "Downloading AIA image...\n",
      "Export request pending. [id=JSOC_20230727_2796, status=2]\n",
      "Waiting for 0 seconds...\n",
      "1 URLs found for download. Full request totalling 12MB\n"
     ]
    },
    {
     "data": {
      "application/vnd.jupyter.widget-view+json": {
       "model_id": "ea5a2a012f244c139a301b91c68fae4e",
       "version_major": 2,
       "version_minor": 0
      },
      "text/plain": [
       "Files Downloaded:   0%|          | 0/1 [00:00<?, ?file/s]"
      ]
     },
     "metadata": {},
     "output_type": "display_data"
    },
    {
     "name": "stdout",
     "output_type": "stream",
     "text": [
      "Found STIX map:  ['/net/galilei/work2/fschuller/data/STIX-maps/2022-12-14T22:05_2212144919_No-SAS_mem.fits']\n",
      "Light travel time correction: 46.2931779652 s\n",
      "Downloading AIA image...\n",
      "Export request pending. [id=JSOC_20230728_4056, status=2]\n",
      "Waiting for 0 seconds...\n",
      "Export request pending. [id=JSOC_20230728_4056, status=1]\n",
      "Waiting for 5 seconds...\n",
      "Export request pending. [id=JSOC_20230728_4056, status=1]\n",
      "Waiting for 5 seconds...\n",
      "Export request pending. [id=JSOC_20230728_4056, status=1]\n",
      "Waiting for 5 seconds...\n",
      "1 URLs found for download. Full request totalling 12MB\n"
     ]
    },
    {
     "data": {
      "application/vnd.jupyter.widget-view+json": {
       "model_id": "05b24c5e0b6249fa9e13e41ca71d562e",
       "version_major": 2,
       "version_minor": 0
      },
      "text/plain": [
       "Files Downloaded:   0%|          | 0/1 [00:00<?, ?file/s]"
      ]
     },
     "metadata": {},
     "output_type": "display_data"
    },
    {
     "data": {
      "application/vnd.jupyter.widget-view+json": {
       "model_id": "",
       "version_major": 2,
       "version_minor": 0
      },
      "text/plain": [
       "aia.lev1_uv_24s.2022-12-14T220429Z.1700.image_lev1.fits:   0%|          | 0.00/12.5M [00:00<?, ?B/s]"
      ]
     },
     "metadata": {},
     "output_type": "display_data"
    },
    {
     "name": "stdout",
     "output_type": "stream",
     "text": [
      "Found STIX map:  ['/net/galilei/work2/fschuller/data/STIX-maps/2022-12-15T22:37_2212154863_No-SAS_mem.fits']\n",
      "Light travel time correction: 43.8944307829 s\n",
      "Downloading AIA image...\n",
      "Export request pending. [id=JSOC_20230727_2809, status=2]\n",
      "Waiting for 0 seconds...\n",
      "1 URLs found for download. Full request totalling 12MB\n"
     ]
    },
    {
     "data": {
      "application/vnd.jupyter.widget-view+json": {
       "model_id": "ec8fd4297de64951834a775e01cb6140",
       "version_major": 2,
       "version_minor": 0
      },
      "text/plain": [
       "Files Downloaded:   0%|          | 0/1 [00:00<?, ?file/s]"
      ]
     },
     "metadata": {},
     "output_type": "display_data"
    },
    {
     "name": "stdout",
     "output_type": "stream",
     "text": [
      "Found STIX map:  ['/net/galilei/work2/fschuller/data/STIX-maps/2022-12-16T10:17_2212167250_No-SAS_mem.fits']\n",
      "Light travel time correction: 42.7763158123 s\n",
      "Downloading AIA image...\n",
      "Export request pending. [id=JSOC_20230728_4062, status=2]\n",
      "Waiting for 0 seconds...\n",
      "Export request pending. [id=JSOC_20230728_4062, status=1]\n",
      "Waiting for 5 seconds...\n",
      "Export request pending. [id=JSOC_20230728_4062, status=1]\n",
      "Waiting for 5 seconds...\n",
      "Export request pending. [id=JSOC_20230728_4062, status=1]\n",
      "Waiting for 5 seconds...\n",
      "1 URLs found for download. Full request totalling 12MB\n"
     ]
    },
    {
     "data": {
      "application/vnd.jupyter.widget-view+json": {
       "model_id": "ac92ad96082043e6a3eadebbc268593e",
       "version_major": 2,
       "version_minor": 0
      },
      "text/plain": [
       "Files Downloaded:   0%|          | 0/1 [00:00<?, ?file/s]"
      ]
     },
     "metadata": {},
     "output_type": "display_data"
    },
    {
     "data": {
      "application/vnd.jupyter.widget-view+json": {
       "model_id": "",
       "version_major": 2,
       "version_minor": 0
      },
      "text/plain": [
       "aia.lev1_uv_24s.2022-12-16T101853Z.1700.image_lev1.fits:   0%|          | 0.00/12.5M [00:00<?, ?B/s]"
      ]
     },
     "metadata": {},
     "output_type": "display_data"
    },
    {
     "name": "stdout",
     "output_type": "stream",
     "text": [
      "Found STIX map:  ['/net/galilei/work2/fschuller/data/STIX-maps/2022-12-16T14:37_2212163131_No-SAS_mem.fits']\n",
      "Light travel time correction: 42.3654840719 s\n",
      "Downloading AIA image...\n",
      "Export request pending. [id=JSOC_20230728_4070, status=2]\n",
      "Waiting for 0 seconds...\n",
      "Export request pending. [id=JSOC_20230728_4070, status=1]\n",
      "Waiting for 5 seconds...\n",
      "Export request pending. [id=JSOC_20230728_4070, status=1]\n",
      "Waiting for 5 seconds...\n",
      "Export request pending. [id=JSOC_20230728_4070, status=1]\n",
      "Waiting for 5 seconds...\n",
      "Export request pending. [id=JSOC_20230728_4070, status=1]\n",
      "Waiting for 5 seconds...\n",
      "1 URLs found for download. Full request totalling 12MB\n"
     ]
    },
    {
     "data": {
      "application/vnd.jupyter.widget-view+json": {
       "model_id": "680e3150ff284dcdb1a48ff2c5a7d61b",
       "version_major": 2,
       "version_minor": 0
      },
      "text/plain": [
       "Files Downloaded:   0%|          | 0/1 [00:00<?, ?file/s]"
      ]
     },
     "metadata": {},
     "output_type": "display_data"
    },
    {
     "data": {
      "application/vnd.jupyter.widget-view+json": {
       "model_id": "",
       "version_major": 2,
       "version_minor": 0
      },
      "text/plain": [
       "aia.lev1_uv_24s.2022-12-16T143453Z.1700.image_lev1.fits:   0%|          | 0.00/12.5M [00:00<?, ?B/s]"
      ]
     },
     "metadata": {},
     "output_type": "display_data"
    },
    {
     "name": "stdout",
     "output_type": "stream",
     "text": [
      "Found STIX map:  ['/net/galilei/work2/fschuller/data/STIX-maps/2022-12-30T19:36_2212308916_No-SAS_mem.fits']\n",
      "Light travel time correction: 19.7127692947 s\n",
      "Downloading AIA image...\n",
      "Export request pending. [id=JSOC_20230728_4079, status=2]\n",
      "Waiting for 0 seconds...\n",
      "Export request pending. [id=JSOC_20230728_4079, status=1]\n",
      "Waiting for 5 seconds...\n",
      "Export request pending. [id=JSOC_20230728_4079, status=1]\n",
      "Waiting for 5 seconds...\n",
      "Export request pending. [id=JSOC_20230728_4079, status=1]\n",
      "Waiting for 5 seconds...\n",
      "Export request pending. [id=JSOC_20230728_4079, status=1]\n",
      "Waiting for 5 seconds...\n",
      "1 URLs found for download. Full request totalling 12MB\n"
     ]
    },
    {
     "data": {
      "application/vnd.jupyter.widget-view+json": {
       "model_id": "757f86b0e9da41d3bdadc693f80ed735",
       "version_major": 2,
       "version_minor": 0
      },
      "text/plain": [
       "Files Downloaded:   0%|          | 0/1 [00:00<?, ?file/s]"
      ]
     },
     "metadata": {},
     "output_type": "display_data"
    },
    {
     "data": {
      "application/vnd.jupyter.widget-view+json": {
       "model_id": "",
       "version_major": 2,
       "version_minor": 0
      },
      "text/plain": [
       "aia.lev1_uv_24s.2022-12-30T193517Z.1700.image_lev1.fits:   0%|          | 0.00/12.5M [00:00<?, ?B/s]"
      ]
     },
     "metadata": {},
     "output_type": "display_data"
    },
    {
     "name": "stdout",
     "output_type": "stream",
     "text": [
      "Found STIX map:  ['/net/galilei/work2/fschuller/data/STIX-maps/2023-01-06T00:56_2301061602_No-SAS_mem.fits']\n",
      "Light travel time correction: 15.5194787833 s\n",
      "Downloading AIA image...\n",
      "Export request pending. [id=JSOC_20230728_4087, status=2]\n",
      "Waiting for 0 seconds...\n",
      "Export request pending. [id=JSOC_20230728_4087, status=1]\n",
      "Waiting for 5 seconds...\n",
      "Export request pending. [id=JSOC_20230728_4087, status=1]\n",
      "Waiting for 5 seconds...\n",
      "Export request pending. [id=JSOC_20230728_4087, status=1]\n",
      "Waiting for 5 seconds...\n",
      "Export request pending. [id=JSOC_20230728_4087, status=1]\n",
      "Waiting for 5 seconds...\n",
      "1 URLs found for download. Full request totalling 12MB\n"
     ]
    },
    {
     "data": {
      "application/vnd.jupyter.widget-view+json": {
       "model_id": "555e66fb88894ae58730207a3a026423",
       "version_major": 2,
       "version_minor": 0
      },
      "text/plain": [
       "Files Downloaded:   0%|          | 0/1 [00:00<?, ?file/s]"
      ]
     },
     "metadata": {},
     "output_type": "display_data"
    },
    {
     "data": {
      "application/vnd.jupyter.widget-view+json": {
       "model_id": "",
       "version_major": 2,
       "version_minor": 0
      },
      "text/plain": [
       "aia.lev1_uv_24s.2023-01-06T005605Z.1700.image_lev1.fits:   0%|          | 0.00/12.6M [00:00<?, ?B/s]"
      ]
     },
     "metadata": {},
     "output_type": "display_data"
    },
    {
     "name": "stdout",
     "output_type": "stream",
     "text": [
      "Found STIX map:  ['/net/galilei/work2/fschuller/data/STIX-maps/2023-01-15T03:31_2301151225_No-SAS_mem.fits']\n",
      "Light travel time correction: 15.6196121628 s\n",
      "Downloading AIA image...\n",
      "Export request pending. [id=JSOC_20230728_4095, status=2]\n",
      "Waiting for 0 seconds...\n",
      "Export request pending. [id=JSOC_20230728_4095, status=1]\n",
      "Waiting for 5 seconds...\n",
      "Export request pending. [id=JSOC_20230728_4095, status=1]\n",
      "Waiting for 5 seconds...\n",
      "Export request pending. [id=JSOC_20230728_4095, status=1]\n",
      "Waiting for 5 seconds...\n",
      "Export request pending. [id=JSOC_20230728_4095, status=1]\n",
      "Waiting for 5 seconds...\n",
      "1 URLs found for download. Full request totalling 12MB\n"
     ]
    },
    {
     "data": {
      "application/vnd.jupyter.widget-view+json": {
       "model_id": "5e081ab2ceb948dda87af406de4ec420",
       "version_major": 2,
       "version_minor": 0
      },
      "text/plain": [
       "Files Downloaded:   0%|          | 0/1 [00:00<?, ?file/s]"
      ]
     },
     "metadata": {},
     "output_type": "display_data"
    },
    {
     "data": {
      "application/vnd.jupyter.widget-view+json": {
       "model_id": "",
       "version_major": 2,
       "version_minor": 0
      },
      "text/plain": [
       "aia.lev1_uv_24s.2023-01-15T032517Z.1700.image_lev1.fits:   0%|          | 0.00/12.5M [00:00<?, ?B/s]"
      ]
     },
     "metadata": {},
     "output_type": "display_data"
    },
    {
     "name": "stdout",
     "output_type": "stream",
     "text": [
      "Found STIX map:  ['/net/galilei/work2/fschuller/data/STIX-maps/2023-01-15T14:28_2301150238_No-SAS_mem.fits']\n",
      "Light travel time correction: 15.8151532677 s\n",
      "Downloading AIA image...\n",
      "Export request pending. [id=JSOC_20230728_4103, status=2]\n",
      "Waiting for 0 seconds...\n",
      "Export request pending. [id=JSOC_20230728_4103, status=1]\n",
      "Waiting for 5 seconds...\n",
      "Export request pending. [id=JSOC_20230728_4103, status=1]\n",
      "Waiting for 5 seconds...\n",
      "Export request pending. [id=JSOC_20230728_4103, status=1]\n",
      "Waiting for 5 seconds...\n",
      "Export request pending. [id=JSOC_20230728_4103, status=1]\n",
      "Waiting for 5 seconds...\n",
      "1 URLs found for download. Full request totalling 12MB\n"
     ]
    },
    {
     "data": {
      "application/vnd.jupyter.widget-view+json": {
       "model_id": "4d10701156f847cb81c31aa8fdef567a",
       "version_major": 2,
       "version_minor": 0
      },
      "text/plain": [
       "Files Downloaded:   0%|          | 0/1 [00:00<?, ?file/s]"
      ]
     },
     "metadata": {},
     "output_type": "display_data"
    },
    {
     "data": {
      "application/vnd.jupyter.widget-view+json": {
       "model_id": "",
       "version_major": 2,
       "version_minor": 0
      },
      "text/plain": [
       "aia.lev1_uv_24s.2023-01-15T142429Z.1700.image_lev1.fits:   0%|          | 0.00/12.5M [00:00<?, ?B/s]"
      ]
     },
     "metadata": {},
     "output_type": "display_data"
    },
    {
     "name": "stdout",
     "output_type": "stream",
     "text": [
      "Found STIX map:  ['/net/galilei/work2/fschuller/data/STIX-maps/2023-02-07T23:06_2302073237_No-SAS_mem.fits']\n",
      "Light travel time correction: 50.9814942736 s\n",
      "Downloading AIA image...\n",
      "Export request pending. [id=JSOC_20230728_4112, status=2]\n",
      "Waiting for 0 seconds...\n",
      "Export request pending. [id=JSOC_20230728_4112, status=1]\n",
      "Waiting for 5 seconds...\n",
      "Export request pending. [id=JSOC_20230728_4112, status=1]\n",
      "Waiting for 5 seconds...\n",
      "Export request pending. [id=JSOC_20230728_4112, status=1]\n",
      "Waiting for 5 seconds...\n",
      "Export request pending. [id=JSOC_20230728_4112, status=1]\n",
      "Waiting for 5 seconds...\n",
      "Export request pending. [id=JSOC_20230728_4112, status=1]\n",
      "Waiting for 5 seconds...\n",
      "1 URLs found for download. Full request totalling 12MB\n"
     ]
    },
    {
     "data": {
      "application/vnd.jupyter.widget-view+json": {
       "model_id": "53c01e64fbac453d8cb321626e750931",
       "version_major": 2,
       "version_minor": 0
      },
      "text/plain": [
       "Files Downloaded:   0%|          | 0/1 [00:00<?, ?file/s]"
      ]
     },
     "metadata": {},
     "output_type": "display_data"
    },
    {
     "data": {
      "application/vnd.jupyter.widget-view+json": {
       "model_id": "",
       "version_major": 2,
       "version_minor": 0
      },
      "text/plain": [
       "aia.lev1_uv_24s.2023-02-07T230605Z.1700.image_lev1.fits:   0%|          | 0.00/12.5M [00:00<?, ?B/s]"
      ]
     },
     "metadata": {},
     "output_type": "display_data"
    },
    {
     "name": "stdout",
     "output_type": "stream",
     "text": [
      "Found STIX map:  ['/net/galilei/work2/fschuller/data/STIX-maps/2023-02-07T23:05_2302073237_No-SAS_mem.fits']\n",
      "Light travel time correction: 50.9814942736 s\n",
      "Downloading AIA image...\n",
      "Export request pending. [id=JSOC_20230728_4119, status=2]\n",
      "Waiting for 0 seconds...\n",
      "Export request pending. [id=JSOC_20230728_4119, status=1]\n",
      "Waiting for 5 seconds...\n",
      "Export request pending. [id=JSOC_20230728_4119, status=1]\n",
      "Waiting for 5 seconds...\n",
      "Export request pending. [id=JSOC_20230728_4119, status=1]\n",
      "Waiting for 5 seconds...\n",
      "Export request pending. [id=JSOC_20230728_4119, status=1]\n",
      "Waiting for 5 seconds...\n",
      "1 URLs found for download. Full request totalling 12MB\n"
     ]
    },
    {
     "data": {
      "application/vnd.jupyter.widget-view+json": {
       "model_id": "01af42825d3942abbb839a70243bfbf4",
       "version_major": 2,
       "version_minor": 0
      },
      "text/plain": [
       "Files Downloaded:   0%|          | 0/1 [00:00<?, ?file/s]"
      ]
     },
     "metadata": {},
     "output_type": "display_data"
    },
    {
     "data": {
      "application/vnd.jupyter.widget-view+json": {
       "model_id": "",
       "version_major": 2,
       "version_minor": 0
      },
      "text/plain": [
       "aia.lev1_uv_24s.2023-02-07T230629Z.1700.image_lev1.fits:   0%|          | 0.00/12.5M [00:00<?, ?B/s]"
      ]
     },
     "metadata": {},
     "output_type": "display_data"
    },
    {
     "name": "stdout",
     "output_type": "stream",
     "text": [
      "Found STIX map:  ['/net/galilei/work2/fschuller/data/STIX-maps/2023-02-07T22:57_2302071119_No-SAS_mem.fits']\n",
      "Light travel time correction: 50.9998683254 s\n",
      "Downloading AIA image...\n",
      "Export request pending. [id=JSOC_20230728_4128, status=2]\n",
      "Waiting for 0 seconds...\n",
      "Export request pending. [id=JSOC_20230728_4128, status=1]\n",
      "Waiting for 5 seconds...\n",
      "Export request pending. [id=JSOC_20230728_4128, status=1]\n",
      "Waiting for 5 seconds...\n",
      "Export request pending. [id=JSOC_20230728_4128, status=1]\n",
      "Waiting for 5 seconds...\n",
      "1 URLs found for download. Full request totalling 12MB\n"
     ]
    },
    {
     "data": {
      "application/vnd.jupyter.widget-view+json": {
       "model_id": "7fccf84f896b491daba96d1f2044afa3",
       "version_major": 2,
       "version_minor": 0
      },
      "text/plain": [
       "Files Downloaded:   0%|          | 0/1 [00:00<?, ?file/s]"
      ]
     },
     "metadata": {},
     "output_type": "display_data"
    },
    {
     "data": {
      "application/vnd.jupyter.widget-view+json": {
       "model_id": "",
       "version_major": 2,
       "version_minor": 0
      },
      "text/plain": [
       "aia.lev1_uv_24s.2023-02-07T225741Z.1700.image_lev1.fits:   0%|          | 0.00/12.5M [00:00<?, ?B/s]"
      ]
     },
     "metadata": {},
     "output_type": "display_data"
    },
    {
     "name": "stdout",
     "output_type": "stream",
     "text": [
      "Found STIX map:  ['/net/galilei/work2/fschuller/data/STIX-maps/2023-02-07T23:04_2302073237_No-SAS_mem.fits']\n",
      "Light travel time correction: 50.9814942736 s\n",
      "Downloading AIA image...\n",
      "Export request pending. [id=JSOC_20230727_2858, status=2]\n",
      "Waiting for 0 seconds...\n",
      "1 URLs found for download. Full request totalling 12MB\n"
     ]
    },
    {
     "data": {
      "application/vnd.jupyter.widget-view+json": {
       "model_id": "cee1d53d369b414f863ffb7a5367413e",
       "version_major": 2,
       "version_minor": 0
      },
      "text/plain": [
       "Files Downloaded:   0%|          | 0/1 [00:00<?, ?file/s]"
      ]
     },
     "metadata": {},
     "output_type": "display_data"
    },
    {
     "name": "stdout",
     "output_type": "stream",
     "text": [
      "Found STIX map:  ['/net/galilei/work2/fschuller/data/STIX-maps/2023-02-09T02:54_2302091385_No-SAS_mem.fits']\n",
      "Light travel time correction: 54.0898738173 s\n",
      "Downloading AIA image...\n",
      "Export request pending. [id=JSOC_20230728_4138, status=2]\n",
      "Waiting for 0 seconds...\n",
      "Export request pending. [id=JSOC_20230728_4138, status=1]\n",
      "Waiting for 5 seconds...\n",
      "Export request pending. [id=JSOC_20230728_4138, status=1]\n",
      "Waiting for 5 seconds...\n",
      "Export request pending. [id=JSOC_20230728_4138, status=1]\n",
      "Waiting for 5 seconds...\n",
      "Export request pending. [id=JSOC_20230728_4138, status=1]\n",
      "Waiting for 5 seconds...\n",
      "1 URLs found for download. Full request totalling 12MB\n"
     ]
    },
    {
     "data": {
      "application/vnd.jupyter.widget-view+json": {
       "model_id": "f73aa7cef7cd453a8b1dd186e10e2090",
       "version_major": 2,
       "version_minor": 0
      },
      "text/plain": [
       "Files Downloaded:   0%|          | 0/1 [00:00<?, ?file/s]"
      ]
     },
     "metadata": {},
     "output_type": "display_data"
    },
    {
     "data": {
      "application/vnd.jupyter.widget-view+json": {
       "model_id": "",
       "version_major": 2,
       "version_minor": 0
      },
      "text/plain": [
       "aia.lev1_uv_24s.2023-02-09T025429Z.1700.image_lev1.fits:   0%|          | 0.00/12.5M [00:00<?, ?B/s]"
      ]
     },
     "metadata": {},
     "output_type": "display_data"
    },
    {
     "name": "stdout",
     "output_type": "stream",
     "text": [
      "Found STIX map:  ['/net/galilei/work2/fschuller/data/STIX-maps/2023-02-09T03:09_2302091385_No-SAS_mem.fits']\n",
      "Light travel time correction: 54.0898738173 s\n",
      "Downloading AIA image...\n",
      "Export request pending. [id=JSOC_20230728_4144, status=2]\n",
      "Waiting for 0 seconds...\n",
      "Export request pending. [id=JSOC_20230728_4144, status=1]\n",
      "Waiting for 5 seconds...\n",
      "Export request pending. [id=JSOC_20230728_4144, status=1]\n",
      "Waiting for 5 seconds...\n",
      "Export request pending. [id=JSOC_20230728_4144, status=1]\n",
      "Waiting for 5 seconds...\n",
      "1 URLs found for download. Full request totalling 12MB\n"
     ]
    },
    {
     "data": {
      "application/vnd.jupyter.widget-view+json": {
       "model_id": "ba0c4ab0fe3a40cc8bd40cfda52c779a",
       "version_major": 2,
       "version_minor": 0
      },
      "text/plain": [
       "Files Downloaded:   0%|          | 0/1 [00:00<?, ?file/s]"
      ]
     },
     "metadata": {},
     "output_type": "display_data"
    },
    {
     "data": {
      "application/vnd.jupyter.widget-view+json": {
       "model_id": "",
       "version_major": 2,
       "version_minor": 0
      },
      "text/plain": [
       "aia.lev1_uv_24s.2023-02-09T031053Z.1700.image_lev1.fits:   0%|          | 0.00/12.5M [00:00<?, ?B/s]"
      ]
     },
     "metadata": {},
     "output_type": "display_data"
    },
    {
     "name": "stdout",
     "output_type": "stream",
     "text": [
      "Found STIX map:  ['/net/galilei/work2/fschuller/data/STIX-maps/2023-02-10T02:59_2302107767_No-SAS_mem.fits']\n",
      "Light travel time correction: 56.7935744529 s\n",
      "Downloading AIA image...\n",
      "Export request pending. [id=JSOC_20230728_4150, status=2]\n",
      "Waiting for 0 seconds...\n",
      "Export request pending. [id=JSOC_20230728_4150, status=1]\n",
      "Waiting for 5 seconds...\n",
      "Export request pending. [id=JSOC_20230728_4150, status=1]\n",
      "Waiting for 5 seconds...\n",
      "Export request pending. [id=JSOC_20230728_4150, status=1]\n",
      "Waiting for 5 seconds...\n",
      "Export request pending. [id=JSOC_20230728_4150, status=1]\n",
      "Waiting for 5 seconds...\n",
      "Export request pending. [id=JSOC_20230728_4150, status=1]\n",
      "Waiting for 5 seconds...\n",
      "1 URLs found for download. Full request totalling 12MB\n"
     ]
    },
    {
     "data": {
      "application/vnd.jupyter.widget-view+json": {
       "model_id": "d0db3f772aab41b2aff1107e22dddbab",
       "version_major": 2,
       "version_minor": 0
      },
      "text/plain": [
       "Files Downloaded:   0%|          | 0/1 [00:00<?, ?file/s]"
      ]
     },
     "metadata": {},
     "output_type": "display_data"
    },
    {
     "data": {
      "application/vnd.jupyter.widget-view+json": {
       "model_id": "",
       "version_major": 2,
       "version_minor": 0
      },
      "text/plain": [
       "aia.lev1_uv_24s.2023-02-10T025805Z.1700.image_lev1.fits:   0%|          | 0.00/12.5M [00:00<?, ?B/s]"
      ]
     },
     "metadata": {},
     "output_type": "display_data"
    },
    {
     "name": "stdout",
     "output_type": "stream",
     "text": [
      "Found STIX map:  ['/net/galilei/work2/fschuller/data/STIX-maps/2023-02-11T15:47_2302116868_No-SAS_mem.fits']\n",
      "Light travel time correction: 61.1896604832 s\n",
      "Downloading AIA image...\n",
      "Export request pending. [id=JSOC_20230728_4157, status=2]\n",
      "Waiting for 0 seconds...\n",
      "Export request pending. [id=JSOC_20230728_4157, status=1]\n",
      "Waiting for 5 seconds...\n",
      "Export request pending. [id=JSOC_20230728_4157, status=1]\n",
      "Waiting for 5 seconds...\n",
      "Export request pending. [id=JSOC_20230728_4157, status=1]\n",
      "Waiting for 5 seconds...\n",
      "Export request pending. [id=JSOC_20230728_4157, status=1]\n",
      "Waiting for 5 seconds...\n",
      "1 URLs found for download. Full request totalling 12MB\n"
     ]
    },
    {
     "data": {
      "application/vnd.jupyter.widget-view+json": {
       "model_id": "74e619dcdab148de87e53fdcba23f050",
       "version_major": 2,
       "version_minor": 0
      },
      "text/plain": [
       "Files Downloaded:   0%|          | 0/1 [00:00<?, ?file/s]"
      ]
     },
     "metadata": {},
     "output_type": "display_data"
    },
    {
     "data": {
      "application/vnd.jupyter.widget-view+json": {
       "model_id": "",
       "version_major": 2,
       "version_minor": 0
      },
      "text/plain": [
       "aia.lev1_uv_24s.2023-02-11T154629Z.1700.image_lev1.fits:   0%|          | 0.00/12.5M [00:00<?, ?B/s]"
      ]
     },
     "metadata": {},
     "output_type": "display_data"
    },
    {
     "name": "stdout",
     "output_type": "stream",
     "text": [
      "Found STIX map:  ['/net/galilei/work2/fschuller/data/STIX-maps/2023-02-12T08:45_2302126479_No-SAS_mem.fits']\n",
      "Light travel time correction: 63.3034580328 s\n",
      "Downloading AIA image...\n",
      "Export request pending. [id=JSOC_20230728_4167, status=2]\n",
      "Waiting for 0 seconds...\n",
      "Export request pending. [id=JSOC_20230728_4167, status=1]\n",
      "Waiting for 5 seconds...\n",
      "Export request pending. [id=JSOC_20230728_4167, status=1]\n",
      "Waiting for 5 seconds...\n",
      "Export request pending. [id=JSOC_20230728_4167, status=1]\n",
      "Waiting for 5 seconds...\n",
      "Export request pending. [id=JSOC_20230728_4167, status=1]\n",
      "Waiting for 5 seconds...\n",
      "1 URLs found for download. Full request totalling 12MB\n"
     ]
    },
    {
     "data": {
      "application/vnd.jupyter.widget-view+json": {
       "model_id": "90202756304f452fa3d766bf902c6c8c",
       "version_major": 2,
       "version_minor": 0
      },
      "text/plain": [
       "Files Downloaded:   0%|          | 0/1 [00:00<?, ?file/s]"
      ]
     },
     "metadata": {},
     "output_type": "display_data"
    },
    {
     "data": {
      "application/vnd.jupyter.widget-view+json": {
       "model_id": "",
       "version_major": 2,
       "version_minor": 0
      },
      "text/plain": [
       "aia.lev1_uv_24s.2023-02-12T084453Z.1700.image_lev1.fits:   0%|          | 0.00/12.5M [00:00<?, ?B/s]"
      ]
     },
     "metadata": {},
     "output_type": "display_data"
    },
    {
     "name": "stdout",
     "output_type": "stream",
     "text": [
      "Found STIX map:  ['/net/galilei/work2/fschuller/data/STIX-maps/2023-02-14T02:01_2302149227_No-SAS_mem.fits']\n",
      "Light travel time correction: 68.6345362927 s\n",
      "Downloading AIA image...\n",
      "Export request pending. [id=JSOC_20230728_4173, status=2]\n",
      "Waiting for 0 seconds...\n",
      "Export request pending. [id=JSOC_20230728_4173, status=1]\n",
      "Waiting for 5 seconds...\n",
      "Export request pending. [id=JSOC_20230728_4173, status=1]\n",
      "Waiting for 5 seconds...\n",
      "Export request pending. [id=JSOC_20230728_4173, status=1]\n",
      "Waiting for 5 seconds...\n",
      "Export request pending. [id=JSOC_20230728_4173, status=1]\n",
      "Waiting for 5 seconds...\n",
      "1 URLs found for download. Full request totalling 12MB\n"
     ]
    },
    {
     "data": {
      "application/vnd.jupyter.widget-view+json": {
       "model_id": "aeef921e2896442092089e4bb650fcba",
       "version_major": 2,
       "version_minor": 0
      },
      "text/plain": [
       "Files Downloaded:   0%|          | 0/1 [00:00<?, ?file/s]"
      ]
     },
     "metadata": {},
     "output_type": "display_data"
    },
    {
     "data": {
      "application/vnd.jupyter.widget-view+json": {
       "model_id": "",
       "version_major": 2,
       "version_minor": 0
      },
      "text/plain": [
       "aia.lev1_uv_24s.2023-02-14T020053Z.1700.image_lev1.fits:   0%|          | 0.00/12.5M [00:00<?, ?B/s]"
      ]
     },
     "metadata": {},
     "output_type": "display_data"
    },
    {
     "name": "stdout",
     "output_type": "stream",
     "text": [
      "Found STIX map:  ['/net/galilei/work2/fschuller/data/STIX-maps/2023-02-14T11:20_2302143315_No-SAS_mem.fits']\n",
      "Light travel time correction: 69.8553770306 s\n",
      "Downloading AIA image...\n",
      "Export request pending. [id=JSOC_20230728_4180, status=2]\n",
      "Waiting for 0 seconds...\n",
      "Export request pending. [id=JSOC_20230728_4180, status=1]\n",
      "Waiting for 5 seconds...\n",
      "Export request pending. [id=JSOC_20230728_4180, status=1]\n",
      "Waiting for 5 seconds...\n",
      "Export request pending. [id=JSOC_20230728_4180, status=1]\n",
      "Waiting for 5 seconds...\n",
      "Export request pending. [id=JSOC_20230728_4180, status=1]\n",
      "Waiting for 5 seconds...\n",
      "1 URLs found for download. Full request totalling 12MB\n"
     ]
    },
    {
     "data": {
      "application/vnd.jupyter.widget-view+json": {
       "model_id": "e6a359eca893457da0d8bf0971a8e679",
       "version_major": 2,
       "version_minor": 0
      },
      "text/plain": [
       "Files Downloaded:   0%|          | 0/1 [00:00<?, ?file/s]"
      ]
     },
     "metadata": {},
     "output_type": "display_data"
    },
    {
     "data": {
      "application/vnd.jupyter.widget-view+json": {
       "model_id": "",
       "version_major": 2,
       "version_minor": 0
      },
      "text/plain": [
       "aia.lev1_uv_24s.2023-02-14T111853Z.1700.image_lev1.fits:   0%|          | 0.00/12.5M [00:00<?, ?B/s]"
      ]
     },
     "metadata": {},
     "output_type": "display_data"
    },
    {
     "name": "stdout",
     "output_type": "stream",
     "text": [
      "Found STIX map:  ['/net/galilei/work2/fschuller/data/STIX-maps/2023-02-20T14:56_2302201045_No-SAS_mem.fits']\n",
      "Light travel time correction: 91.5623928282 s\n",
      "Downloading AIA image...\n",
      "Export request pending. [id=JSOC_20230728_4189, status=2]\n",
      "Waiting for 0 seconds...\n",
      "Export request pending. [id=JSOC_20230728_4189, status=1]\n",
      "Waiting for 5 seconds...\n",
      "Export request pending. [id=JSOC_20230728_4189, status=1]\n",
      "Waiting for 5 seconds...\n",
      "Export request pending. [id=JSOC_20230728_4189, status=1]\n",
      "Waiting for 5 seconds...\n",
      "1 URLs found for download. Full request totalling 12MB\n"
     ]
    },
    {
     "data": {
      "application/vnd.jupyter.widget-view+json": {
       "model_id": "8b3b3fb348cc467293cc649d294015f2",
       "version_major": 2,
       "version_minor": 0
      },
      "text/plain": [
       "Files Downloaded:   0%|          | 0/1 [00:00<?, ?file/s]"
      ]
     },
     "metadata": {},
     "output_type": "display_data"
    },
    {
     "data": {
      "application/vnd.jupyter.widget-view+json": {
       "model_id": "",
       "version_major": 2,
       "version_minor": 0
      },
      "text/plain": [
       "aia.lev1_uv_24s.2023-02-20T145653Z.1700.image_lev1.fits:   0%|          | 0.00/12.5M [00:00<?, ?B/s]"
      ]
     },
     "metadata": {},
     "output_type": "display_data"
    },
    {
     "name": "stdout",
     "output_type": "stream",
     "text": [
      "Found STIX map:  ['/net/galilei/work2/fschuller/data/STIX-maps/2023-02-21T11:20_2302217837_No-SAS_mem.fits']\n",
      "Light travel time correction: 94.8724040434 s\n",
      "Downloading AIA image...\n",
      "Export request pending. [id=JSOC_20230728_4195, status=2]\n",
      "Waiting for 0 seconds...\n",
      "Export request pending. [id=JSOC_20230728_4195, status=1]\n",
      "Waiting for 5 seconds...\n",
      "Export request pending. [id=JSOC_20230728_4195, status=1]\n",
      "Waiting for 5 seconds...\n",
      "Export request pending. [id=JSOC_20230728_4195, status=1]\n",
      "Waiting for 5 seconds...\n",
      "Export request pending. [id=JSOC_20230728_4195, status=1]\n",
      "Waiting for 5 seconds...\n",
      "1 URLs found for download. Full request totalling 12MB\n"
     ]
    },
    {
     "data": {
      "application/vnd.jupyter.widget-view+json": {
       "model_id": "01d9a6a8c63845c3a9cf98f8c885321e",
       "version_major": 2,
       "version_minor": 0
      },
      "text/plain": [
       "Files Downloaded:   0%|          | 0/1 [00:00<?, ?file/s]"
      ]
     },
     "metadata": {},
     "output_type": "display_data"
    },
    {
     "data": {
      "application/vnd.jupyter.widget-view+json": {
       "model_id": "",
       "version_major": 2,
       "version_minor": 0
      },
      "text/plain": [
       "aia.lev1_uv_24s.2023-02-21T110917Z.1700.image_lev1.fits:   0%|          | 0.00/12.5M [00:00<?, ?B/s]"
      ]
     },
     "metadata": {},
     "output_type": "display_data"
    },
    {
     "name": "stdout",
     "output_type": "stream",
     "text": [
      "Found STIX map:  ['/net/galilei/work2/fschuller/data/STIX-maps/2023-02-21T20:13_2302211252_No-SAS_mem.fits']\n",
      "Light travel time correction: 96.3872212443 s\n",
      "Downloading AIA image...\n",
      "Export request pending. [id=JSOC_20230728_4205, status=2]\n",
      "Waiting for 0 seconds...\n",
      "Export request pending. [id=JSOC_20230728_4205, status=1]\n",
      "Waiting for 5 seconds...\n",
      "Export request pending. [id=JSOC_20230728_4205, status=1]\n",
      "Waiting for 5 seconds...\n",
      "Export request pending. [id=JSOC_20230728_4205, status=1]\n",
      "Waiting for 5 seconds...\n",
      "Export request pending. [id=JSOC_20230728_4205, status=1]\n",
      "Waiting for 5 seconds...\n",
      "1 URLs found for download. Full request totalling 12MB\n"
     ]
    },
    {
     "data": {
      "application/vnd.jupyter.widget-view+json": {
       "model_id": "14d97d910ec346869d478b398d50da80",
       "version_major": 2,
       "version_minor": 0
      },
      "text/plain": [
       "Files Downloaded:   0%|          | 0/1 [00:00<?, ?file/s]"
      ]
     },
     "metadata": {},
     "output_type": "display_data"
    },
    {
     "data": {
      "application/vnd.jupyter.widget-view+json": {
       "model_id": "",
       "version_major": 2,
       "version_minor": 0
      },
      "text/plain": [
       "aia.lev1_uv_24s.2023-02-21T201229Z.1700.image_lev1.fits:   0%|          | 0.00/12.5M [00:00<?, ?B/s]"
      ]
     },
     "metadata": {},
     "output_type": "display_data"
    },
    {
     "name": "stdout",
     "output_type": "stream",
     "text": [
      "Found STIX map:  ['/net/galilei/work2/fschuller/data/STIX-maps/2023-02-22T13:47_2302224986_No-SAS_mem.fits']\n",
      "Light travel time correction: 99.2903709677 s\n",
      "Downloading AIA image...\n",
      "Export request pending. [id=JSOC_20230728_4213, status=2]\n",
      "Waiting for 0 seconds...\n",
      "Export request pending. [id=JSOC_20230728_4213, status=1]\n",
      "Waiting for 5 seconds...\n",
      "Export request pending. [id=JSOC_20230728_4213, status=1]\n",
      "Waiting for 5 seconds...\n",
      "Export request pending. [id=JSOC_20230728_4213, status=1]\n",
      "Waiting for 5 seconds...\n",
      "Export request pending. [id=JSOC_20230728_4213, status=1]\n",
      "Waiting for 5 seconds...\n",
      "1 URLs found for download. Full request totalling 12MB\n"
     ]
    },
    {
     "data": {
      "application/vnd.jupyter.widget-view+json": {
       "model_id": "109d3e781a4145b7b9c9795a8a45ae24",
       "version_major": 2,
       "version_minor": 0
      },
      "text/plain": [
       "Files Downloaded:   0%|          | 0/1 [00:00<?, ?file/s]"
      ]
     },
     "metadata": {},
     "output_type": "display_data"
    },
    {
     "data": {
      "application/vnd.jupyter.widget-view+json": {
       "model_id": "",
       "version_major": 2,
       "version_minor": 0
      },
      "text/plain": [
       "aia.lev1_uv_24s.2023-02-22T134741Z.1700.image_lev1.fits:   0%|          | 0.00/12.5M [00:00<?, ?B/s]"
      ]
     },
     "metadata": {},
     "output_type": "display_data"
    },
    {
     "name": "stdout",
     "output_type": "stream",
     "text": [
      "Found STIX map:  ['/net/galilei/work2/fschuller/data/STIX-maps/2023-02-24T20:23_2302247218_No-SAS_mem.fits']\n",
      "Light travel time correction: 108.677091842 s\n",
      "Downloading AIA image...\n",
      "Export request pending. [id=JSOC_20230728_4220, status=2]\n",
      "Waiting for 0 seconds...\n",
      "Export request pending. [id=JSOC_20230728_4220, status=1]\n",
      "Waiting for 5 seconds...\n",
      "Export request pending. [id=JSOC_20230728_4220, status=1]\n",
      "Waiting for 5 seconds...\n",
      "Export request pending. [id=JSOC_20230728_4220, status=1]\n",
      "Waiting for 5 seconds...\n",
      "Export request pending. [id=JSOC_20230728_4220, status=1]\n",
      "Waiting for 5 seconds...\n",
      "1 URLs found for download. Full request totalling 12MB\n"
     ]
    },
    {
     "data": {
      "application/vnd.jupyter.widget-view+json": {
       "model_id": "e63727a604ac49d1966f5dfe41ca9333",
       "version_major": 2,
       "version_minor": 0
      },
      "text/plain": [
       "Files Downloaded:   0%|          | 0/1 [00:00<?, ?file/s]"
      ]
     },
     "metadata": {},
     "output_type": "display_data"
    },
    {
     "data": {
      "application/vnd.jupyter.widget-view+json": {
       "model_id": "",
       "version_major": 2,
       "version_minor": 0
      },
      "text/plain": [
       "aia.lev1_uv_24s.2023-02-24T201941Z.1700.image_lev1.fits:   0%|          | 0.00/12.5M [00:00<?, ?B/s]"
      ]
     },
     "metadata": {},
     "output_type": "display_data"
    },
    {
     "name": "stdout",
     "output_type": "stream",
     "text": [
      "Found STIX map:  ['/net/galilei/work2/fschuller/data/STIX-maps/2023-02-25T19:34_2302250933_No-SAS_mem.fits']\n",
      "Light travel time correction: 112.717104962 s\n",
      "Downloading AIA image...\n",
      "Export request pending. [id=JSOC_20230728_4230, status=2]\n",
      "Waiting for 0 seconds...\n",
      "Export request pending. [id=JSOC_20230728_4230, status=1]\n",
      "Waiting for 5 seconds...\n",
      "Export request pending. [id=JSOC_20230728_4230, status=1]\n",
      "Waiting for 5 seconds...\n",
      "Export request pending. [id=JSOC_20230728_4230, status=1]\n",
      "Waiting for 5 seconds...\n",
      "Export request pending. [id=JSOC_20230728_4230, status=1]\n",
      "Waiting for 5 seconds...\n",
      "1 URLs found for download. Full request totalling 12MB\n"
     ]
    },
    {
     "data": {
      "application/vnd.jupyter.widget-view+json": {
       "model_id": "3ad6444caeb743b3aa0add142de172e3",
       "version_major": 2,
       "version_minor": 0
      },
      "text/plain": [
       "Files Downloaded:   0%|          | 0/1 [00:00<?, ?file/s]"
      ]
     },
     "metadata": {},
     "output_type": "display_data"
    },
    {
     "data": {
      "application/vnd.jupyter.widget-view+json": {
       "model_id": "",
       "version_major": 2,
       "version_minor": 0
      },
      "text/plain": [
       "aia.lev1_uv_24s.2023-02-25T192541Z.1700.image_lev1.fits:   0%|          | 0.00/12.5M [00:00<?, ?B/s]"
      ]
     },
     "metadata": {},
     "output_type": "display_data"
    },
    {
     "name": "stdout",
     "output_type": "stream",
     "text": [
      "Found STIX map:  ['/net/galilei/work2/fschuller/data/STIX-maps/2023-02-28T17:47_2302282620_No-SAS_mem.fits']\n",
      "Light travel time correction: 126.081549782 s\n",
      "Downloading AIA image...\n",
      "Export request pending. [id=JSOC_20230728_4241, status=2]\n",
      "Waiting for 0 seconds...\n",
      "Export request pending. [id=JSOC_20230728_4241, status=1]\n",
      "Waiting for 5 seconds...\n",
      "Export request pending. [id=JSOC_20230728_4241, status=1]\n",
      "Waiting for 5 seconds...\n",
      "Export request pending. [id=JSOC_20230728_4241, status=1]\n",
      "Waiting for 5 seconds...\n",
      "Export request pending. [id=JSOC_20230728_4241, status=1]\n",
      "Waiting for 5 seconds...\n",
      "1 URLs found for download. Full request totalling 12MB\n"
     ]
    },
    {
     "data": {
      "application/vnd.jupyter.widget-view+json": {
       "model_id": "112ea323a85e419e98c4d555d8a7cb2b",
       "version_major": 2,
       "version_minor": 0
      },
      "text/plain": [
       "Files Downloaded:   0%|          | 0/1 [00:00<?, ?file/s]"
      ]
     },
     "metadata": {},
     "output_type": "display_data"
    },
    {
     "data": {
      "application/vnd.jupyter.widget-view+json": {
       "model_id": "",
       "version_major": 2,
       "version_minor": 0
      },
      "text/plain": [
       "aia.lev1_uv_24s.2023-02-28T174317Z.1700.image_lev1.fits:   0%|          | 0.00/12.5M [00:00<?, ?B/s]"
      ]
     },
     "metadata": {},
     "output_type": "display_data"
    },
    {
     "name": "stdout",
     "output_type": "stream",
     "text": [
      "Found STIX map:  ['/net/galilei/work2/fschuller/data/STIX-maps/2023-03-05T21:32_2303057087_No-SAS_mem.fits']\n",
      "Light travel time correction: 151.786807797 s\n",
      "Downloading AIA image...\n",
      "Export request pending. [id=JSOC_20230728_4249, status=2]\n",
      "Waiting for 0 seconds...\n",
      "Export request pending. [id=JSOC_20230728_4249, status=1]\n",
      "Waiting for 5 seconds...\n",
      "Export request pending. [id=JSOC_20230728_4249, status=1]\n",
      "Waiting for 5 seconds...\n",
      "Export request pending. [id=JSOC_20230728_4249, status=1]\n",
      "Waiting for 5 seconds...\n",
      "Export request pending. [id=JSOC_20230728_4249, status=1]\n",
      "Waiting for 5 seconds...\n",
      "1 URLs found for download. Full request totalling 12MB\n"
     ]
    },
    {
     "data": {
      "application/vnd.jupyter.widget-view+json": {
       "model_id": "33253749856c4814aa1d82499dfc3d12",
       "version_major": 2,
       "version_minor": 0
      },
      "text/plain": [
       "Files Downloaded:   0%|          | 0/1 [00:00<?, ?file/s]"
      ]
     },
     "metadata": {},
     "output_type": "display_data"
    },
    {
     "data": {
      "application/vnd.jupyter.widget-view+json": {
       "model_id": "",
       "version_major": 2,
       "version_minor": 0
      },
      "text/plain": [
       "aia.lev1_uv_24s.2023-03-05T213341Z.1700.image_lev1.fits:   0%|          | 0.00/12.5M [00:00<?, ?B/s]"
      ]
     },
     "metadata": {},
     "output_type": "display_data"
    },
    {
     "name": "stdout",
     "output_type": "stream",
     "text": [
      "Found STIX map:  ['/net/galilei/work2/fschuller/data/STIX-maps/2023-03-22T23:16_2303223740_No-SAS_mem.fits']\n",
      "Light travel time correction: 256.719846366 s\n",
      "Downloading AIA image...\n",
      "Export request pending. [id=JSOC_20230728_4259, status=2]\n",
      "Waiting for 0 seconds...\n",
      "Export request pending. [id=JSOC_20230728_4259, status=1]\n",
      "Waiting for 5 seconds...\n",
      "Export request pending. [id=JSOC_20230728_4259, status=1]\n",
      "Waiting for 5 seconds...\n",
      "Export request pending. [id=JSOC_20230728_4259, status=1]\n",
      "Waiting for 5 seconds...\n",
      "Export request pending. [id=JSOC_20230728_4259, status=1]\n",
      "Waiting for 5 seconds...\n",
      "Export request pending. [id=JSOC_20230728_4259, status=1]\n",
      "Waiting for 5 seconds...\n",
      "1 URLs found for download. Full request totalling 12MB\n"
     ]
    },
    {
     "data": {
      "application/vnd.jupyter.widget-view+json": {
       "model_id": "0f9f61d0b9754ed3995f605c2fca4c38",
       "version_major": 2,
       "version_minor": 0
      },
      "text/plain": [
       "Files Downloaded:   0%|          | 0/1 [00:00<?, ?file/s]"
      ]
     },
     "metadata": {},
     "output_type": "display_data"
    },
    {
     "data": {
      "application/vnd.jupyter.widget-view+json": {
       "model_id": "",
       "version_major": 2,
       "version_minor": 0
      },
      "text/plain": [
       "aia.lev1_uv_24s.2023-03-22T232053Z.1700.image_lev1.fits:   0%|          | 0.00/12.4M [00:00<?, ?B/s]"
      ]
     },
     "metadata": {},
     "output_type": "display_data"
    },
    {
     "name": "stderr",
     "output_type": "stream",
     "text": [
      "/home/fschuller/.local/lib/python3.11/site-packages/astropy/visualization/mpl_normalize.py:179: RuntimeWarning: invalid value encountered in divide\n",
      "  np.true_divide(values, self.vmax - self.vmin, out=values)\n",
      "/home/fschuller/.local/lib/python3.11/site-packages/astropy/visualization/mpl_normalize.py:179: RuntimeWarning: invalid value encountered in divide\n",
      "  np.true_divide(values, self.vmax - self.vmin, out=values)\n"
     ]
    }
   ],
   "source": [
    "for i in range(len(uid)):\n",
    "# start again at 2023-02-09T03:09\n",
    "# for i in range(57,len(uid)):\n",
    "    # Get the parameters for the current flare\n",
    "    this_uid = uid[i]\n",
    "    this_peak_time = peak_times_so[i]\n",
    "    start_time = start_time_so[i][1:]\n",
    "    end_time   = end_time_so[i][1:]\n",
    "    e_low  = energy_low[i]\n",
    "    e_high = energy_high[i]\n",
    "    this_flare_loc = flare_loc_earth_string[i][1:]\n",
    "\n",
    "    if this_uid != '' and e_low != '' and this_flare_loc != 'xxx':\n",
    "        plot_aia_stix_overlay(this_uid, this_peak_time, start_time, end_time, e_low, e_high, this_flare_loc)\n"
   ]
  },
  {
   "cell_type": "code",
   "execution_count": 68,
   "metadata": {},
   "outputs": [
    {
     "name": "stdout",
     "output_type": "stream",
     "text": [
      "2103020009 2021-03-02T23:57 2021-03-02T23:56:40 2021-03-02T23:58:10 4 15 S19E43\n",
      "0\n"
     ]
    }
   ],
   "source": [
    "\n",
    "print(this_uid, this_peak_time, start_time, end_time, e_low, e_high, this_flare_loc)\n",
    "print(i)"
   ]
  },
  {
   "cell_type": "markdown",
   "metadata": {},
   "source": [
    "# The end..."
   ]
  },
  {
   "cell_type": "markdown",
   "metadata": {},
   "source": [
    "## Run one example"
   ]
  },
  {
   "cell_type": "code",
   "execution_count": null,
   "metadata": {},
   "outputs": [],
   "source": [
    "# Define variables of interest\n",
    "peak_time_so = '2022-03-28T17:07'\n",
    "uid          = '2203282347'\n",
    "start_time_so = '2022-03-28T17:05:10'\n",
    "end_time_so  = '2022-03-28T17:07:50'\n",
    "energy_low   = 18.\n",
    "energy_high  = 50.\n",
    "\n",
    "# flare location as seen from Earth\n",
    "flare_loc_earth_string = 'N13W07'\n"
   ]
  },
  {
   "cell_type": "code",
   "execution_count": null,
   "metadata": {},
   "outputs": [],
   "source": [
    "### Another example\n",
    "peak_time_so = '2022-03-02T17:35'\n",
    "uid          = '2203026385'\n",
    "start_time_so = '2022-03-02T17:34:15'\n",
    "end_time_so  = '2022-03-02T17:34:40'\n",
    "energy_low   = 15.\n",
    "energy_high  = 28.\n",
    "flare_loc_earth_string = 'N15E29'\n"
   ]
  },
  {
   "cell_type": "code",
   "execution_count": null,
   "metadata": {},
   "outputs": [],
   "source": [
    "i = 64\n",
    "this_uid = uid[i][1:]\n",
    "e_low  = energy_low[i][1:]\n",
    "e_high = energy_high[i][1:]\n",
    "this_flare_loc = flare_loc_earth_string[i][1:]\n",
    "\n",
    "if this_uid != '' and e_low != '' and this_flare_loc != 'xxx':\n",
    "    print (\"go go\")\n",
    "    print (peak_times_so[i], flare_loc_earth_string[i])\n",
    "\n",
    "    "
   ]
  },
  {
   "cell_type": "code",
   "execution_count": null,
   "metadata": {},
   "outputs": [],
   "source": [
    "coord = flare_coord_to_float(\"S15W29\")\n",
    "p_time = '2022-03-02T17:35'\n",
    "transform_HGS_to_HPC(coord, p_time)\n"
   ]
  },
  {
   "cell_type": "code",
   "execution_count": null,
   "metadata": {},
   "outputs": [],
   "source": [
    "for i in range(1):\n",
    "    this_uid = uid[i]\n",
    "    this_peak_time = peak_times_so[i]\n",
    "    start_time = start_time_so[i][1:]\n",
    "    end_time   = end_time_so[i][1:]\n",
    "    e_low  = energy_low[i]\n",
    "    e_high = energy_high[i]\n",
    "    this_flare_loc = flare_loc_earth_string[i][1:]\n",
    "    print(this_uid)\n",
    "    print(this_peak_time)\n",
    "    print(start_time)\n",
    "    print(end_time)\n",
    "    print(e_low)\n",
    "    print(e_high)\n",
    "    print(this_flare_loc)\n",
    "    "
   ]
  },
  {
   "cell_type": "code",
   "execution_count": null,
   "metadata": {},
   "outputs": [],
   "source": [
    "plot_aia_stix_overlay(this_uid, peak_times_so[i], start_time_so[i], end_time_so[i],\n",
    "                      e_low, e_high, this_flare_loc)\n",
    "\n"
   ]
  }
 ],
 "metadata": {
  "kernelspec": {
   "display_name": "Python 3 (ipykernel)",
   "language": "python",
   "name": "python3"
  },
  "language_info": {
   "codemirror_mode": {
    "name": "ipython",
    "version": 3
   },
   "file_extension": ".py",
   "mimetype": "text/x-python",
   "name": "python",
   "nbconvert_exporter": "python",
   "pygments_lexer": "ipython3",
   "version": "3.11.4"
  }
 },
 "nbformat": 4,
 "nbformat_minor": 2
}
